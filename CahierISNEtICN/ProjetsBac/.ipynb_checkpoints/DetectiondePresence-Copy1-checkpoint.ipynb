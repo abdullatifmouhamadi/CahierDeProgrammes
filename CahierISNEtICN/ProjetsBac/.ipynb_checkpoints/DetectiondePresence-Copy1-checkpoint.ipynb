{
 "cells": [
  {
   "cell_type": "markdown",
   "metadata": {},
   "source": [
    "# La detection de présence\n",
    "\n",
    "[la page du capteur](https://learn.adafruit.com/pir-passive-infrared-proximity-motion-sensor?view=all)\n",
    "\n",
    "[la page utilisée](https://learn.adafruit.com/adafruits-raspberry-pi-lesson-12-sensing-movement) pour mettre en place ce petit programme\n",
    "\n",
    "Pour les leds l'ipynb utilisé est dans la base CahierdeProgrammes \"une led\""
   ]
  },
  {
   "cell_type": "code",
   "execution_count": null,
   "metadata": {},
   "outputs": [],
   "source": [
    " #On imorte la bibliothèque de base de temps, la bibliothèque mraa (compatibilité avec RASPI, Arduino, Intel)\n",
    " #La bibliothèque RPi.GPIO\n",
    "import time\n",
    "import mraa\n",
    "import RPi.GPIO as io\n",
    " # décide d'utiliser les Numé&ro des pin inscrits sur le GPIO   \n",
    "io.setmode(io.BOARD)\n",
    " # on branche le détecteur sur le pin 18\n",
    "\n",
    "pir_pin = 18\n",
    "# On defini le pin 11 pour la led (Rouge)\n",
    "led = mraa.Gpio(11)\n",
    "time.sleep(0.5)\n",
    "#On définit le pin 32 pour la ledverte\n",
    "ledVerte = mraa.Gpio(32)\n",
    "#on place le pin 18 en mode IN    \n",
    "io.setup(pir_pin, io.IN)         \n",
    "#on place le pin 11 et le pin 32 en mode OUT\n",
    "status = led.dir(mraa.DIR_OUT)\n",
    "time.sleep(0.5)\n",
    "statusVert = ledVerte.dir(mraa.DIR_OUT)\n",
    "# Onteste les led   \n",
    "for i in range(5):\n",
    "    status = led.write(1)\n",
    "    time.sleep(0.5)\n",
    "    status = led.write(0)\n",
    "    time.sleep(0.5)\n",
    "    statusVert = ledVerte.write(1)\n",
    "    time.sleep(0.5)\n",
    "    statusVert = ledVerte.write(0)\n",
    "\n",
    "# on attend un signal détecté et on affiche une info et une couleur de led à la façon des entrées/sorties de parking à une seule voie. \n",
    "valeur = 0\n",
    "print(io.input(pir_pin))\n",
    "while True:\n",
    "    if io.input(pir_pin):\n",
    "        status = led.write(1)\n",
    "        statusVert = ledVerte.write(0)\n",
    "        print(\"Il y a quelqu'un !…… \", io.input(pir_pin) ,\"…\",end='')\n",
    "    else:\n",
    "        status = led.write(0)\n",
    "        statusVert = ledVerte.write(1)\n",
    "        print(\"Il n'y a personne !…… \", io.input(pir_pin) ,\"…\",end='')\n",
    "    time.sleep(1.5)"
   ]
  },
  {
   "cell_type": "code",
   "execution_count": null,
   "metadata": {
    "collapsed": true
   },
   "outputs": [],
   "source": [
    "print(\"y a quelqu'un ? \")"
   ]
  },
  {
   "cell_type": "code",
   "execution_count": null,
   "metadata": {
    "collapsed": true
   },
   "outputs": [],
   "source": []
  }
 ],
 "metadata": {
  "kernelspec": {
   "display_name": "Python 3",
   "language": "python",
   "name": "python3"
  },
  "language_info": {
   "codemirror_mode": {
    "name": "ipython",
    "version": 3
   },
   "file_extension": ".py",
   "mimetype": "text/x-python",
   "name": "python",
   "nbconvert_exporter": "python",
   "pygments_lexer": "ipython3",
   "version": "3.5.3"
  }
 },
 "nbformat": 4,
 "nbformat_minor": 2
}
