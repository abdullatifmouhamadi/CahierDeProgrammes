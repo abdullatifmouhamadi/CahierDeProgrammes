{
 "cells": [
  {
   "cell_type": "markdown",
   "metadata": {},
   "source": [
    "![LogoTremplin](images/tremplinColorSmall.png)\n",
    "\n",
    "Cahier d'exercices pour l'enseignement et l'apprentissage de programmation issu de la collection \"Climat et météo tremplin pour l'enseignement des sciences\" (PIA IFÉ ENS de Lyon - Météofrance ENM Toulouse). Le dispositif clef en main repose sur l'utilisation d'une RaspberryPi chargée avec le système d'exploitation Debian enrichi, fourni par le projet. Les sources et les exécutables sont accessibles dans [l'espace collaboratif de la forge github](https://github.com/g-vidal/CahierDeProgrammes); plus d'information sur les [blogs d'accompagnement](http://blog.climatetmeteo.fr/GerardVidal/) systèmes d'exploitation sur [la page des OS  de Raspberries Pi](http://mediaserv.climatetmeteo.fr/images/RaspBerry/DebianStretchPi3/).  Toutes les ressources issues du projet sont fournies sous licence [Creative Commons](https://creativecommons.org/licenses/by-nc/4.0/) ou sous les licences libres d'origine des outils utilisés. Les ressources  du projet peuvent être utilisées dans tout autre environnement compatible.\n",
    "\n",
    "![Licence](images/Licence.jpg)\n",
    "\n",
    "Auteurs : G. Vidal, C-H. Eyraud, E. le Jan\n",
    "\n",
    "------------------------------------------------------------"
   ]
  },
  {
   "cell_type": "markdown",
   "metadata": {},
   "source": [
    "# La detection de présence : Projet EyeKAM\n",
    "\n",
    "Projet conduit par trois élèves au Lycée Camille Saint Saëns, encadrés par Marie Pierre Cribier, Pascal Delacour, Eric Le Jan. \n",
    "\n",
    "[la page du capteur](https://learn.adafruit.com/pir-passive-infrared-proximity-motion-sensor?view=all)\n",
    "\n",
    "le capteur recto et verso\n",
    "\n",
    "|||\n",
    "|:--:|:--:|\n",
    "|![recto](images/capteurPIRmotionFace.png)|![verso](images/capteurPIRmotion.png)| \n",
    "\n",
    "Sitographie : \n",
    "\n",
    "[la page utilisée](https://learn.adafruit.com/adafruits-raspberry-pi-lesson-12-sensing-movement) pour mettre en place ce petit programme\n",
    "\n",
    "[La page utilisée](https://openclassrooms.com/courses/apprenez-a-programmer-en-python/le-temps) pour le module time\n",
    "\n",
    "[La page utilisée](https://docs.python.org/3/library/shutil.html#shutil.copy) pour copier le fichier de capture dans le dossier accessible sur le web.\n",
    "\n",
    "[La page utilisée](https://www.developpez.net/forums/d1341218/autres-langages/python-zope/general-python/interrompre-boucle-while-l-appuie-d-touche/) pour interrompre proprement le kernel.\n",
    "\n",
    "Pour les leds l'ipynb utilisé est dans la base CahierDeProgrammes puis dans JeuxDeLumiere \"une led\"\n",
    "\n",
    "Les élèves disposent d'une Raspbery Pi3 d'une bredboard du capteur de mouvement, un capteur de température et un capteur de lumière. "
   ]
  },
  {
   "cell_type": "markdown",
   "metadata": {},
   "source": [
    "## Une première approche : Détecter la présence en allumant des leds et afficher une information\n",
    "\n",
    "L'objectif poursuivi est faire de comprendre qu'il faut une interraction entre la Raspi et l'environnement. \n",
    "Le projet doit contenir du code python, on ne peut donc pas se contenter de récupérer le flux streamé de la raspi.\n",
    "\n",
    "Le premier programme permet de tester l'allumage et l'extinction des leds rouge et verte.\n",
    "\n",
    "Le second programme tourne en boucle l'arrêt se produit à l'interruption du kernel. Le capteur est alimenté en 5 V via le T cobbler sur le bredboard."
   ]
  },
  {
   "cell_type": "markdown",
   "metadata": {},
   "source": [
    "## Test des leds\n",
    "\n",
    "Une led verte et une led rouge sont mises en oeuvre.\n",
    "Les numéro des pins correspondent à ceux indiqués sur le T Cobbler GPIO Extension Board."
   ]
  },
  {
   "cell_type": "code",
   "execution_count": null,
   "metadata": {
    "collapsed": true
   },
   "outputs": [],
   "source": [
    "#test de l'alumage des leds rouges et vertes\n",
    "#On importe la bibliothèque de base de temps, la bibliothèque mraa (compatibilité avec RASPI, Arduino, Intel)\n",
    "import time\n",
    "import mraa\n",
    "# On defini le pin 11 pour la led (Rouge)\n",
    "led = mraa.Gpio(11)\n",
    "time.sleep(0.2)\n",
    "#On définit le pin 32 pour la ledverte\n",
    "ledVerte = mraa.Gpio(32)\n",
    "time.sleep(0.2)\n",
    "#on définit les pin en sortie\n",
    "status = led.dir(mraa.DIR_OUT)\n",
    "time.sleep(0.3)\n",
    "statusVert = ledVerte.dir(mraa.DIR_OUT)\n",
    "time.sleep(0.3)\n",
    "#On crée une fonction pour le test (clignotement alterné de 0,5 secondes)\n",
    "def testclignotant():\n",
    "    for i in range(5):\n",
    "        status = led.write(1)\n",
    "        time.sleep(0.5)\n",
    "        status = led.write(0)\n",
    "        time.sleep(0.5)\n",
    "        statusVert = ledVerte.write(1)\n",
    "        time.sleep(0.5)\n",
    "        statusVert = ledVerte.write(0)"
   ]
  },
  {
   "cell_type": "markdown",
   "metadata": {},
   "source": [
    "## Lancement de la fonction clignottement."
   ]
  },
  {
   "cell_type": "code",
   "execution_count": null,
   "metadata": {
    "collapsed": true
   },
   "outputs": [],
   "source": [
    "testclignotant()"
   ]
  },
  {
   "cell_type": "markdown",
   "metadata": {},
   "source": [
    "## Une solution pour arrêter le programme \n",
    "\n",
    "Le bouton d'interruption du kernel stoppe le compte. "
   ]
  },
  {
   "cell_type": "code",
   "execution_count": null,
   "metadata": {
    "collapsed": true,
    "scrolled": true
   },
   "outputs": [],
   "source": [
    "import time\n",
    "import os\n",
    "def arret():\n",
    "    print(\" pour arrêter cliquez sur le bouton d'interruption\") \n",
    "    x = 0\n",
    "    while 1:\n",
    "        try:\n",
    "            x += 1\n",
    "            time.sleep(2)\n",
    "        except KeyboardInterrupt:\n",
    "            print ('Arrêté à :', time.strftime(\"%A %d %B %Y %H:%M:%S\"), \"avec x = \",x)\n",
    "            break"
   ]
  },
  {
   "cell_type": "code",
   "execution_count": null,
   "metadata": {
    "collapsed": true
   },
   "outputs": [],
   "source": [
    "#pour arrêter le décompte cliquez sur le bouton d'interruption\n",
    "\n",
    "arret()"
   ]
  },
  {
   "cell_type": "markdown",
   "metadata": {},
   "source": [
    "## Test du fonctionnement du détecteur de mouvement\n",
    "\n",
    "On place le détecteur sur le pin 18.\n",
    "Ce pin est défini en entrée. \n",
    "\n",
    "On va utiliser la fonction read pour informer de la présence ou non d'une personne dans la pièce.\n",
    "\n",
    "On teste en important un nombre et une fréquence des mesures.\n",
    "\n",
    "On arrête le programme avec le bouton d'interruption.\n"
   ]
  },
  {
   "cell_type": "code",
   "execution_count": null,
   "metadata": {
    "collapsed": true
   },
   "outputs": [],
   "source": [
    "#On importe la bibliothèque de base de temps, la bibliothèque mraa (compatibilité avec RASPI, Arduino, Intel)\n",
    "import time\n",
    "import mraa\n",
    "# On defini le pin 11 pour la led Rouge\n",
    "led = mraa.Gpio(11)\n",
    "time.sleep(0.2)\n",
    "#On définit le pin 32 pour la led Verte\n",
    "ledVerte = mraa.Gpio(32)\n",
    "time.sleep(0.2)\n",
    "#on définit les pin en sortie\n",
    "status = led.dir(mraa.DIR_OUT)\n",
    "time.sleep(0.3)\n",
    "statusVert = ledVerte.dir(mraa.DIR_OUT)\n",
    "time.sleep(0.3)\n",
    "#on place le detecteur sur le pin 18  \n",
    "pir = mraa.Gpio(18)\n",
    "#on place le pin 18 en mode IN\n",
    "statuspir = pir.dir(mraa.DIR_IN)\n",
    "\n",
    "# on attend un signal détecté et on affiche une info et une couleur de led à la façon des entrées/sorties de parking à une seule voie. \n",
    "      \n",
    "etatpir = 0\n",
    "print(\"Appuyez sur le bouton d'interruption pour arrêter la détection avant la fin des mesures\")\n",
    "while 1:\n",
    "    try:\n",
    "        NbreDeMesures = int(input(\"entrez le nombre de mesures souhaitées :\"))\n",
    "        FrequenceDesMesures = int(input(\"entrez l'intervalle entre 2 mesures en secondes\"))\n",
    "        for i in range(NbreDeMesures):\n",
    "            etatpir = pir.read()\n",
    "            if etatpir == -1:\n",
    "                etatpir = 0\n",
    "            elif etatpir == 1:\n",
    "                print(\"il y a quelqu'un ! …\",pir.read(),\"…\",end='')\n",
    "                statusVert = ledVerte.write(0)\n",
    "                status = led.write(1)\n",
    "                time.sleep(FrequenceDesMesures)    \n",
    "            else:\n",
    "                print(\"il n'y a persone ! …\",pir.read(),\"…\",end='')\n",
    "                status = led.write(0)\n",
    "                statusVert = ledVerte.write(1)\n",
    "                time.sleep(FrequenceDesMesures)\n",
    "\n",
    "    except KeyboardInterrupt:\n",
    "        print(\"\")\n",
    "        print(\"\")\n",
    "        print ('Arrêté à :', time.strftime(\"%A %d %B %Y %H:%M:%S\"), \"avec etat du détecteur = \",pir.read())\n",
    "        status = led.write(0)\n",
    "        statusVert = ledVerte.write(0)\n",
    "        break    "
   ]
  },
  {
   "cell_type": "markdown",
   "metadata": {},
   "source": [
    "## Capture d'une photo avec la picam\n",
    "\n",
    "Il s'agit ici de capturer une image jpeg, de la déplacer dans le dossier prévu sur la RASPI qui permet de la visualiser en pointant dessus depuis le navigateur. \n",
    "\n",
    "Quelques étapes préalables : \n",
    "\n",
    "- créer la hiérarchie de dossier sites/media/images/ dans le dossier /var/www/html/\n",
    "\n",
    "- Donner tous les droits à tout le monde sur le dossier media (dans un premier temps) \n",
    "\n",
    "- régler le timelaps pour les captures (exprimé en secondes) \n",
    "\n",
    "- régler le nombre de captures souhaitées (entier compris entre 1 et 20) (pas de vérification pour l'instant)\n"
   ]
  },
  {
   "cell_type": "code",
   "execution_count": null,
   "metadata": {
    "collapsed": true
   },
   "outputs": [],
   "source": [
    "from time import *\n",
    "from picamera import PiCamera\n",
    "import shutil\n",
    "import os\n",
    "FrequenceCapture = int(input(\"saisissez la fréquence des captures en secondes entre 1 et 20 secondes : \" ))\n",
    "while FrequenceCapture >20 or FrequenceCapture <1 :\n",
    "    FrequenceCapture = int(input(\"saisissez la fréquence des captures en secondes entre 1 et 20 secondes : \" ))\n",
    "NombreDeCaptures = int(input(\"saisissez le nombre de captures souhaitées entre 1 et 4: \"))\n",
    "while NombreDeCaptures >4 or NombreDeCaptures <1 :\n",
    "    NombreDeCaptures = int(input(\"saisissez le nombre de captures entre 1 et 4 : \" ))\n",
    "camera = PiCamera()\n",
    "camera.resolution = (400, 300)\n",
    "camera.start_preview()\n",
    "# Camera warm-up time\n",
    "sleep(2)\n",
    "u=0\n",
    "for i in range(NombreDeCaptures):\n",
    "    u = str(i)+'.jpg'\n",
    "    print(u)\n",
    "    camera.capture(u)\n",
    "    shutil.copy(u,'/var/www/html/sites/media/images/', follow_symlinks=True)\n",
    "    sleep(FrequenceCapture)\n",
    "camera.stop_preview()\n",
    "camera.close()"
   ]
  },
  {
   "cell_type": "markdown",
   "metadata": {},
   "source": [
    "# Affichage des images capturées : essai en markdown \n",
    "\n",
    "Il faut accéder au répertoire de la raspi qui contient les images. Une façon simple est d'utiliser nginx et donc de pointer sur un répertoire en lecture pour tous situé dans l'espace var/www/\n",
    "\n",
    "Il faut naturellement utiliser l'IP de la raspi sur le réseau sur lequel on est aussi, ou si on est à l'extérieur utiliser une connexion VPN pour accéder au réseau de la RASPI.\n",
    "\n",
    "L'exemple ci-dessous utilise la localisation dans l'espace de publication de ce cahier.\n",
    "\n",
    "|images|images|\n",
    "|:---:|:---:|\n",
    "|![image test](images/tremplinColorSmall.png)|![image test](images/tremplinColorSmall.png) |\n",
    "|![image test](images/tremplinColorSmall.png)|![image test](images/tremplinColorSmall.png) |"
   ]
  },
  {
   "cell_type": "markdown",
   "metadata": {},
   "source": [
    "# Affichage en utilisant un champ python et l'interprétation du html :\n",
    "\n",
    "on peut appeler une fonction de python qui interprète le langage html.\n",
    "\n",
    "ici encore le code doit être adapté pour que l'adresse de l'image soit celle qui correspond au lieu de l'enregistrement sur la raspi."
   ]
  },
  {
   "cell_type": "code",
   "execution_count": 2,
   "metadata": {},
   "outputs": [
    {
     "data": {
      "text/html": [
       "<p>insertion image</p>\n",
       "<center>\n",
       "<table align=\"center\" border=\"2\" cellpadding=\"2\" cellspacing=\"2\" style=\"height:100px;width:500px;\">\n",
       "\t<caption>Captures</caption>\n",
       "\t<tbody>\n",
       "\t\t<tr>\n",
       "\t\t\t<td><img alt=\"\" src=\"images/tremplinColorSmall.png\" style=\"border-width: 2px; border-style: solid; margin: 2px; width: 400px; height: 200px;\" /></td>\n",
       "\t\t\t<td><img alt=\"\" src=\"images/tremplinColorSmall.png\" style=\"border-width: 2px; border-style: solid; margin: 2px; width: 400px; height: 200px;\" /></td>\n",
       "\t\t</tr>\n",
       "\t\t<tr>\n",
       "\t\t\t<td><img alt=\"\" src=\"images/tremplinColorSmall.png\" style=\"border-width: 2px; border-style: solid; margin: 2px; width: 400px; height: 200px;\" /></td>\n",
       "\t\t\t<td><img alt=\"\" src=\"images/tremplinColorSmall.png\" style=\"border-width: 2px; border-style: solid; margin: 2px; width: 400px; height: 200px;\" /></td>\n",
       "\t\t</tr>\n",
       "\t</tbody>\n",
       "</table>\n",
       "</center>\n",
       "<center>&nbsp;</center>\n",
       "\n",
       "<center>&nbsp;</center>\n",
       "\n",
       "<p>&nbsp;</p>"
      ],
      "text/plain": [
       "<IPython.core.display.HTML object>"
      ]
     },
     "metadata": {},
     "output_type": "display_data"
    }
   ],
   "source": [
    "%%html\n",
    "<p>insertion image</p>\n",
    "<center>\n",
    "<table align=\"center\" border=\"2\" cellpadding=\"2\" cellspacing=\"2\" style=\"height:100px;width:500px;\">\n",
    "\t<caption>Captures</caption>\n",
    "\t<tbody>\n",
    "\t\t<tr>\n",
    "\t\t\t<td><img alt=\"\" src=\"images/tremplinColorSmall.png\" style=\"border-width: 2px; border-style: solid; margin: 2px; width: 400px; height: 200px;\" /></td>\n",
    "\t\t\t<td><img alt=\"\" src=\"images/tremplinColorSmall.png\" style=\"border-width: 2px; border-style: solid; margin: 2px; width: 400px; height: 200px;\" /></td>\n",
    "\t\t</tr>\n",
    "\t\t<tr>\n",
    "\t\t\t<td><img alt=\"\" src=\"images/tremplinColorSmall.png\" style=\"border-width: 2px; border-style: solid; margin: 2px; width: 400px; height: 200px;\" /></td>\n",
    "\t\t\t<td><img alt=\"\" src=\"images/tremplinColorSmall.png\" style=\"border-width: 2px; border-style: solid; margin: 2px; width: 400px; height: 200px;\" /></td>\n",
    "\t\t</tr>\n",
    "\t</tbody>\n",
    "</table>\n",
    "</center>\n",
    "<center>&nbsp;</center>\n",
    "\n",
    "<center>&nbsp;</center>\n",
    "\n",
    "<p>&nbsp;</p>"
   ]
  },
  {
   "cell_type": "markdown",
   "metadata": {},
   "source": [
    "# On passe maintenant à la capture avec détection et la notification par mail.\n",
    "\n",
    "Il faut enclencher la capture quand le détecteur est à 1 \n",
    "\n",
    "On doit recapturer si le capteur passe de nouveau à 1 \n",
    "\n",
    "Un compteur permet de modifier les noms de fichier de captures\n",
    "\n",
    "On définit la fonction capture.\n",
    "\n",
    "On utilise la fonction SendMail() pour envoyer la capture sur une adresse email.\n",
    "\n",
    "On utilise l'appui sur le bouton interrupt de jupyterhub pour arrêter le programme.\n",
    "\n",
    "On affiche plusieurs infos. "
   ]
  },
  {
   "cell_type": "code",
   "execution_count": null,
   "metadata": {},
   "outputs": [],
   "source": [
    "from picamera import PiCamera\n",
    "import time\n",
    "import shutil\n",
    "import os\n",
    "import mraa\n",
    "import smtplib\n",
    "from email.mime.text import MIMEText\n",
    "from email.mime.image import MIMEImage\n",
    "from email.mime.multipart import MIMEMultipart\n",
    "\n",
    "# On defini le pin 11 pour la led Rouge\n",
    "led = mraa.Gpio(11)\n",
    "time.sleep(0.2)\n",
    "#On définit le pin 32 pour la led Verte\n",
    "ledVerte = mraa.Gpio(32)\n",
    "time.sleep(0.2)\n",
    "#on définit les pin en sortie\n",
    "status = led.dir(mraa.DIR_OUT)\n",
    "time.sleep(0.3)\n",
    "statusVert = ledVerte.dir(mraa.DIR_OUT)\n",
    "time.sleep(0.3)\n",
    "#on place le detecteur sur le pin 18  \n",
    "pir = mraa.Gpio(18)\n",
    "#on place le pin 18 en mode IN\n",
    "statuspir = pir.dir(mraa.DIR_IN)\n",
    "\n",
    "compteur = 0\n",
    "u = 0\n",
    "etatpir = 0\n",
    "chemin = 'chemin'\n",
    "\n",
    "def capture():\n",
    "    camera = PiCamera()\n",
    "    camera.resolution = (400, 300)\n",
    "    camera.start_preview()\n",
    "    # Camera warm-up time\n",
    "    time.sleep(1)\n",
    "    camera.capture(u)\n",
    "    time.sleep(0.5)\n",
    "    shutil.copy(u,'/var/www/html/sites/media/images/', follow_symlinks=True)\n",
    "    camera.stop_preview()\n",
    "    camera.close()\n",
    "\n",
    "def SendMail():\n",
    "    chemin = \"/var/www/html/sites/media/images/\"+u\n",
    "    print(chemin)\n",
    "    img_data = open(chemin, 'rb').read()\n",
    "    msg = MIMEMultipart()\n",
    "    msg['Subject'] = 'Alerte intrusion'\n",
    "    msg['From'] = 'exemple@gmail.com'\n",
    "    msg['To'] = 'exemple@gmail.com , exemple2@mail.fr'\n",
    "    text = MIMEText(\"légende de l'image\")\n",
    "    msg.attach(text)\n",
    "    \n",
    "    image = MIMEImage(img_data, name=os.path.basename(chemin))\n",
    "    msg.attach(image)\n",
    "\n",
    "    s = smtplib.SMTP('smtp.gmail.com', 587)\n",
    "    s.ehlo()\n",
    "    s.starttls()\n",
    "    s.ehlo()\n",
    "    s.login(\"exemple@gmail.com\", \"motdepassedeconnexion\")\n",
    "    s.sendmail(\"from\", \"to\", msg.as_string())\n",
    "    s.quit()\n",
    "\n",
    "\n",
    "while 1:\n",
    "    try:\n",
    "        etatpir = pir.read()\n",
    "        if etatpir == -1:\n",
    "            etatpir = 0\n",
    "        elif etatpir == 1:\n",
    "            statusVert = ledVerte.write(0)\n",
    "            status = led.write(1)\n",
    "            u = str(compteur)+'detect.jpg'\n",
    "            capture()\n",
    "            print(\"il y a quelqu'un ! …\",pir.read(),\"…\",end='')\n",
    "            SendMail()\n",
    "            compteur = compteur + 1\n",
    "            time.sleep(1)    \n",
    "        else:\n",
    "            print(\"il n'y a persone ! …\",pir.read(),\"…\",end='')\n",
    "            status = led.write(0)\n",
    "            statusVert = ledVerte.write(1)\n",
    "            time.sleep(1)\n",
    "\n",
    "    except KeyboardInterrupt:\n",
    "        print(\"\")\n",
    "        print ('Arrêté à :', time.strftime(\"%A %d %B %Y %H:%M:%S\"), \"avec état du détecteur = \",pir.read())\n",
    "        status = led.write(0)\n",
    "        statusVert = ledVerte.write(0)\n",
    "        break    \n",
    "\n",
    "\n",
    "print(\"\")\n",
    "print(\"état du détecteur = \",etatpir)\n",
    "print(\"nombre de détections = \", compteur)"
   ]
  },
  {
   "cell_type": "code",
   "execution_count": null,
   "metadata": {},
   "outputs": [],
   "source": [
    "print(compteur)"
   ]
  },
  {
   "cell_type": "markdown",
   "metadata": {},
   "source": [
    "## On affiche la dernière image capturée\n",
    "\n",
    "Pour la repérer on utilise le dernier état du compteur.\n",
    "\n",
    "|Image de l'intrus|\n",
    "|:---:|\n",
    "|![intrus](images/tremplinColorSmall.png)|"
   ]
  }
 ],
 "metadata": {
  "kernelspec": {
   "display_name": "Python 3",
   "language": "python",
   "name": "python3"
  },
  "language_info": {
   "codemirror_mode": {
    "name": "ipython",
    "version": 3
   },
   "file_extension": ".py",
   "mimetype": "text/x-python",
   "name": "python",
   "nbconvert_exporter": "python",
   "pygments_lexer": "ipython3",
   "version": "3.5.3"
  }
 },
 "nbformat": 4,
 "nbformat_minor": 2
}
