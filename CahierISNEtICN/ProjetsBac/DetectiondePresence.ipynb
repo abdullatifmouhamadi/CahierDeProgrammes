{
 "cells": [
  {
   "cell_type": "markdown",
   "metadata": {},
   "source": [
    "![LogoTremplin](images/tremplinColorSmall.png)\n",
    "\n",
    "Cahier d'exercices pour l'enseignement et l'apprentissage de programmation issu de la collection \"Climat et météo tremplin pour l'enseignement des sciences\" (PIA IFÉ ENS de Lyon - Météofrance ENM Toulouse). Le dispositif clef en main repose sur l'utilisation d'une RaspberryPi chargée avec le système d'exploitation Debian enrichi, fourni par le projet. Les sources et les exécutables sont accessibles dans [l'espace collaboratif de la forge github](https://github.com/g-vidal/CahierDeProgrammes); plus d'information sur les [blogs d'accompagnement](http://blog.climatetmeteo.fr/GerardVidal/) systèmes d'exploitation sur [la page des OS  de Raspberries Pi](http://mediaserv.climatetmeteo.fr/images/RaspBerry/DebianStretchPi3/).  Toutes les ressources issues du projet sont fournies sous licence [Creative Commons](https://creativecommons.org/licenses/by-nc/4.0/) ou sous les licences libres d'origine des outils utilisés. Les ressources  du projet peuvent être utilisées dans tout autre environnement compatible.\n",
    "\n",
    "![Licence](images/Licence.jpg)\n",
    "\n",
    "Auteurs : G. Vidal, C-H. Eyraud, E. le Jan\n",
    "\n",
    "------------------------------------------------------------"
   ]
  },
  {
   "cell_type": "markdown",
   "metadata": {},
   "source": [
    "# La detection de présence : Projet EyeKAM\n",
    "\n",
    "Projet conduit par trois élèves au Lycée Camille Saint Saëns, encadrés par Marie Pierre Cribier, Pascal Delacour, Eric Le Jan. \n",
    "\n",
    "[la page du capteur](https://learn.adafruit.com/pir-passive-infrared-proximity-motion-sensor?view=all)\n",
    "\n",
    "le capteur recto et verso\n",
    "\n",
    "|||\n",
    "|:--:|:--:|\n",
    "|![recto](images/capteurPIRmotionFace.png)|![verso](images/capteurPIRmotion.png)| \n",
    "\n",
    "[la page utilisée](https://learn.adafruit.com/adafruits-raspberry-pi-lesson-12-sensing-movement) pour mettre en place ce petit programme\n",
    "\n",
    "[La page utilisée](https://openclassrooms.com/courses/apprenez-a-programmer-en-python/le-temps) pour le module time\n",
    "\n",
    "[La page utilisée](https://docs.python.org/3/library/shutil.html#shutil.copy) pour copier le fichier de capture dans le dossier accessble sur le web.\n",
    "\n",
    "[La page utilisée](https://www.developpez.net/forums/d1341218/autres-langages/python-zope/general-python/interrompre-boucle-while-l-appuie-d-touche/) pour interrompre proprement le kernel.\n",
    "\n",
    "Pour les leds l'ipynb utilisé est dans la base CahierdeProgrammes \"une led\"\n",
    "\n",
    "Les élèves disposent d'une Raspbery Pi3 d'une bredboard du capteur de mouvement, un capteur de température et un capteur de lumière. "
   ]
  },
  {
   "cell_type": "markdown",
   "metadata": {},
   "source": [
    "## Une première approche : Détecter la présence en allumant des leds et afficher une information\n",
    "\n",
    "L'objectif poursuivi est faire de comprendre qu'il faut une interraction entre la Raspi et l'environnement. \n",
    "Le projet doit contenir du code python, on ne peut donc pas se contenter de récupérer le flux streamé de la raspi.\n",
    "\n",
    "Le premier temps du programme permet de tester l'allumage et l'extinction des leds rouge et verte.\n",
    "\n",
    "Le programme tourne en boucle l'arrêt se produit à l'interruption du kernel. Le capteur est alimenté en 5 V."
   ]
  },
  {
   "cell_type": "code",
   "execution_count": null,
   "metadata": {
    "collapsed": true
   },
   "outputs": [],
   "source": [
    "#On importe la bibliothèque de base de temps, la bibliothèque mraa (compatibilité avec RASPI, Arduino, Intel)\n",
    "#La bibliothèque RPi.GPIO\n",
    "import time\n",
    "import mraa\n",
    "import RPi.GPIO as io\n",
    "# décide d'utiliser les Numé&ro des pin inscrits sur le GPIO   \n",
    "io.setmode(io.BOARD)\n",
    "# on branche le détecteur sur le pin 18\n",
    "pir_pin = 18\n",
    "# On defini le pin 11 pour la led (Rouge)\n",
    "led = mraa.Gpio(11)\n",
    "time.sleep(0.5)\n",
    "#On définit le pin 32 pour la ledverte\n",
    "ledVerte = mraa.Gpio(32)\n",
    "#on place le pin 18 en mode IN    \n",
    "io.setup(pir_pin, io.IN)         \n",
    "#on place le pin 11 et le pin 32 en mode OUT\n",
    "status = led.dir(mraa.DIR_OUT)\n",
    "time.sleep(0.5)\n",
    "statusVert = ledVerte.dir(mraa.DIR_OUT)\n",
    "# Onteste les led   \n",
    "for i in range(5):\n",
    "    status = led.write(1)\n",
    "    time.sleep(0.5)\n",
    "    status = led.write(0)\n",
    "    time.sleep(0.5)\n",
    "    statusVert = ledVerte.write(1)\n",
    "    time.sleep(0.5)\n",
    "    statusVert = ledVerte.write(0)\n",
    "\n",
    "# on attend un signal détecté et on affiche une info et une couleur de led à la façon des entrées/sorties de parking à une seule voie. \n",
    "valeur = 0\n",
    "print(io.input(pir_pin))\n",
    "i=0\n",
    "while True:\n",
    "    if io.input(pir_pin):\n",
    "        status = led.write(1)\n",
    "        statusVert = ledVerte.write(0)\n",
    "        print(\"Il y a quelqu'un !…… \", io.input(pir_pin) ,\"…\",end='')\n",
    "    else:\n",
    "        status = led.write(0)\n",
    "        statusVert = ledVerte.write(1)\n",
    "        print(\"Il n'y a personne !…… \", io.input(pir_pin) ,\"…\",end='')\n",
    "    time.sleep(0.5)\n",
    "    "
   ]
  },
  {
   "cell_type": "markdown",
   "metadata": {},
   "source": [
    "## Une solution pour arrêter le programme \n",
    "\n",
    "Le bouton d'interruption du kernel stoppe le compte. "
   ]
  },
  {
   "cell_type": "code",
   "execution_count": null,
   "metadata": {
    "collapsed": true
   },
   "outputs": [],
   "source": [
    "import time\n",
    "def arrêt():\n",
    "    x = 0\n",
    "    while 1:\n",
    "        try:\n",
    "            x += 1\n",
    "        except KeyboardInterrupt:\n",
    "            print ('Arrêté à :', time.strftime(\"%A %d %B %Y %H:%M:%S\"), \"avec x = \",x)\n",
    "            break\n",
    " \n",
    "arrêt()"
   ]
  },
  {
   "cell_type": "markdown",
   "metadata": {},
   "source": [
    "## Capture d'une photo avec la picam\n",
    "\n",
    "Il s'agit ici de capturer une image jpeg, de la déplacer dans le dossier prévu sur la RASPI qui permet de la visualiser en pointant dessus depuis le navigateur. \n",
    "\n",
    "Quelques étapes préalables : \n",
    "\n",
    "- créer la hiérarchie de dossier sites/media/images/ dans le dossier /var/www/html/\n",
    "\n",
    "- Donner tous les droits à tout le monde sur le dossier media (dans un premier temps) \n",
    "\n",
    "- régler le timelaps pour les captures (exprimé en secondes) \n",
    "\n",
    "- régler le nombre de captures souhaitées (entier compris entre 1 et 20) (pas de vérification pour l'instant)\n"
   ]
  },
  {
   "cell_type": "code",
   "execution_count": 2,
   "metadata": {},
   "outputs": [
    {
     "name": "stdout",
     "output_type": "stream",
     "text": [
      "saisissez la fréquence des captures en secondes entre 1 et 20 secondes : 5\n",
      "saisissez le nombre de captures souhaitées : 4\n"
     ]
    }
   ],
   "source": [
    "from time import *\n",
    "from picamera import PiCamera\n",
    "import shutil\n",
    "import os\n",
    "FrequenceCapture = int(input(\"saisissez la fréquence des captures en secondes entre 1 et 20 secondes : \" ))\n",
    "while FrequenceCapture >20 or FrequenceCapture <1 :\n",
    "    FrequenceCapture = int(input(\"saisissez la fréquence des captures en secondes entre 1 et 20 secondes : \" ))\n",
    "NombreDeCaptures = int(input(\"saisissez le nombre de captures souhaitées : \"))\n",
    "while NombreDeCaptures >4 or NombreDeCaptures <1 :\n",
    "    NombreDeCaptures = int(input(\"saisissez le nombre de captures entre 1 et 4 : \" ))\n",
    "camera = PiCamera()\n",
    "camera.resolution = (400, 300)\n",
    "camera.start_preview()\n",
    "# Camera warm-up time\n",
    "sleep(2)\n",
    "u=0\n",
    "for i in range(NombreDeCaptures):\n",
    "    u = str(i)+'.jpg'\n",
    "#    print(u)\n",
    "    camera.capture(u)\n",
    "    shutil.copy(u,'/var/www/html/sites/media/images/', follow_symlinks=True)\n",
    "    sleep(FrequenceCapture)\n",
    "camera.stop_preview()\n",
    "camera.close()"
   ]
  },
  {
   "cell_type": "markdown",
   "metadata": {},
   "source": [
    "## essai en markdown \n",
    "\n",
    "|images|images|\n",
    "|:---:|:---:|\n",
    "|![image labo](http://172.18.161.5/sites/media/images/0.jpg)|![image labo](http://172.18.161.5/sites/media/images/1.jpg) |\n",
    "|![image labo](http://172.18.161.5/sites/media/images/2.jpg)|![image labo](http://172.18.161.5/sites/media/images/3.jpg) |"
   ]
  },
  {
   "cell_type": "code",
   "execution_count": null,
   "metadata": {
    "collapsed": true
   },
   "outputs": [],
   "source": [
    "%%html\n",
    "<p>insertion image</p>\n",
    "<center>\n",
    "<table align=\"center\" border=\"2\" cellpadding=\"2\" cellspacing=\"2\" style=\"height:100px;width:500px;\">\n",
    "\t<caption>Captures</caption>\n",
    "\t<tbody>\n",
    "\t\t<tr>\n",
    "\t\t\t<td><img alt=\"\" src=\"http://172.18.161.5/sites/media/images/0.jpg\" style=\"border-width: 2px; border-style: solid; margin: 2px; width: 400px; height: 200px;\" /></td>\n",
    "\t\t\t<td><img alt=\"\" src=\"http://172.18.161.5/sites/media/images/1.jpg\" style=\"border-width: 2px; border-style: solid; margin: 2px; width: 400px; height: 200px;\" /></td>\n",
    "\t\t</tr>\n",
    "\t\t<tr>\n",
    "\t\t\t<td><img alt=\"\" src=\"http://172.18.161.5/sites/media/images/1.jpg\" style=\"border-width: 2px; border-style: solid; margin: 2px; width: 400px; height: 200px;\" /></td>\n",
    "\t\t\t<td><img alt=\"\" src=\"http://172.18.161.5/sites/media/images/3.jpg\" style=\"border-width: 2px; border-style: solid; margin: 2px; width: 400px; height: 200px;\" /></td>\n",
    "\t\t</tr>\n",
    "\t</tbody>\n",
    "</table>\n",
    "</center>\n",
    "<center>&nbsp;</center>\n",
    "\n",
    "<center>&nbsp;</center>\n",
    "\n",
    "<p>&nbsp;</p>"
   ]
  },
  {
   "cell_type": "markdown",
   "metadata": {},
   "source": [
    "# Envoyer un mail \n",
    "\n",
    "Pour alerter sur la présence, envoie de la dernière image."
   ]
  },
  {
   "cell_type": "code",
   "execution_count": 3,
   "metadata": {},
   "outputs": [
    {
     "data": {
      "text/plain": [
       "(221, b'2.0.0 closing connection e202sm11207016wma.43 - gsmtp')"
      ]
     },
     "execution_count": 3,
     "metadata": {},
     "output_type": "execute_result"
    }
   ],
   "source": [
    "import smtplib\n",
    " \n",
    "server = smtplib.SMTP('smtp.gmail.com', 587)\n",
    "server.starttls()\n",
    "server.login(\"compte@gmail.com\", \"motdepasseenclair\")\n",
    " \n",
    "msg = \"test depuis raspi\"\n",
    "server.sendmail(\"eric.lejan@gmail.com\", \"eric.lejan@mac.com\", msg)\n",
    "server.quit()"
   ]
  },
  {
   "cell_type": "code",
   "execution_count": 16,
   "metadata": {},
   "outputs": [],
   "source": [
    "import os\n",
    "import smtplib\n",
    "from email.mime.text import MIMEText\n",
    "from email.mime.image import MIMEImage\n",
    "from email.mime.multipart import MIMEMultipart\n",
    "\n",
    "\n",
    "def SendMail():\n",
    "    img_data = open(\"/var/www/html/sites/media/images/3.jpg\", 'rb').read()\n",
    "    msg = MIMEMultipart()\n",
    "    msg['Subject'] = 'test from raspi'\n",
    "    msg['From'] = 'eric.lejan@gmail.com'\n",
    "    msg['To'] = 'eric.lejan@mac.com'\n",
    "\n",
    "    text = MIMEText(\"essai de piece jointe\")\n",
    "    msg.attach(text)\n",
    "    image = MIMEImage(img_data, name=os.path.basename(\"/var/www/html/sites/media/images/3.jpg\"))\n",
    "    msg.attach(image)\n",
    "\n",
    "    s = smtplib.SMTP('smtp.gmail.com', 587)\n",
    "    s.ehlo()\n",
    "    s.starttls()\n",
    "    s.ehlo()\n",
    "    s.login(\"compte@gmail.com\", \"motdepasseenclair\")\n",
    "    s.sendmail(\"from\", \"to\", msg.as_string())\n",
    "    s.quit()"
   ]
  },
  {
   "cell_type": "code",
   "execution_count": 17,
   "metadata": {},
   "outputs": [],
   "source": [
    "SendMail()"
   ]
  },
  {
   "cell_type": "markdown",
   "metadata": {},
   "source": [
    "## On déclenche la capture quand le détecteur perçoit une présence. \n",
    "\n",
    "Rem : Ce programme plante car la version de l'image contient une erreur, elle est corrigée dans la dernière version.\n",
    "\n",
    "Pour suivre une des contrainte du projet, les fonctions sont définies. \n",
    "\n",
    "Le champ ci-dessous importe dans le kernel les fonctions detection() capture() et le programme principal main() qui les exploite."
   ]
  },
  {
   "cell_type": "code",
   "execution_count": null,
   "metadata": {
    "collapsed": true
   },
   "outputs": [],
   "source": [
    "#On imorte la bibliothèque de base de temps, la bibliothèque mraa (compatibilité avec RASPI, Arduino, Intel)\n",
    "#La bibliothèque RPi.GPIO\n",
    "#la bibliothèque shutil pour gérer les fichiers\n",
    "#la bibliothèque os pour le principe\n",
    "#la bibliothèque picamera\n",
    "\n",
    "import time\n",
    "import mraa\n",
    "import shutil\n",
    "import os\n",
    "from picamera import PiCamera\n",
    "import RPi.GPIO as io\n",
    "\n",
    "# On décide d'utiliser les Numéro des pin inscrits sur le GPIO   \n",
    "io.setmode(io.BOARD)\n",
    "\n",
    "# on branche le détecteur PIR sur le pin 18\n",
    "\n",
    "pir_pin = 18\n",
    "# On defini le pin 11 pour la led (Rouge)\n",
    "led = mraa.Gpio(11)\n",
    "time.sleep(0.5)\n",
    "#On définit le pin 32 pour la ledverte\n",
    "ledVerte = mraa.Gpio(32)\n",
    "#on place le pin 18 en mode IN    \n",
    "io.setup(pir_pin, io.IN)         \n",
    "#on place le pin 11 et le pin 32 en mode OUT\n",
    "status = led.dir(mraa.DIR_OUT)\n",
    "time.sleep(0.5)\n",
    "statusVert = ledVerte.dir(mraa.DIR_OUT)\n",
    "\n",
    "def capture():\n",
    "    from picamera import PiCamera\n",
    "    from time import sleep\n",
    "    camera = PiCamera()\n",
    "    camera.resolution = (1024, 768)\n",
    "    camera.start_preview()\n",
    "    # Camera warm-up time\n",
    "    sleep(2)\n",
    "    camera.capture('foo2.jpg')\n",
    "    sleep(0.5)\n",
    "    shutil.copy('foo2.jpg','/var/www/html/sites/media/images/foo2bis.jpg', follow_symlinks=True)\n",
    "\n",
    "def Capture():\n",
    "    \n",
    "def detection():\n",
    "    while True:\n",
    "        if io.input(pir_pin):\n",
    "            status = led.write(1)\n",
    "            statusVert = ledVerte.write(0)\n",
    "            print(\"Il y a quelqu'un !…… \", io.input(pir_pin) ,\"…\",end='')\n",
    "            capture()\n",
    "        else:\n",
    "            status = led.write(0)\n",
    "            statusVert = ledVerte.write(1)\n",
    "            print(\"Il n'y a personne !…… \", io.input(pir_pin) ,\"…\",end='')\n",
    "        time.sleep(1)\n",
    "\n",
    "\n",
    "def main():\n",
    "    while 1:\n",
    "        try:\n",
    "            detection()\n",
    "        except KeyboardInterrupt:\n",
    "            print ('Arrêté à :', time.strftime(\"%A %d %B %Y %H:%M:%S\"))\n",
    "            status = led.write(0)\n",
    "            statusVert = ledVerte.write(0)\n",
    "            break"
   ]
  },
  {
   "cell_type": "code",
   "execution_count": null,
   "metadata": {
    "collapsed": true
   },
   "outputs": [],
   "source": [
    "main()"
   ]
  }
 ],
 "metadata": {
  "kernelspec": {
   "display_name": "Python 3",
   "language": "python",
   "name": "python3"
  },
  "language_info": {
   "codemirror_mode": {
    "name": "ipython",
    "version": 3
   },
   "file_extension": ".py",
   "mimetype": "text/x-python",
   "name": "python",
   "nbconvert_exporter": "python",
   "pygments_lexer": "ipython3",
   "version": "3.5.3"
  }
 },
 "nbformat": 4,
 "nbformat_minor": 2
}
