{
 "cells": [
  {
   "cell_type": "markdown",
   "metadata": {},
   "source": [
    "# Prise en main de la raspberry Pi3 ou Pi3+\n",
    "\n",
    "## Première connexion :\n",
    "\n",
    "Pour parvenir à utiliser la raspberry PI3 sur votre réseau il vous faut la connecter au réseau filaire de votre box. \n",
    "\n",
    "Une fois cela réalisé vous pouvez utiliser un petit logiciel de scan du réseau pour découvrir l'IP que votre BOX lui a donné. \n",
    "\n",
    "Vous pouvez aussi utiliser un câble hdmi pour la connecter sur un téléviseur et un clavier USB et une souris USB pour interagir avec le nanoordinateur. \n",
    "\n",
    "Vous pouvez utiliser la session Moon dont le mot de passe est \"guest\" sans les guillemets.\n",
    "\n",
    "Vous pouvez enfin utiliser un client vnc comme [TightVNC Java Viewer](https://www.tightvnc.com/download/2.8.3/tvnjviewer-2.8.3-bin-gnugpl.zip). Une fois installé demandez une nouvelle connexion, le port à saisir est 5901 la session tsuser le mot de passe \"raspife3\" sans les guillemets.\n"
   ]
  },
  {
   "cell_type": "markdown",
   "metadata": {},
   "source": [
    "## Utilisation de Jupyterhub :\n",
    "\n",
    "Ce service est disponible et lancé au démarrage de la raspberry Pi. Vus devez utiliser firefox ou Chrome pour vous connecter à la raspi. \n",
    "\n",
    "l'adresse est : https://IPDeVotreRaspi:8000/\n",
    "\n",
    "Vous allez obtenir une fenêtre de connexion avec login et mot de passe. \n",
    "Connectez vous en moon avec le mot de passe guest. \n",
    "\n",
    "![bannière de login](images/loginJupyterhub.png)\n",
    "\n",
    "Vous disposez du Cahier de Programmes mutualisé par le projet Tremplin. Vous pouvez le mettre à jour en ouvrant une fenêtre de terminal \n",
    "\n",
    "![Menu déroulant \"new\"](images/NewTerminal.png)\n",
    "\n",
    "Dans la fenêtre vérifiez que vous êtes dans le dossier CahierDeProgrammes et une fois que vous y êtes saisissez la l'invite de commande : \n",
    "\n",
    "```\n",
    "raspildfISN0??: git pull\n",
    "\n",
    "```\n",
    "\n",
    "Pour commmencer à travailler, créez un nouveau dossier par exemple \"MiniProjet2\" puis dans ce dossier créez un notebook python3. Vous pouvez commencer à rédiger votre projet en utilisant les champs Markdown pour expliquer ce que vous faites et les champs python pour écrire et exécuter vos programmes.\n"
   ]
  },
  {
   "cell_type": "code",
   "execution_count": null,
   "metadata": {},
   "outputs": [],
   "source": []
  }
 ],
 "metadata": {
  "kernelspec": {
   "display_name": "Python 3",
   "language": "python",
   "name": "python3"
  },
  "language_info": {
   "codemirror_mode": {
    "name": "ipython",
    "version": 3
   },
   "file_extension": ".py",
   "mimetype": "text/x-python",
   "name": "python",
   "nbconvert_exporter": "python",
   "pygments_lexer": "ipython3",
   "version": "3.6.0"
  }
 },
 "nbformat": 4,
 "nbformat_minor": 2
}
