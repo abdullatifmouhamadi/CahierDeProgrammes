{
 "cells": [
  {
   "cell_type": "markdown",
   "metadata": {},
   "source": [
    "![logotremplin.png](images/logotremplin.png)\n",
    "![licence](images/Licence.jpg)\n",
    "\n",
    "## Adaptation spectro : Capteur Adafruit AS7262\n",
    "\n",
    "Utilisation du system STRETCH tremplin sur Rapsberry Pi 2 ou RaspBerry Pi3 B+\n",
    "\n",
    "Le capteur : illustration du site adafruit \n",
    "\n",
    "![spectro6bandes](images/spectro6bandes.jpg)\n",
    "![licence](images/Licence.jpg)\n",
    "\n",
    "Le branchement : illustration du site adafruit\n",
    "\n",
    "![Les branchemets sur le GPIO](images/BranchementsRaspiCapteur.jpg)\n",
    "![licence](images/Licence.jpg)\n",
    "\n",
    "Le principe est de relever le spectre de la lampe qui éclaire le capteur. \n"
   ]
  },
  {
   "cell_type": "markdown",
   "metadata": {},
   "source": [
    "## Import des modules nécessaires au fonctionnement \n",
    "\n",
    "Les modules python doivent être installés préalablement en utilisant la commande \n",
    "\n",
    "```\n",
    "pip3 install adafruit-circuitpython-as726x\n",
    "```\n",
    "ou\n",
    "```\n",
    "pip install adafruit-circuitpython-as726x\n",
    "```\n",
    "si votre installation de python est la version 3 par défaut. \n",
    "\n",
    "Cette étape deviendra inutile lorsque le capteur disposera de sa librairie upm\n"
   ]
  },
  {
   "cell_type": "markdown",
   "metadata": {},
   "source": [
    "## Les fonctions du module Adafruit_AS726x\n",
    "\n",
    "Il suffit de saisir la commande suivante pour disposer de l'ensemble des fonctions accessibles dans la classe qui nous intéresse.\n",
    "\n",
    "```\n",
    "from adafruit_as726x import Adafruit_AS726x\n",
    "help (Adafruit_AS726x)\n",
    "\n",
    "```"
   ]
  },
  {
   "cell_type": "markdown",
   "metadata": {},
   "source": [
    "## Vérification de la température du capteur \n",
    "\n",
    "[Le site adafruit](https://learn.adafruit.com/adafruit-as7262-6-channel-visible-light-sensor/circuitpython-wiring-test) pécise que si la température est comprise en 24 et 32 degrés Celsius, le capteur est correctement utilisé.\n",
    "\n",
    "On peut donc vérifier ce point."
   ]
  },
  {
   "cell_type": "code",
   "execution_count": 11,
   "metadata": {},
   "outputs": [
    {
     "name": "stdout",
     "output_type": "stream",
     "text": [
      "Temperature: 26 °C\n"
     ]
    }
   ],
   "source": [
    "print('Temperature: {0} °C'.format(sensor.temperature))"
   ]
  },
  {
   "cell_type": "markdown",
   "metadata": {
    "collapsed": true
   },
   "source": [
    "## Importation des modules nécessaire\n",
    "\n",
    "À terme c'est un driver upm qui commandera le capteur. En attendant nous utilisons les modules recommandés sur le site ADAFRUIT."
   ]
  },
  {
   "cell_type": "code",
   "execution_count": 3,
   "metadata": {
    "collapsed": true
   },
   "outputs": [],
   "source": [
    "import board\n",
    "import busio\n",
    "from adafruit_as726x import Adafruit_AS726x\n",
    "     \n",
    "i2c = busio.I2C(board.SCL, board.SDA)\n",
    "sensor = Adafruit_AS726x(i2c)"
   ]
  },
  {
   "cell_type": "markdown",
   "metadata": {},
   "source": [
    "## Affichage des valeurs mesurées \n",
    "\n",
    "Affichage sous forme d'une liste."
   ]
  },
  {
   "cell_type": "code",
   "execution_count": 6,
   "metadata": {},
   "outputs": [
    {
     "name": "stdout",
     "output_type": "stream",
     "text": [
      "Intensité du canal  450 nm   violet  : 9944.83984375 UA\n",
      "Intensité du canal  500 nm   bleu  : 858.4832763671875 UA\n",
      "Intensité du canal  550 nm   vert  : 1782.864990234375 UA\n",
      "Intensité du canal  570 nm   jaune  : 1373.642578125 UA\n",
      "Intensité du canal  600 nm   orange  : 2238.48681640625 UA\n",
      "Intensité du canal  650 nm   rouge  : 10916.7890625 UA\n"
     ]
    }
   ],
   "source": [
    "import time\n",
    "sensor.conversion_mode = sensor.MODE_2\n",
    "    \n",
    "canaux=[sensor.violet,sensor.blue,sensor.green,sensor.yellow,sensor.orange,sensor.red]\n",
    "longueurOnde=[\"450 nm\",\"500 nm\",\"550 nm\",\"570 nm\",\"600 nm\",\"650 nm\"]\n",
    "couleur=[\"violet\",\"bleu\",\"vert\",\"jaune\",\"orange\",\"rouge\"]\n",
    "for i in range (6):\n",
    "    while not sensor.data_ready and i <= len(canaux):\n",
    "        time.sleep(.1)\n",
    "    canaux=[sensor.violet,sensor.blue,sensor.green,sensor.yellow,sensor.orange,sensor.red]    \n",
    "    print(\"Intensité du canal \",longueurOnde[i],\" \",couleur[i],\" : {0} UA\".format(canaux[i]))"
   ]
  },
  {
   "cell_type": "markdown",
   "metadata": {},
   "source": [
    "## Affichage des valeurs mesurées\n",
    "\n",
    "Affichage sur le LCD"
   ]
  },
  {
   "cell_type": "code",
   "execution_count": 8,
   "metadata": {
    "collapsed": true
   },
   "outputs": [],
   "source": [
    "#importation des modules et de la librairie upm du LCD\n",
    "import mraa, time\n",
    "from upm import pyupm_jhd1313m1 as jdm\n",
    "\n",
    "bus1 = 0\n",
    "lcdAddress = 0x3E\n",
    "rgbAddress = 0x62\n",
    "\n",
    "lcd = jdm.Jhd1313m1(bus1,lcdAddress,rgbAddress)"
   ]
  },
  {
   "cell_type": "code",
   "execution_count": 10,
   "metadata": {},
   "outputs": [
    {
     "name": "stdout",
     "output_type": "stream",
     "text": [
      "[9943.5888671875, 858.4832763671875, 1779.31103515625, 1373.642578125, 2237.433837890625, 10916.7890625]\n"
     ]
    },
    {
     "data": {
      "text/plain": [
       "0"
      ]
     },
     "execution_count": 10,
     "metadata": {},
     "output_type": "execute_result"
    }
   ],
   "source": [
    "# print(canaux)\n",
    "canauxchaine=str(canaux)\n",
    "print(canauxchaine)\n",
    "lcd.backlightOn()\n",
    "lcd.setColor(148,0,211)\n",
    "lcd.clear()\n",
    "lcd.setCursor(1,16)\n",
    "canaux0=str(canaux[0])\n",
    "lcd.write(canaux0)\n",
    "time.sleep(3)\n",
    "lcd.setColor(0,0,255)\n",
    "lcd.setCursor(1,16)\n",
    "lcd.clear()\n",
    "canaux1=str(canaux[1])\n",
    "lcd.write(canaux1)\n",
    "time.sleep(3)\n",
    "lcd.setColor(0,255,0)\n",
    "lcd.setCursor(1,16)\n",
    "lcd.clear()\n",
    "canaux2=str(canaux[2])\n",
    "lcd.write(canaux2)\n",
    "time.sleep(3)\n",
    "lcd.setColor(255,255,0)\n",
    "lcd.setCursor(1,16)\n",
    "lcd.clear()\n",
    "canaux3=str(canaux[3])\n",
    "lcd.write(canaux3)\n",
    "time.sleep(3)\n",
    "lcd.setColor(255,165,0)\n",
    "lcd.setCursor(1,16)\n",
    "lcd.clear()\n",
    "canaux4=str(canaux[4])\n",
    "lcd.write(canaux4)\n",
    "time.sleep(3)\n",
    "lcd.setColor(255,0,0)\n",
    "lcd.setCursor(1,16)\n",
    "lcd.clear()\n",
    "canaux5=str(canaux[5])\n",
    "lcd.write(canaux5)\n",
    "time.sleep(3)\n",
    "lcd.clear()\n",
    "lcd.backlightOff()"
   ]
  },
  {
   "cell_type": "markdown",
   "metadata": {},
   "source": [
    "## Premier affichage de spectre \n",
    "\n",
    "En lançant le programme ci-dessous vous devriez obtenir un premier affichage des intensité mesurées dans chacun des 6 canaux du spectro.\n",
    "\n",
    "Choisissez un nombre de mesures et un temps de latence en secondes entre 2 mesures qui vous laisse le temps de placer un objet au dessus du capteur.\n",
    "\n",
    "Le caractère \"espace\" est affiché avec un fond évoquant la couleur de sensibilité du canal [lien](https://i.stack.imgur.com/6otvY.png).\n",
    "\n",
    "Les lignes de code ci-dessous permettent de valider le choix des couleurs.\n",
    "\n",
    "Sont intégrées les ligne de code de matplotlib pour un diagramme en baton."
   ]
  },
  {
   "cell_type": "markdown",
   "metadata": {},
   "source": [
    "## Mise en place d'un code couleur pour l'affichage\n",
    "\n",
    "On utilise donc les références de couleurs de fond de texte pour dessiner un spectre en couleur cohérent. "
   ]
  },
  {
   "cell_type": "code",
   "execution_count": 12,
   "metadata": {},
   "outputs": [
    {
     "name": "stdout",
     "output_type": "stream",
     "text": [
      "\u001b[6;39;45m = \u001b[0m\n",
      "\u001b[6;39;44m = \u001b[0m\n",
      "\u001b[6;30;42m = \u001b[0m\n",
      "\u001b[6;29;47m = \u001b[0m\n",
      "\u001b[6;30;43m = \u001b[0m\n",
      "\u001b[6;39;41m = \u001b[0m\n"
     ]
    }
   ],
   "source": [
    "#exemple de bandeau coloré\n",
    "print('\\x1b[6;39;45m' + ' = ' + '\\x1b[0m')\n",
    "print('\\x1b[6;39;44m' + ' = ' + '\\x1b[0m')\n",
    "print('\\x1b[6;30;42m' + ' = ' + '\\x1b[0m')\n",
    "print('\\x1b[6;29;47m' + ' = ' + '\\x1b[0m')\n",
    "print('\\x1b[6;30;43m' + ' = ' + '\\x1b[0m')\n",
    "print('\\x1b[6;39;41m' + ' = ' + '\\x1b[0m')"
   ]
  },
  {
   "cell_type": "markdown",
   "metadata": {},
   "source": [
    "## Utilisation du code couleur et paramétrage de l'affichage de la mesure\n",
    "\n",
    "Une fonction permet de ramener la mesure du capteur dans un affichage de 0 à 100 Unités Arbitraires.\n",
    "On utilise matplotlib pour compléter l'affichage. \n",
    "\n",
    "On permet à l'utilisateur de décider du nombre de mesures et du délai entre deux mesures. \n",
    "L'utilisateur est invité à indiquer le nom de la source lumineuse qui servira de nom de fichier à la sauvéegarde effectuée par matplotlib du graphique. "
   ]
  },
  {
   "cell_type": "code",
   "execution_count": 16,
   "metadata": {},
   "outputs": [
    {
     "name": "stdout",
     "output_type": "stream",
     "text": [
      "Précisez le nombre (entre 1 et 20) de cycles de mesures à réaliser : 2\n",
      "Précisez le temps souhaité en secondes pour le délai entre deux mesures : 5\n",
      "saisissez la source de lumière utilisée : Lampe de bureau puis halogene\n",
      "Lampe de bureau puis halogene\n",
      "[56, 4, 10, 8, 15, 52]\n",
      "\n",
      "\n",
      "\u001b[6;39;45m 450 nm : \u001b[6;39;45m \u001b[6;39;45m \u001b[6;39;45m \u001b[6;39;45m \u001b[6;39;45m \u001b[6;39;45m \u001b[6;39;45m \u001b[6;39;45m \u001b[6;39;45m \u001b[6;39;45m \u001b[6;39;45m \u001b[6;39;45m \u001b[6;39;45m \u001b[6;39;45m \u001b[6;39;45m \u001b[6;39;45m \u001b[6;39;45m \u001b[6;39;45m \u001b[6;39;45m \u001b[6;39;45m \u001b[6;39;45m \u001b[6;39;45m \u001b[6;39;45m \u001b[6;39;45m \u001b[6;39;45m \u001b[6;39;45m \u001b[6;39;45m \u001b[6;39;45m \u001b[6;39;45m \u001b[6;39;45m \u001b[6;39;45m \u001b[6;39;45m \u001b[6;39;45m \u001b[6;39;45m \u001b[6;39;45m \u001b[6;39;45m \u001b[6;39;45m \u001b[6;39;45m \u001b[6;39;45m \u001b[6;39;45m \u001b[6;39;45m \u001b[6;39;45m \u001b[6;39;45m \u001b[6;39;45m \u001b[6;39;45m \u001b[6;39;45m \u001b[6;39;45m \u001b[6;39;45m \u001b[6;39;45m \u001b[6;39;45m \u001b[6;39;45m \u001b[6;39;45m \u001b[6;39;45m \u001b[6;39;45m \u001b[6;39;45m \u001b[6;39;45m \n",
      "\u001b[6;39;44m 500 nm : \u001b[6;39;44m \u001b[6;39;44m \u001b[6;39;44m \u001b[6;39;44m \n",
      "\u001b[6;30;42m 550 nm : \u001b[6;30;42m \u001b[6;30;42m \u001b[6;30;42m \u001b[6;30;42m \u001b[6;30;42m \u001b[6;30;42m \u001b[6;30;42m \u001b[6;30;42m \u001b[6;30;42m \u001b[6;30;42m \n",
      "\u001b[6;29;47m 570 nm : \u001b[6;29;47m \u001b[6;29;47m \u001b[6;29;47m \u001b[6;29;47m \u001b[6;29;47m \u001b[6;29;47m \u001b[6;29;47m \u001b[6;29;47m \n",
      "\u001b[6;30;43m 600 nm : \u001b[6;30;43m \u001b[6;30;43m \u001b[6;30;43m \u001b[6;30;43m \u001b[6;30;43m \u001b[6;30;43m \u001b[6;30;43m \u001b[6;30;43m \u001b[6;30;43m \u001b[6;30;43m \u001b[6;30;43m \u001b[6;30;43m \u001b[6;30;43m \u001b[6;30;43m \u001b[6;30;43m \n",
      "\u001b[6;39;41m 650 nm : \u001b[6;39;41m \u001b[0m\u001b[6;39;41m \u001b[0m\u001b[6;39;41m \u001b[0m\u001b[6;39;41m \u001b[0m\u001b[6;39;41m \u001b[0m\u001b[6;39;41m \u001b[0m\u001b[6;39;41m \u001b[0m\u001b[6;39;41m \u001b[0m\u001b[6;39;41m \u001b[0m\u001b[6;39;41m \u001b[0m\u001b[6;39;41m \u001b[0m\u001b[6;39;41m \u001b[0m\u001b[6;39;41m \u001b[0m\u001b[6;39;41m \u001b[0m\u001b[6;39;41m \u001b[0m\u001b[6;39;41m \u001b[0m\u001b[6;39;41m \u001b[0m\u001b[6;39;41m \u001b[0m\u001b[6;39;41m \u001b[0m\u001b[6;39;41m \u001b[0m\u001b[6;39;41m \u001b[0m\u001b[6;39;41m \u001b[0m\u001b[6;39;41m \u001b[0m\u001b[6;39;41m \u001b[0m\u001b[6;39;41m \u001b[0m\u001b[6;39;41m \u001b[0m\u001b[6;39;41m \u001b[0m\u001b[6;39;41m \u001b[0m\u001b[6;39;41m \u001b[0m\u001b[6;39;41m \u001b[0m\u001b[6;39;41m \u001b[0m\u001b[6;39;41m \u001b[0m\u001b[6;39;41m \u001b[0m\u001b[6;39;41m \u001b[0m\u001b[6;39;41m \u001b[0m\u001b[6;39;41m \u001b[0m\u001b[6;39;41m \u001b[0m\u001b[6;39;41m \u001b[0m\u001b[6;39;41m \u001b[0m\u001b[6;39;41m \u001b[0m\u001b[6;39;41m \u001b[0m\u001b[6;39;41m \u001b[0m\u001b[6;39;41m \u001b[0m\u001b[6;39;41m \u001b[0m\u001b[6;39;41m \u001b[0m\u001b[6;39;41m \u001b[0m\u001b[6;39;41m \u001b[0m\u001b[6;39;41m \u001b[0m\u001b[6;39;41m \u001b[0m\u001b[6;39;41m \u001b[0m\u001b[6;39;41m \u001b[0m\u001b[6;39;41m \u001b[0m\n",
      "\n",
      "\n"
     ]
    },
    {
     "data": {
      "image/png": "[encoded data removed]",
      "text/plain": [
       "<matplotlib.figure.Figure at 0x6fa6cf30>"
      ]
     },
     "metadata": {},
     "output_type": "display_data"
    },
    {
     "data": {
      "image/png": "[encoded data removed]",
      "text/plain": [
       "<matplotlib.figure.Figure at 0x6f8bbe30>"
      ]
     },
     "metadata": {},
     "output_type": "display_data"
    },
    {
     "name": "stdout",
     "output_type": "stream",
     "text": [
      "[1, 2, 8, 5, 3, 2]\n",
      "\n",
      "\n",
      "\u001b[6;39;45m 450 nm : \u001b[6;39;45m \n",
      "\u001b[6;39;44m 500 nm : \u001b[6;39;44m \u001b[6;39;44m \n",
      "\u001b[6;30;42m 550 nm : \u001b[6;30;42m \u001b[6;30;42m \u001b[6;30;42m \u001b[6;30;42m \u001b[6;30;42m \u001b[6;30;42m \u001b[6;30;42m \u001b[6;30;42m \n",
      "\u001b[6;29;47m 570 nm : \u001b[6;29;47m \u001b[6;29;47m \u001b[6;29;47m \u001b[6;29;47m \u001b[6;29;47m \n",
      "\u001b[6;30;43m 600 nm : \u001b[6;30;43m \u001b[6;30;43m \u001b[6;30;43m \n",
      "\u001b[6;39;41m 650 nm : \u001b[6;39;41m \u001b[0m\u001b[6;39;41m \u001b[0m\n",
      "\n",
      "\n"
     ]
    },
    {
     "data": {
      "image/png": "[encoded data removed]",
      "text/plain": [
       "<matplotlib.figure.Figure at 0x6f85b7d0>"
      ]
     },
     "metadata": {},
     "output_type": "display_data"
    }
   ],
   "source": [
    "    import time\n",
    "    import numpy as np\n",
    "    import matplotlib.pyplot as plt\n",
    "    import board\n",
    "    import busio\n",
    "     \n",
    "    from adafruit_as726x import Adafruit_AS726x\n",
    "    \n",
    "    #maximum value for sensor reading\n",
    "    max_val = 16000\n",
    "     \n",
    "    #max number of characters in each graph\n",
    "    max_graph = 100\n",
    "     \n",
    "    def graph_map(x):\n",
    "        return min(int(x * max_graph / max_val), max_graph)\n",
    "    \n",
    "    valeurs=[0]*6\n",
    "    \n",
    "    # Initialize I2C bus and sensor.\n",
    "    i2c = busio.I2C(board.SCL, board.SDA)\n",
    "    sensor = Adafruit_AS726x(i2c)\n",
    "     \n",
    "    sensor.conversion_mode = sensor.MODE_2\n",
    "    \n",
    "    # initialize e nombre de mesures \n",
    "    \n",
    "    mesures = 0\n",
    "    mesures = int(input(\"Précisez le nombre (entre 1 et 20) de cycles de mesures à réaliser : \"))    \n",
    "    \n",
    "    # initialize le délai entre 2 mesures.\n",
    "    delai=0\n",
    "    delai = int(input(\"Précisez le temps souhaité en secondes pour le délai entre deux mesures : \")) \n",
    "    \n",
    "    # Préciser la source de lumière\n",
    "    Source =input(\"saisissez la source de lumière utilisée : \")\n",
    "    print(Source)\n",
    "#    for i in range(mesures):\n",
    "#    while i <= mesures :\n",
    "    valeurs=[graph_map(sensor.violet),graph_map(sensor.blue),graph_map(sensor.green),graph_map(sensor.yellow),graph_map(sensor.orange),graph_map(sensor.red)]\n",
    "    \n",
    "    for i in range(mesures) :  \n",
    "            # Wait for data to be ready\n",
    "        while not sensor.data_ready and i <= mesures:\n",
    "            time.sleep(.1)\n",
    "        valeurs=[graph_map(sensor.violet),graph_map(sensor.blue),graph_map(sensor.green),graph_map(sensor.yellow),graph_map(sensor.orange),graph_map(sensor.red)]\n",
    "        print(valeurs)\n",
    "        #plot plot the data\n",
    "        print(\"\\n\")\n",
    "        print(\"\\x1b[6;39;45m 450 nm : \" + graph_map(sensor.violet)*('\\x1b[6;39;45m' + ' '))\n",
    "        print(\"\\x1b[6;39;44m 500 nm : \" + graph_map(sensor.blue)*('\\x1b[6;39;44m' + ' '))\n",
    "        print(\"\\x1b[6;30;42m 550 nm : \" + graph_map(sensor.green)*('\\x1b[6;30;42m' + ' '))\n",
    "        print(\"\\x1b[6;29;47m 570 nm : \" + graph_map(sensor.yellow)*('\\x1b[6;29;47m' + ' '))\n",
    "        print(\"\\x1b[6;30;43m 600 nm : \" + graph_map(sensor.orange)*('\\x1b[6;30;43m' + ' '))\n",
    "        print(\"\\x1b[6;39;41m 650 nm : \" + graph_map(sensor.red)*('\\x1b[6;39;41m' + ' ' + '\\x1b[0m'))\n",
    "        print(\"\\n\")\n",
    "        time.sleep(delai)\n",
    "        spectrogramme = plt.figure()\n",
    "        x = [450,500,550,570,600,650]\n",
    "        height = valeurs\n",
    "        width = 10.0\n",
    "        plt.bar(x, height, width, color='grey')\n",
    "        plt.grid(True)\n",
    "        plt.savefig('images/' + Source + str(i) +'.png')\n",
    "        plt.show()\n",
    "    \n",
    "        \n",
    "#Affichage d'un diagramme en bâton\n",
    "\n",
    "\n",
    "#spectrogramme = plt.figure()\n",
    "\n",
    "#x = [450,500,550,570,600,650]\n",
    "#height = valeurs\n",
    "#width = 10.0\n",
    "#plt.bar(x, height, width, color='grey')\n",
    "#plt.savefig('images/' + Source + '.png')\n",
    "#plt.show()"
   ]
  },
  {
   "cell_type": "code",
   "execution_count": null,
   "metadata": {
    "collapsed": true
   },
   "outputs": [],
   "source": []
  }
 ],
 "metadata": {
  "kernelspec": {
   "display_name": "Python 3",
   "language": "python",
   "name": "python3"
  },
  "language_info": {
   "codemirror_mode": {
    "name": "ipython",
    "version": 3
   },
   "file_extension": ".py",
   "mimetype": "text/x-python",
   "name": "python",
   "nbconvert_exporter": "python",
   "pygments_lexer": "ipython3",
   "version": "3.5.3"
  }
 },
 "nbformat": 4,
 "nbformat_minor": 2
}
