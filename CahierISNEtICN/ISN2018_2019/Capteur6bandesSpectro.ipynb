{
 "cells": [
  {
   "cell_type": "markdown",
   "metadata": {},
   "source": [
    "![logotremplin.png](images/logotremplin.png)\n",
    "![licence](images/Licence.jpg)\n",
    "\n",
    "## Adaptation spectro : Capteur Adafruit AS7262\n",
    "\n",
    "Utilisation du system STRETCH tremplin sur Rapsberry Pi 2 ou RaspBerry Pi3 B+\n",
    "\n",
    "Le capteur : illustration du site adafruit \n",
    "\n",
    "![spectro6bandes](images/spectro6bandes.jpg)\n",
    "![licence](images/Licence.jpg)\n",
    "\n",
    "Le branchement : illustration du site adafruit\n",
    "\n",
    "![Les branchemets sur le GPIO](images/BranchementsRaspiCapteur.jpg)\n",
    "![licence](images/Licence.jpg)\n",
    "\n",
    "Le principe est de relever le spectre de la lampe qui éclaire le capteur. \n"
   ]
  },
  {
   "cell_type": "markdown",
   "metadata": {},
   "source": [
    "## Import des modules nécessaires au fonctionnement \n",
    "\n",
    "Les modules python doivent être installés préalablement en utilisant la commande \n",
    "\n",
    "```\n",
    "pip3 install adafruit-circuitpython-as726x\n",
    "```\n",
    "ou\n",
    "```\n",
    "pip install adafruit-circuitpython-as726x\n",
    "```\n",
    "si votre installation de python est la version 3 par défaut. \n",
    "\n",
    "Cette étape deviendra inutile lorsque le capteur disposera de sa librairie upm\n"
   ]
  },
  {
   "cell_type": "markdown",
   "metadata": {},
   "source": [
    "## Les fonctions du module Adafruit_AS726x\n",
    "\n",
    "Il suffit de saisir la commande suivante pour disposer de l'ensemble des fonctions accessibles dans la classe qui nous intéresse.\n",
    "\n",
    "```\n",
    "from adafruit_as726x import Adafruit_AS726x\n",
    "help (Adafruit_AS726x)\n",
    "\n",
    "```"
   ]
  },
  {
   "cell_type": "markdown",
   "metadata": {
    "collapsed": true
   },
   "source": [
    "## Importation des modules nécessaire\n",
    "\n",
    "À terme c'est un driver upm qui commandera le capteur. En attendant nous utilisons les modules recommandés sur le site ADAFRUIT."
   ]
  },
  {
   "cell_type": "code",
   "execution_count": 3,
   "metadata": {
    "collapsed": true
   },
   "outputs": [],
   "source": [
    "import board\n",
    "import busio\n",
    "from adafruit_as726x import Adafruit_AS726x\n",
    "     \n",
    "i2c = busio.I2C(board.SCL, board.SDA)\n",
    "sensor = Adafruit_AS726x(i2c)"
   ]
  },
  {
   "cell_type": "markdown",
   "metadata": {},
   "source": [
    "## Affichage des valeurs mesurées \n",
    "\n",
    "Affichage sous forme d'une liste."
   ]
  },
  {
   "cell_type": "code",
   "execution_count": 6,
   "metadata": {},
   "outputs": [
    {
     "name": "stdout",
     "output_type": "stream",
     "text": [
      "Intensité du canal  450 nm   violet  : 9944.83984375 UA\n",
      "Intensité du canal  500 nm   bleu  : 858.4832763671875 UA\n",
      "Intensité du canal  550 nm   vert  : 1782.864990234375 UA\n",
      "Intensité du canal  570 nm   jaune  : 1373.642578125 UA\n",
      "Intensité du canal  600 nm   orange  : 2238.48681640625 UA\n",
      "Intensité du canal  650 nm   rouge  : 10916.7890625 UA\n"
     ]
    }
   ],
   "source": [
    "import time\n",
    "sensor.conversion_mode = sensor.MODE_2\n",
    "    \n",
    "canaux=[sensor.violet,sensor.blue,sensor.green,sensor.yellow,sensor.orange,sensor.red]\n",
    "longueurOnde=[\"450 nm\",\"500 nm\",\"550 nm\",\"570 nm\",\"600 nm\",\"650 nm\"]\n",
    "couleur=[\"violet\",\"bleu\",\"vert\",\"jaune\",\"orange\",\"rouge\"]\n",
    "for i in range (6):\n",
    "    while not sensor.data_ready and i <= len(canaux):\n",
    "        time.sleep(.1)\n",
    "    canaux=[sensor.violet,sensor.blue,sensor.green,sensor.yellow,sensor.orange,sensor.red]    \n",
    "    print(\"Intensité du canal \",longueurOnde[i],\" \",couleur[i],\" : {0} UA\".format(canaux[i]))"
   ]
  },
  {
   "cell_type": "markdown",
   "metadata": {},
   "source": [
    "## Affichage des valeurs mesurées\n",
    "\n",
    "Affichage sur le LCD"
   ]
  },
  {
   "cell_type": "code",
   "execution_count": 8,
   "metadata": {
    "collapsed": true
   },
   "outputs": [],
   "source": [
    "#importation des modules et de la librairie upm du LCD\n",
    "import mraa, time\n",
    "from upm import pyupm_jhd1313m1 as jdm\n",
    "\n",
    "bus1 = 0\n",
    "lcdAddress = 0x3E\n",
    "rgbAddress = 0x62\n",
    "\n",
    "lcd = jdm.Jhd1313m1(bus1,lcdAddress,rgbAddress)"
   ]
  },
  {
   "cell_type": "code",
   "execution_count": 10,
   "metadata": {},
   "outputs": [
    {
     "name": "stdout",
     "output_type": "stream",
     "text": [
      "[9943.5888671875, 858.4832763671875, 1779.31103515625, 1373.642578125, 2237.433837890625, 10916.7890625]\n"
     ]
    },
    {
     "data": {
      "text/plain": [
       "0"
      ]
     },
     "execution_count": 10,
     "metadata": {},
     "output_type": "execute_result"
    }
   ],
   "source": [
    "# print(canaux)\n",
    "canauxchaine=str(canaux)\n",
    "print(canauxchaine)\n",
    "lcd.backlightOn()\n",
    "lcd.setColor(148,0,211)\n",
    "lcd.clear()\n",
    "lcd.setCursor(1,16)\n",
    "canaux0=str(canaux[0])\n",
    "lcd.write(canaux0)\n",
    "time.sleep(3)\n",
    "lcd.setColor(0,0,255)\n",
    "lcd.setCursor(1,16)\n",
    "lcd.clear()\n",
    "canaux1=str(canaux[1])\n",
    "lcd.write(canaux1)\n",
    "time.sleep(3)\n",
    "lcd.setColor(0,255,0)\n",
    "lcd.setCursor(1,16)\n",
    "lcd.clear()\n",
    "canaux2=str(canaux[2])\n",
    "lcd.write(canaux2)\n",
    "time.sleep(3)\n",
    "lcd.setColor(255,255,0)\n",
    "lcd.setCursor(1,16)\n",
    "lcd.clear()\n",
    "canaux3=str(canaux[3])\n",
    "lcd.write(canaux3)\n",
    "time.sleep(3)\n",
    "lcd.setColor(255,165,0)\n",
    "lcd.setCursor(1,16)\n",
    "lcd.clear()\n",
    "canaux4=str(canaux[4])\n",
    "lcd.write(canaux4)\n",
    "time.sleep(3)\n",
    "lcd.setColor(255,0,0)\n",
    "lcd.setCursor(1,16)\n",
    "lcd.clear()\n",
    "canaux5=str(canaux[5])\n",
    "lcd.write(canaux5)\n",
    "time.sleep(3)\n",
    "lcd.clear()\n",
    "lcd.backlightOff()"
   ]
  },
  {
   "cell_type": "code",
   "execution_count": null,
   "metadata": {
    "collapsed": true
   },
   "outputs": [],
   "source": []
  }
 ],
 "metadata": {
  "kernelspec": {
   "display_name": "Python 3",
   "language": "python",
   "name": "python3"
  },
  "language_info": {
   "codemirror_mode": {
    "name": "ipython",
    "version": 3
   },
   "file_extension": ".py",
   "mimetype": "text/x-python",
   "name": "python",
   "nbconvert_exporter": "python",
   "pygments_lexer": "ipython3",
   "version": "3.5.3"
  }
 },
 "nbformat": 4,
 "nbformat_minor": 2
}
