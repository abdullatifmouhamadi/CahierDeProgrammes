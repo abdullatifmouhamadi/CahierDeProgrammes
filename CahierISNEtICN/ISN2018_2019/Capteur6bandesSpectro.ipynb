{
 "cells": [
  {
   "cell_type": "markdown",
   "metadata": {},
   "source": [
    "![logotremplin.png](images/logotremplin.png)\n",
    "![licence](images/Licence.jpg)\n",
    "\n",
    "## Adaptation spectro : Capteur Adafruit AS7262\n",
    "\n",
    "Utilisation du system STRETCH tremplin sur Rapsberry Pi 2 ou RaspBerry Pi3 B+\n",
    "\n",
    "Le capteur : illustration du site adafruit \n",
    "\n",
    "![spectro6bandes](images/spectro6bandes.jpg)\n",
    "![licence](images/Licence.jpg)\n",
    "\n",
    "Le branchement : illustration du site adafruit\n",
    "\n",
    "![Les branchemets sur le GPIO](images/BranchementsRaspiCapteur.jpg)\n",
    "![licence](images/Licence.jpg)\n",
    "\n",
    "Le principe est de relever le spectre de la lampe qui éclaire le capteur. \n"
   ]
  },
  {
   "cell_type": "markdown",
   "metadata": {},
   "source": [
    "## Import des modules nécessaires au fonctionnement \n",
    "\n",
    "Les modules python doivent être installés préalablement en utilisant la commande \n",
    "\n",
    "```\n",
    "pip3 install adafruit-circuitpython-as726x\n",
    "```\n",
    "ou\n",
    "```\n",
    "pip install adafruit-circuitpython-as726x\n",
    "```\n",
    "si votre installation de python est la version 3 par défaut. \n",
    "\n",
    "Cette étape deviendra inutile lorsque le capteur disposera de sa librairie upm\n"
   ]
  },
  {
   "cell_type": "markdown",
   "metadata": {},
   "source": [
    "## Les fonctions du module Adafruit_AS726x\n",
    "\n",
    "Il suffit de saisir la commande suivante pour disposer de l'ensemble des fonctions accessibles dans la classe qui nous intéresse.\n",
    "\n",
    "```\n",
    "from adafruit_as726x import Adafruit_AS726x\n",
    "help (Adafruit_AS726x)\n",
    "\n",
    "```"
   ]
  },
  {
   "cell_type": "code",
   "execution_count": null,
   "metadata": {
    "collapsed": true
   },
   "outputs": [],
   "source": []
  }
 ],
 "metadata": {
  "kernelspec": {
   "display_name": "Python 3",
   "language": "python",
   "name": "python3"
  },
  "language_info": {
   "codemirror_mode": {
    "name": "ipython",
    "version": 3
   },
   "file_extension": ".py",
   "mimetype": "text/x-python",
   "name": "python",
   "nbconvert_exporter": "python",
   "pygments_lexer": "ipython3",
   "version": "3.5.3"
  }
 },
 "nbformat": 4,
 "nbformat_minor": 2
}
