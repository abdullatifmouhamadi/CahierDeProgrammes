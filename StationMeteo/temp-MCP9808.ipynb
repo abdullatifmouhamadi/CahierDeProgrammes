{
 "cells": [
  {
   "cell_type": "markdown",
   "metadata": {},
   "source": [
    "# Découverte  du capteur MCP9808\n",
    "\n",
    "Ce cahier permet de découvrir le capteurMCP9808 qui est un capteur température de précision :\n",
    "\n",
    "\n",
    "Figure du montage :\n",
    "![Licence Charles-Henri Eyraud](images/Licence.jpg)\n",
    "\n",
    "Photo du Montage :\n",
    "![Licence Charles-Henri Eyraud](images/Licence.jpg)\n",
    "\n",
    "\n",
    "## **Bloc1** : déclaration des bibliothèques de programmes et des pilotes de capteurs\n",
    "\n",
    "La première ligne permet d'importer puis d'utiliser les bibliothèques de programmes qui sont utilisés pour interagir avec le capteur. MRAA fournit les programmes de bas niveau alors que UPM fournit les pilotes des capteurs. La seconde ligne  permet d'importer et de renommer la partie de la librairie dédiée au capteur MCP9808 en langage python"
   ]
  },
  {
   "cell_type": "code",
   "execution_count": null,
   "metadata": {},
   "outputs": [],
   "source": [
    "import mraa, upm\n",
    "\n",
    "from upm import pyupm_mcp9808 as mcp"
   ]
  },
  {
   "cell_type": "markdown",
   "metadata": {},
   "source": [
    "## **Bloc2** : déclaration des constantes statiques\n",
    " * adresses du bus et des capteurs utilisés; \n",
    " * adresses de l'altitude du lieu \n",
    " * paramètres de contrôle du capteur de précision \n",
    "\n",
    "Pour plus de précisions voir [site de description du pilote](https://iotdk.intel.com/docs/master/upm/classupm_1_1_m_c_p9808.html)."
   ]
  },
  {
   "cell_type": "code",
   "execution_count": 2,
   "metadata": {},
   "outputs": [],
   "source": [
    "# Constant declarations\n",
    "#----------------------\n",
    "# i2c bus 1 on RaspBerry Pi\n",
    "bus1 = 0\n",
    "mcpAddr = 0x18\n",
    "\n",
    "localAlt = 169 #Altitude de Lyon\n",
    "UPPER_TEMP = 0x02\n",
    "LOWER_TEMP = 0x03\n",
    "CRIT_TEMP = 0x04\n"
   ]
  },
  {
   "cell_type": "markdown",
   "metadata": {},
   "source": [
    "## **Bloc3** : Déclaration du capteur utilisé et choix de son nom : temp."
   ]
  },
  {
   "cell_type": "code",
   "execution_count": 3,
   "metadata": {},
   "outputs": [],
   "source": [
    "# create sensor on the bus 1\n",
    "temp = mcp.MCP9808(bus1,mcpAddr)"
   ]
  },
  {
   "cell_type": "markdown",
   "metadata": {},
   "source": [
    "## **Bloc4** : Acquisition et impression d'une mesure de température"
   ]
  },
  {
   "cell_type": "code",
   "execution_count": null,
   "metadata": {},
   "outputs": [],
   "source": [
    "tempHR = temp.getTemp ()\n",
    "print ('Temp(MCP) : {0:.4f} °C'.format(tempHR))"
   ]
  },
  {
   "cell_type": "markdown",
   "metadata": {},
   "source": [
    "## **Bloc5** : Déclaration des fonctions \n",
    "\n",
    "Lorsqu'on souhaite raliser des séries de mesures pour simplifier le code on utilise des fonctions.\n",
    "\n",
    "Une fonction est un groupe de commandes  utilisées à plusieurs reprises et écrites une seule fois. On les utilise aussi pour structurer ou organiser la programmation."
   ]
  },
  {
   "cell_type": "code",
   "execution_count": 4,
   "metadata": {},
   "outputs": [],
   "source": [
    "# Sensor Functions\n",
    "#---------\n",
    "\n",
    "# MCP9808\n",
    "#********\n",
    "def get_mcpSensor(thisSensor):\n",
    "    unity = thisSensor.isCelsius()\n",
    "    upper = thisSensor.getMonitorReg (UPPER_TEMP)\n",
    "    lower = thisSensor.getMonitorReg (LOWER_TEMP)\n",
    "    critic = thisSensor.getMonitorReg (CRIT_TEMP)\n",
    "    hyst = thisSensor.getHysteresis ()\n",
    "    resol = thisSensor.getResolution ()\n",
    "    idManuf = thisSensor.getManufacturer ()\n",
    "    mcpId = thisSensor.getDevicedId ()\n",
    "    if unity :\n",
    "        print ('We are measuring in Celsius')\n",
    "    else :\n",
    "        print ('We are measuring in Fahrenheit')\n",
    "    print ('\\tLower T° : %.3f\\n'%lower + '\\tUpperT° : %.3f\\n'%upper + '\\tCritical T° : %.3f\\n'%critic)\n",
    "    print ('Hysteresis value : %.3f'%hyst)\n",
    "    print ('Resolution : %.4f'%resol)\n",
    "    print ('Manufacturer Id : %d'%idManuf)\n",
    "    print ('Device Id : %d\\n'%mcpId)\n",
    "    return\n",
    "\n",
    "def mes_mcpTemp(thisSensor):\n",
    "    mcpTemp = thisSensor.getTemp ()\n",
    "    return (mcpTemp)\n",
    "\n",
    "#Activate or test some sensors\n",
    "#---------------------\n",
    "#mcp.shutDown(False)\n"
   ]
  },
  {
   "cell_type": "markdown",
   "metadata": {},
   "source": [
    "## **Bloc6** : Fonction principale comprenant un bloc de dialogue pour recevoir des commandes en ligne"
   ]
  },
  {
   "cell_type": "code",
   "execution_count": 5,
   "metadata": {},
   "outputs": [
    {
     "name": "stdout",
     "output_type": "stream",
     "text": [
      "Instructions :  \t\"start\" pour démarrer les mesures \"check\" pour la maintenance \"exit\" pour sortir.\n",
      "--> start\n",
      "Instructions :  \t\"stop\" pour arrêter les mesures.\n",
      "\n",
      "\t\t\"resetBME\" pour redémarrer le capteur BME280\n",
      "Int. Lum. : \tHumid(BME) : \tTemp(MCP) : \tTemp(BME) :  \tAlt(BME) : \tPress(BME) : \tPress(SealevelBME) : \n",
      "2044.00 L\t\t47.0 %\t\t24.7500 °C\t26.00 °C\t86.48 m\t\\1002.90 hPa\t\t1022.41 hPa\n",
      "2036.00 L\t\t47.2 %\t\t24.7500 °C\t26.01 °C\t86.58 m\t\\1002.89 hPa\t\t1022.40 hPa\n",
      "1984.00 L\t\t47.2 %\t\t24.7500 °C\t26.02 °C\t86.36 m\t\\1002.91 hPa\t\t1022.43 hPa\n",
      "2026.00 L\t\t47.2 %\t\t24.7500 °C\t26.04 °C\t86.50 m\t\\1002.90 hPa\t\t1022.41 hPa\n",
      "2072.00 L\t\t47.1 %\t\t24.7500 °C\t26.06 °C\t86.56 m\t\\1002.89 hPa\t\t1022.40 hPa\n",
      "1992.00 L\t\t47.1 %\t\t24.8125 °C\t26.08 °C\t86.68 m\t\\1002.88 hPa\t\t1022.38 hPa\n",
      "1894.00 L\t\t47.0 %\t\t24.7500 °C\t26.08 °C\t86.50 m\t\\1002.90 hPa\t\t1022.40 hPa\n",
      "1856.00 L\t\t47.0 %\t\t24.8125 °C\t26.09 °C\t86.61 m\t\\1002.88 hPa\t\t1022.39 hPa\n",
      "1800.00 L\t\t46.9 %\t\t24.8125 °C\t26.11 °C\t86.82 m\t\\1002.86 hPa\t\t1022.36 hPa\n",
      "stop\n",
      "1760.00 L\t\t49.1 %\t\t24.8750 °C\t26.13 °C\t86.77 m\t\\1002.87 hPa\t\t1022.37 hPa\n",
      "Arrêt demandé.\n"
     ]
    }
   ],
   "source": [
    "# Main function\n",
    "###############\n",
    "def measureMeteoParams():\n",
    "    nbmes = 0\n",
    "    while True :\n",
    "        option1 = input('Instructions :  \\t\"start\" pour démarrer les mesures \"check\" pour la maintenance \"exit\" pour sortir.\\n--> ')\n",
    "        if option1 == 'exit' :\n",
    "            break\n",
    "        elif option1 == 'start' :\n",
    "            break\n",
    "        elif option1 == 'check' :\n",
    "            option2 = 'ready'\n",
    "            while option2.strip != exit :\n",
    "                option2 = input('Taper \"info\" pour avoir des informations, \"changer\" pour modifier les paramètres des capteurs, \"exit\" pour sortir.\\n---> ')\n",
    "                if option2 == 'exit':\n",
    "                    break\n",
    "                elif option2 == 'info':\n",
    "                    option3 = 4\n",
    "                    while option3 != 0 :\n",
    "                        option3 = input('Informations sur les capteurs : MCP9808 (1) exit (0)\\n----> ')\n",
    "                        if option3 == '0' :\n",
    "                            break\n",
    "                        elif option3 == '1' :\n",
    "                            get_mcpSensor(temp)\n",
    "                        else :\n",
    "                            print ('Code inconnu : %s'%option3)\n",
    "                elif option2 == 'changer' :\n",
    "                    option3 = 3\n",
    "                    while option3 != 0 :\n",
    "                        option3 = input('Changement des paramètres des capteurs :\\n\\tMCP9808-precision (1)\\n\\tMCP9808-hysteresis (2)\\n\\tBME280_mode (3)\\n\\t sortir (0)\\n----> ')\n",
    "                        if option3 == '0' :\n",
    "                            break\n",
    "                        elif option3 == '1' :\n",
    "                            val = input(\"precision value (LOW MED HI MAX) : \")\n",
    "                            if val == 'LOW' :\n",
    "                                temp.setResolution (0x00)\n",
    "                            elif val == 'MED' :\n",
    "                                temp.setResolution (0x01)\n",
    "                            elif val == 'HI' :\n",
    "                                temp.setResolution (0x02)\n",
    "                            elif val == 'MAX' :\n",
    "                                temp.setResolution (0x03)\n",
    "                            else :\n",
    "                                print ('Commande inconnue : \"%s\"\\n'%val)\n",
    "                        elif option3 == '2' :\n",
    "                            val = input(\"Hysteresis value  (HYST_0 HYST_1_5 HYST_3_0 HYST_6_0) : \")\n",
    "                            if val == 'HYST_0' :\n",
    "                                temp.setHysteresis (0x0000)\n",
    "                            elif val == 'HYST_1_5' :\n",
    "                                temp.setHysteresis (0x0002)\n",
    "                            elif val == 'HYST_3_0' :\n",
    "                                temp.setHysteresis (0x0004)\n",
    "                            elif val == 'HYST_6_0' :\n",
    "                                temp.setHysteresis (0x0006)\n",
    "                            else :\n",
    "                                print ('Commande inconnue : \"%s\"\\n'%val)\n",
    "                        else :\n",
    "                            print ('Code inconnu : \"%s\"\\n'%option3)\n",
    "                else :\n",
    "                        print ('Commande inconnue : \"%s\"\\n'%option2)\n",
    "        else :\n",
    "            print ('Commande inconnue : \"%s\"\\n'%option1)\n",
    "# Main loop\n",
    "    if option1.strip() == 'start' :\n",
    "        CheckInput = init_Thread()\n",
    "        while True :\n",
    "            if CheckInput == ['stop']: \n",
    "                print ('Arrêt demandé.')\n",
    "                break\n",
    "            elif CheckInput != [] :\n",
    "                print ('Commande inconnue : \"%s\"\\n'%CheckInput)\n",
    "                thread.start_new_thread(input_thread, (CheckInput,))\n",
    "                del CheckInput[:]\n",
    "            else :\n",
    "                time.sleep (0.5)\n",
    "            tempHR = mes_mcpTemp(temp)\n",
    "            if nbmes == 0 :\n",
    "                print ('Temp(MCP) : ' )\n",
    "                nbmes += 1\n",
    "            elif nbmes == 9 :\n",
    "                nbmes = 0\n",
    "            else :\n",
    "                nbmes += 1\n",
    "            print ('{0:.4f} °C'.format(tempHR))\n",
    "            time.sleep (5)\n",
    "    else :\n",
    "        print ('Bye...')\n",
    "    return\n",
    "\n",
    "measureMeteoParams()\n"
   ]
  }
 ],
 "metadata": {
  "kernelspec": {
   "display_name": "Python 2",
   "language": "python",
   "name": "python2"
  },
  "language_info": {
   "codemirror_mode": {
    "name": "ipython",
    "version": 3
   },
   "file_extension": ".py",
   "mimetype": "text/x-python",
   "name": "python",
   "nbconvert_exporter": "python",
   "pygments_lexer": "ipython3",
   "version": "3.6.3"
  }
 },
 "nbformat": 4,
 "nbformat_minor": 2
}
