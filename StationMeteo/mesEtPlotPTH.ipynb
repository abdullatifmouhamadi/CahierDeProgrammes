{
 "cells": [
  {
   "cell_type": "markdown",
   "metadata": {
    "extensions": {
     "jupyter_dashboards": {
      "version": 1,
      "views": {
       "grid_default": {
        "col": 0,
        "height": 19,
        "hidden": false,
        "row": 0,
        "width": 12
       },
       "report_default": {
        "hidden": true
       }
      }
     }
    }
   },
   "source": [
    "# Mesurer des paramètres météorologiques avec des  capteur Pression-Hygrométrie-Température#\n",
    "\n",
    "Le but de cette activité est d'aborder la programmation d'un nano-ordinateur pilotant des capteurs météorologiques. Dans un premier temps on se concentre ici sur l'initialisation et l'acquision de mesures transmises par un capteur, dans un second temps on abordera la configuration des capteurs afin de servir des objectifs précis. L'outil présenté ici permet d'interagir DIRECTEMENT avec le nano-ordinateur depuis une interface web. Il ne s'agit pas d'une simulation mais d'une situation réelle concrète.\n",
    "Les manipulations sont réalisées avec une série de 3 capteurs Adafruit BME280, MCP9808, MPL3115 connectés sue le bus [i2c]() d'une [Raspberry Pi3] fonctionnant avec une image Debian Stretch [fournie par l'IFÉ ENS de Lyon](), disposant des bibliothèques de programmes INTEL [mraa]() et [upm](). La bibliothèque [mraa]() fournit tous les programmes permettant l'interaction entre la Raspberry et le matériel de connection des capteurs, la bibliothèque [mraa]() fournit les pilotes (avec toutes les fonctions d'interaction) de nombreux capteurs du marché.\n",
    "\n",
    "## Mesurer puis écrire la température en 6 lignes ##\n",
    "\n",
    "Chaque ligne de texte ci-dessous est traduite dans le bloc suivant en une instruction dans un langage interprétable par la machine, à chaque alinéa correspond une instruction, la somme des instructions constitue un programme.\n",
    "\n",
    " * Demander l'utilisation des outils nécessaires, il sagit de deux bibliothèques de programmes de base qui permettent d'interagir et de piloter les capteurs que nous avons choisis. Le nom de ces bibliothèques est mraa et upm (l'instruction est _import_)\n",
    " * parmi tous les pilotes disponibles nous devons utiliser le pilote pyupm_bmp280 (py pour python, upm nom de la librairie, _ séparateur, bme280 nom du capteur)\n",
    " * Déclarer le nom du capteur qu'on va utiliser (on a choisi de l'appeler bme)\n",
    " * Mettre à jour le capteur (on utilise la commande préprogrammée dans le pilote \"update\"), cette opération est nécessaire pour que le capteur puisse faire une nouvelle mesure, sinon le capteur renverra la mesure stockée en mémoire.\n",
    " * Mesurer la température (on utilise la fonction préprogrammée dans le pilote \"getTemperature()\" on a choisi ici d'appeler la température tempBME)\n",
    " * Imprimer la température"
   ]
  },
  {
   "cell_type": "code",
   "execution_count": 1,
   "metadata": {
    "extensions": {
     "jupyter_dashboards": {
      "version": 1,
      "views": {
       "grid_default": {},
       "report_default": {
        "hidden": true
       }
      }
     }
    }
   },
   "outputs": [],
   "source": [
    "import mraa, upm\n",
    "from upm import pyupm_bmp280 as bme280"
   ]
  },
  {
   "cell_type": "markdown",
   "metadata": {
    "extensions": {
     "jupyter_dashboards": {
      "version": 1,
      "views": {
       "grid_default": {},
       "report_default": {
        "hidden": true
       }
      }
     }
    }
   },
   "source": [
    "Le capteur BME280 peut avoir deux adresses suivant les modèles d'implémentation `0x77` ou `0x76`. Si la valeur n'est pas correcte le capteur ne s'initialise pas."
   ]
  },
  {
   "cell_type": "code",
   "execution_count": 4,
   "metadata": {
    "extensions": {
     "jupyter_dashboards": {
      "version": 1,
      "views": {
       "grid_default": {},
       "report_default": {
        "hidden": true
       }
      }
     }
    }
   },
   "outputs": [],
   "source": [
    "addr = 0x77"
   ]
  },
  {
   "cell_type": "code",
   "execution_count": 2,
   "metadata": {
    "extensions": {
     "jupyter_dashboards": {
      "version": 1,
      "views": {
       "grid_default": {},
       "report_default": {
        "hidden": true
       }
      }
     }
    }
   },
   "outputs": [],
   "source": [
    "addr = 0x76"
   ]
  },
  {
   "cell_type": "code",
   "execution_count": 5,
   "metadata": {
    "extensions": {
     "jupyter_dashboards": {
      "version": 1,
      "views": {
       "grid_default": {
        "col": 0,
        "height": 4,
        "hidden": false,
        "row": 19,
        "width": 4
       },
       "report_default": {
        "hidden": true
       }
      }
     }
    }
   },
   "outputs": [
    {
     "name": "stdout",
     "output_type": "stream",
     "text": [
      "26.92 °C\n"
     ]
    }
   ],
   "source": [
    "bme = bme280.BME280(0,addr)\n",
    "bme.update()\n",
    "tempBME = bme.getTemperature()\n",
    "print (\"{0:.2f} °C\".format(tempBME))"
   ]
  },
  {
   "cell_type": "markdown",
   "metadata": {
    "extensions": {
     "jupyter_dashboards": {
      "version": 1,
      "views": {
       "grid_default": {
        "col": 0,
        "height": 9,
        "hidden": false,
        "row": 23,
        "width": 12
       },
       "report_default": {
        "hidden": true
       }
      }
     }
    }
   },
   "source": [
    "## ÉCRIRE LE PROGRAMME POUR LE CAPTEUR mcp9808 \n",
    "\n",
    "Dans le bloc suivant, en vous inspirant du bloc précédent, écrivez le programme qui permet d'obtenir la température à l'aide d'un autre capteur installé sur le même nano-ordinateur. Les éléments suivants fournissent les paramètres nécessaires :\n",
    " * Nom du capteur mcp9808 (au lieu de bmp280)\n",
    " * nom du pilote  pyupm_mcp9808 (au lieu de pyupm_bmp280)\n",
    " * identifiant du capteur MCP9808 (au lieu de BME280)\n",
    " * instruction pour obtenir la température getTemp() (au lieu de getTemperature())\n",
    " * La commande de mise à jour du capteur est inutile sur ce capteur\n",
    " \n",
    "La coloration des mots s'effectue automatiquement, les erreurs d'écriture apparaissent en rouge."
   ]
  },
  {
   "cell_type": "code",
   "execution_count": 3,
   "metadata": {
    "collapsed": true,
    "extensions": {
     "jupyter_dashboards": {
      "version": 1,
      "views": {
       "grid_default": {
        "hidden": true
       },
       "report_default": {
        "hidden": true
       }
      }
     }
    }
   },
   "outputs": [],
   "source": [
    "import mraa, upm\n"
   ]
  },
  {
   "cell_type": "markdown",
   "metadata": {
    "extensions": {
     "jupyter_dashboards": {
      "version": 1,
      "views": {
       "grid_default": {
        "col": 0,
        "height": 8,
        "hidden": false,
        "row": 32,
        "width": 12
       },
       "report_default": {
        "hidden": true
       }
      }
     }
    }
   },
   "source": [
    "## Nommer une _constante_ puis utiliser toutes les capacités du capteur ##\n",
    "\n",
    "Il est utile et efficace de nommer les constantes et les variables qu'on utilise dans un programme. Ici par exemple quand on déclare le capteur bme on utilise le nombre \"0\" dont il est difficile de connaître l'origine et l'usage. Il s'agit  du numéro du \"bus\" sur lequel est connecté notre capteur, il peut y avoir dans ceratins cas plusieurs \"bus\" sur lesquels sont connectés plusieurs capteurs on exprime sur la seconde ligne que le premier bus porte le numéro 0 et sera utilisé pour trouver le capteur bme; bus1 est une _constante_ qui vaut 0.\n",
    "Dans le code précédent tempBME est une _variable_ qui prend la valeur fournie par le capteur BME280 qui mesure la température. Ce capteur est capable de mesurer d'autres grandeurs physiques **variables** : la pression et le pourcentage d'hygrométrie. On peut donc utiliser 3 _variables_ tempBME pour la température, pressBME pour la pression et hygroBME pour l'hygrométrie. On peut choisir le nom que l'on veut pour les variables mais il est d'usage de choisir des noms qui donnent des indications sur leur contenu.\n",
    "On utilise 3 fonctions préprogrammées fournies par le pilote que nous avons choisi.\n",
    "L'instruction d'impression a été augmentée pour afficher les 3 mesures effectuées."
   ]
  },
  {
   "cell_type": "code",
   "execution_count": 6,
   "metadata": {
    "extensions": {
     "jupyter_dashboards": {
      "version": 1,
      "views": {
       "grid_default": {
        "col": 4,
        "height": 4,
        "hidden": false,
        "row": 19,
        "width": 4
       },
       "report_default": {
        "hidden": true
       }
      }
     }
    }
   },
   "outputs": [
    {
     "name": "stdout",
     "output_type": "stream",
     "text": [
      "40.19 %\t\t27.10 °C\t1007.44 hPa\n"
     ]
    }
   ],
   "source": [
    "import mraa, upm\n",
    "from upm import pyupm_bmp280  as bmp280\n",
    "bus1 = 0\n",
    "bme = bmp280.BME280(bus1,addr)\n",
    "bme.update()\n",
    "tempBME = bme.getTemperature()\n",
    "pressBME = bme.getPressure() / 100.0\n",
    "hygroBME = bme.getHumidity()\n",
    "print (\"{0:.2f} %\\t\\t{1:.2f} °C\\t{2:.2f} hPa\".format(hygroBME,tempBME,pressBME))"
   ]
  },
  {
   "cell_type": "markdown",
   "metadata": {
    "extensions": {
     "jupyter_dashboards": {
      "version": 1,
      "views": {
       "grid_default": {
        "col": 0,
        "height": 4,
        "hidden": false,
        "row": 40,
        "width": 12
       },
       "report_default": {
        "hidden": true
       }
      }
     }
    }
   },
   "source": [
    "## Imprimer un commentaire (le nom des variables mesurées) ##\n",
    "\n",
    "M€me si les unités affichées sont une indication sur la grandeur mesurée, il est souhaitable d'indiquer quelle est cette grandeur soit en en-tête des colonnes d'un tableau, soit dans la légende d'un graphique."
   ]
  },
  {
   "cell_type": "code",
   "execution_count": 10,
   "metadata": {
    "extensions": {
     "jupyter_dashboards": {
      "version": 1,
      "views": {
       "grid_default": {
        "col": 8,
        "height": 4,
        "hidden": false,
        "row": 19,
        "width": 4
       },
       "report_default": {
        "hidden": true
       }
      }
     }
    }
   },
   "outputs": [
    {
     "name": "stdout",
     "output_type": "stream",
     "text": [
      "Humidité : \tTempérature : \tPression :\n",
      "23.24 %\t\t28.38 °C\t1008.55 hPa\n"
     ]
    }
   ],
   "source": [
    "import mraa, upm\n",
    "from upm import pyupm_bmp280  as bmp280\n",
    "bus1 = 0\n",
    "bme = bmp280.BME280(bus1,addr)\n",
    "bme.update()\n",
    "tempBME = bme.getTemperature()\n",
    "pressBME = bme.getPressure() / 100.0\n",
    "hygroBME = bme.getHumidity()\n",
    "print ('Humidité : \\tTempérature : \\tPression :')\n",
    "print (\"{0:.2f} %\\t\\t{1:.2f} °C\\t{2:.2f} hPa\".format(hygroBME,tempBME,pressBME))"
   ]
  },
  {
   "cell_type": "markdown",
   "metadata": {
    "extensions": {
     "jupyter_dashboards": {
      "version": 1,
      "views": {
       "grid_default": {
        "col": 0,
        "height": 11,
        "hidden": false,
        "row": 44,
        "width": 12
       },
       "report_default": {
        "hidden": true
       }
      }
     }
    }
   },
   "source": [
    "## Ajouter une fonction pour calculer la pression au niveau de la mer ##\n",
    "\n",
    "La pression atmosphérique en un lieu dépend de son altitude. Pour pouvoir faire de la météorologie ou simplement comparer des mesures faites en différents endroits il faut partager une référence commune et le niveau de la mer est une solution simple et efficace. On convertit donc  notre mesure locale à la valeur qu'elle aurait  si nous étions au niveau de la mer. Il nous faut donc connaître notre altitude et importer des outils mathématiques. pour cela on ajoute la constante localAlt au programme et on importe la bibliothèque d'outils mathématiques de python.\n",
    "Il est probable que nous ayons à réutiliser ce calcul  dans d'autres programmes et il serait malin de pouvoir réutiliser simplement les lignes de code que nous allons écrire. Plutôt que les noyer dans le programme nous allons _définir une fonction_ qui prendra un _paramètre_ (la pression mesurée m_Pressure) et qui nous _retournera_ la valeur à laquelle cette mesure correspond au niveau de la mer (sl_Pressure pour sea-level pressure). Le paramètre est une variable tout comme la valeur retournée.\n",
    "La fonction est appelée ici convertSeaLevel() elle prend comme paramètre la variable mesurée par le capteur pressBME et fournit la variable décrivant  la pression au niveau de la mer seaLevelPress. On voit que les variables _locales_ utilisées par la fonction (m_Pressure, sl_Pressure) n'ont pas forcément le même nom que les variables _globales_ du programme principal (pressBME, seaLevelPress), cela permet de manipuler des noms de variables signifiants et cohérents avec leur contexte. Vous noterez que pouur souligner cette différence le nom des variables _locales à la fonction_ utilisent un système de séparation des mots (des \"\\_\") différent de celui du programme principal ( le CamelCase)."
   ]
  },
  {
   "cell_type": "code",
   "execution_count": 11,
   "metadata": {
    "extensions": {
     "jupyter_dashboards": {
      "version": 1,
      "views": {
       "grid_default": {
        "col": 0,
        "height": 4,
        "hidden": false,
        "row": 55,
        "width": 4
       },
       "report_default": {
        "hidden": true
       }
      }
     }
    }
   },
   "outputs": [
    {
     "name": "stdout",
     "output_type": "stream",
     "text": [
      "Humidité : \tTempérature : \tPression : \tPression(mer) : \n",
      "23.22 %\t\t28.38 °C\t1008.54 hPa\t1027.46 hPa\n"
     ]
    }
   ],
   "source": [
    "import mraa, upm\n",
    "from upm import pyupm_bmp280 as bmp280\n",
    "import math\n",
    "bus1 = 0\n",
    "bme = bmp280.BME280(bus1,addr)\n",
    "localAlt = 156.5\n",
    "# Calcul de la pression au niveau de la mer\n",
    "def convertSeaLevel (m_Pressure):\n",
    "\ts_Pressure = m_Pressure / math.pow(1.0 - localAlt/44330, 5.255)\n",
    "\treturn s_Pressure\n",
    "# fin du calcul\n",
    "bme.update()\n",
    "tempBME = bme.getTemperature()\n",
    "pressBME = bme.getPressure() / 100.0\n",
    "hygroBME = bme.getHumidity()\n",
    "seaLevelPress = convertSeaLevel (pressBME)\n",
    "print ('Humidité : \\tTempérature : \\tPression : \\tPression(mer) : ')\n",
    "print (\"{0:.2f} %\\t\\t{1:.2f} °C\\t{2:.2f} hPa\\t{3:.2f} hPa\".format(hygroBME,tempBME,pressBME,seaLevelPress))"
   ]
  },
  {
   "cell_type": "markdown",
   "metadata": {
    "extensions": {
     "jupyter_dashboards": {
      "version": 1,
      "views": {
       "grid_default": {
        "col": 0,
        "height": 4,
        "hidden": false,
        "row": 59,
        "width": 12
       },
       "report_default": {
        "hidden": true
       }
      }
     }
    }
   },
   "source": [
    "## Écriture des données dans un fichier\n",
    "\n",
    "Création ouverture d'un fichier et écriture des données.\n"
   ]
  },
  {
   "cell_type": "code",
   "execution_count": 5,
   "metadata": {
    "extensions": {
     "jupyter_dashboards": {
      "version": 1,
      "views": {
       "grid_default": {
        "col": 4,
        "height": 4,
        "hidden": false,
        "row": 55,
        "width": 4
       },
       "report_default": {
        "hidden": true
       }
      }
     }
    }
   },
   "outputs": [
    {
     "name": "stdout",
     "output_type": "stream",
     "text": [
      "Humidité : \tTempérature : \tPression : \tPression(mer) : \n",
      "42.42 %\t\t23.29 °C\t994.84 hPa\t1013.51 hPa\n"
     ]
    }
   ],
   "source": [
    "import mraa, upm, math\n",
    "from upm import pyupm_bmp280 as bmp280\n",
    "bus1 = 0\n",
    "dataFile = open('meteo.dat', 'a')\n",
    "bme = bmp280.BME280(bus1,addr)\n",
    "localAlt = 156.5\n",
    "#\n",
    "# Calcul de la pression au niveau de la mer\n",
    "def convertSeaLevel (m_Pressure):\n",
    "\ts_Pressure = m_Pressure / math.pow(1.0 - localAlt/44330, 5.255)\n",
    "\treturn s_Pressure\n",
    "# fin du calcul\n",
    "#\n",
    "bme.update()\n",
    "tempBME = bme.getTemperature()\n",
    "pressBME = bme.getPressure() / 100.0\n",
    "hygroBME = bme.getHumidity()\n",
    "seaLevelPress = convertSeaLevel (pressBME)\n",
    "print ('Humidité : \\tTempérature : \\tPression : \\tPression(mer) : ')\n",
    "s = \"{0:.2f} %\\t\\t{1:.2f} °C\\t{2:.2f} hPa\\t{3:.2f} hPa\".format(hygroBME,tempBME,pressBME,seaLevelPress)\n",
    "print (s)\n",
    "dataFile.write(s)\n",
    "dataFile.close()"
   ]
  },
  {
   "cell_type": "markdown",
   "metadata": {
    "extensions": {
     "jupyter_dashboards": {
      "version": 1,
      "views": {
       "grid_default": {
        "col": 0,
        "height": 10,
        "hidden": false,
        "row": 63,
        "width": 12
       },
       "report_default": {
        "hidden": true
       }
      }
     }
    }
   },
   "source": [
    "## Faire une mesure toutes les 5 secondes ##\n",
    "\n",
    "Lorsque l'on dispose d'un capteur et d'une alimentation suffisante il est bien sûr extrêmement intéressant de faire des mesures **en continu**. En fait on ne peut pas réellement mesurer de façon continue, on effectue des mesures les unes à la suite des autres en ménageant un temps (qui peut êetre très court) entre deux mesures pour transmettre le résultat et permettre au capteur d'être prêt pour la mesure suivante. La valeur du temps de pause est ici de 5 secondes valeur fournie à la fonction sleep (dors pendant....) de la librairie des programmes de gestion du temps (qui est incluse au début du programme).\n",
    "Nous avons vu précédemment comment faire **une** mesure, nous venons de voir comment _ne rien faire_ pendant un temps donné, il nous faut donc enchaîner Mesure->Repos->Mesure->Repos-> c'est ce que l'on appelle une _boucle_. Pour le moment nous ne nous préoccupons pas de savoir comment arrêter les mesures et nous nous lançons dans une _boucle sans fin_; pour cela nous utilisons un _mot réservé_ : \"True\" (qui veut dire vrai) et nous utilisons l'instruction  \"Tant que c'est vrai mesure puis attends 5s et recommence\" comme nous déclarons que c'est vrai et que nous ne touchons pas cette valeur cela reste toujours vrai et on recommence toujours la série \"mesure puis attends 5s\". La _condition_ ayant pour valeur _\"Tant que\"_ que nous avons utilisée se traduit par _while_ et tout ce qui suit les \":\" et est décalé de 4 caractères est répété à l'infini dans l'ordre des lignes."
   ]
  },
  {
   "cell_type": "code",
   "execution_count": 7,
   "metadata": {
    "extensions": {
     "jupyter_dashboards": {
      "version": 1,
      "views": {
       "grid_default": {
        "col": 0,
        "height": 12,
        "hidden": false,
        "row": 73,
        "width": 4
       },
       "report_default": {
        "hidden": true
       }
      }
     }
    },
    "scrolled": true
   },
   "outputs": [
    {
     "name": "stdout",
     "output_type": "stream",
     "text": [
      "Humidité : \tTempérature : \tPression : \tPression(mer) : \n",
      "39.79 %\t\t27.36 °C\t1007.45 hPa\t1026.35 hPa\n",
      "40.00 %\t\t27.37 °C\t1007.45 hPa\t1026.35 hPa\n",
      "39.91 %\t\t27.39 °C\t1007.44 hPa\t1026.34 hPa\n",
      "39.70 %\t\t27.40 °C\t1007.45 hPa\t1026.34 hPa\n",
      "39.54 %\t\t27.41 °C\t1007.44 hPa\t1026.34 hPa\n",
      "39.68 %\t\t27.42 °C\t1007.44 hPa\t1026.34 hPa\n",
      "39.99 %\t\t27.44 °C\t1007.43 hPa\t1026.33 hPa\n",
      "39.86 %\t\t27.46 °C\t1007.45 hPa\t1026.35 hPa\n"
     ]
    },
    {
     "ename": "KeyboardInterrupt",
     "evalue": "",
     "output_type": "error",
     "traceback": [
      "\u001b[0;31m---------------------------------------------------------------------------\u001b[0m",
      "\u001b[0;31mKeyboardInterrupt\u001b[0m                         Traceback (most recent call last)",
      "\u001b[0;32m<ipython-input-7-499c446ae35b>\u001b[0m in \u001b[0;36m<module>\u001b[0;34m()\u001b[0m\n\u001b[1;32m     31\u001b[0m     \u001b[0mss\u001b[0m \u001b[0;34m=\u001b[0m \u001b[0;34m\"{0:.2f} {1:.2f} {2:.2f} {3:.2f} {4:.2f} \\n\"\u001b[0m\u001b[0;34m.\u001b[0m\u001b[0mformat\u001b[0m\u001b[0;34m(\u001b[0m\u001b[0mmestime\u001b[0m\u001b[0;34m,\u001b[0m\u001b[0mhygroBME\u001b[0m\u001b[0;34m,\u001b[0m\u001b[0mtempBME\u001b[0m\u001b[0;34m,\u001b[0m\u001b[0mpressBME\u001b[0m\u001b[0;34m,\u001b[0m\u001b[0mseaLevelPress\u001b[0m\u001b[0;34m)\u001b[0m\u001b[0;34m\u001b[0m\u001b[0m\n\u001b[1;32m     32\u001b[0m     \u001b[0mprint\u001b[0m \u001b[0;34m(\u001b[0m\u001b[0ms\u001b[0m\u001b[0;34m)\u001b[0m\u001b[0;34m\u001b[0m\u001b[0m\n\u001b[0;32m---> 33\u001b[0;31m     \u001b[0mtime\u001b[0m\u001b[0;34m.\u001b[0m\u001b[0msleep\u001b[0m \u001b[0;34m(\u001b[0m\u001b[0mpauseVal\u001b[0m\u001b[0;34m)\u001b[0m\u001b[0;34m\u001b[0m\u001b[0m\n\u001b[0m\u001b[1;32m     34\u001b[0m \u001b[0;34m\u001b[0m\u001b[0m\n\u001b[1;32m     35\u001b[0m     \u001b[0mx\u001b[0m\u001b[0;34m.\u001b[0m\u001b[0mappend\u001b[0m\u001b[0;34m(\u001b[0m\u001b[0mfloat\u001b[0m\u001b[0;34m(\u001b[0m\u001b[0mmestime\u001b[0m\u001b[0;34m)\u001b[0m\u001b[0;34m)\u001b[0m\u001b[0;34m\u001b[0m\u001b[0m\n",
      "\u001b[0;31mKeyboardInterrupt\u001b[0m: "
     ]
    }
   ],
   "source": [
    "%matplotlib notebook\n",
    "\n",
    "import mraa, upm, math, time\n",
    "from upm import pyupm_bmp280 as bmp280\n",
    "\n",
    "from matplotlib import pyplot as plt\n",
    "import numpy as np\n",
    "\n",
    "\n",
    "bus1 = 0\n",
    "pauseVal = 2\n",
    "bme = bmp280.BME280(bus1,addr)\n",
    "localAlt = 156.5\n",
    "x = []; y1 = []; y2 = [] ; y3 = []; y4 = []\n",
    "\n",
    "# Calcul de la pression au niveau de la mer\n",
    "def convertSeaLevel (m_Pressure):\n",
    "\ts_Pressure = m_Pressure / math.pow(1.0 - localAlt/44330, 5.255)\n",
    "\treturn s_Pressure\n",
    "# fin du calcul\n",
    "print ('Humidité : \\tTempérature : \\tPression : \\tPression(mer) : ')\n",
    "#while True :\n",
    "for num in range(0,50):\n",
    "    mestime = num * 2.0\n",
    "    bme.update()\n",
    "    tempBME = bme.getTemperature()\n",
    "    pressBME = bme.getPressure() / 100.0\n",
    "    hygroBME = bme.getHumidity()\n",
    "    seaLevelPress = convertSeaLevel (pressBME)\n",
    "    s = \"{0:.2f} %\\t\\t{1:.2f} °C\\t{2:.2f} hPa\\t{3:.2f} hPa\".format(hygroBME,tempBME,pressBME,seaLevelPress)\n",
    "    ss = \"{0:.2f} {1:.2f} {2:.2f} {3:.2f} {4:.2f} \\n\".format(mestime,hygroBME,tempBME,pressBME,seaLevelPress)\n",
    "    print (s)\n",
    "    time.sleep (pauseVal)\n",
    "\n",
    "    x.append(float(mestime))\n",
    "    y1.append(float(hygroBME))\n",
    "    y2.append(float(tempBME))\n",
    "    y3.append(float(pressBME))\n",
    "    y4.append(float(seaLevelPress))\n",
    "\n",
    "fig = plt.figure()\n",
    "\n",
    "ax1 = fig.add_subplot(221)\n",
    "ax2 = fig.add_subplot(222)\n",
    "ax3 = fig.add_subplot(212)\n",
    "\n",
    "ax1.set_title(\"Mesures Hygro. BME280\")    \n",
    "ax1.set_xlabel('Temps en secondes')\n",
    "ax1.set_ylabel('Valeur mesurée')\n",
    "ax1.set_xlim([0.0, 100.0])\n",
    "ax1.set_ylim([40.0, 45.0])\n",
    "\n",
    "ax1.plot(x,y1, c='r', label='Hygrométrie')\n",
    "\n",
    "ax2.set_title(\"Mesures Temp. BME280\")    \n",
    "ax2.set_xlabel('Temps en secondes')\n",
    "ax2.set_ylabel('Valeur mesurée')\n",
    "ax2.set_xlim([0.0, 100.0])\n",
    "ax2.set_ylim([23.0, 25.0])\n",
    "\n",
    "ax2.plot(x,y2, c='b', label='Température')\n",
    "\n",
    "ax3.set_title(\"Mesures Press. BME280\")    \n",
    "ax3.set_xlabel('Temps en secondes')\n",
    "ax3.set_ylabel('Valeur mesurée')\n",
    "\n",
    "ax3.plot(x,y3, c='g', label='Pression')\n",
    "ax3.plot(x,y4, c='y', label='Niveau de la mer')\n",
    "ax3.set_xlim([0.0, 100.0])\n",
    "ax3.set_ylim([1003.0, 1004.0])\n",
    "\n",
    "\n",
    "leg1 = ax1.legend()\n",
    "leg2 = ax2.legend()\n",
    "leg3 = ax3.legend()\n",
    "\n",
    "plt.tight_layout()\n",
    "plt.show()\n"
   ]
  },
  {
   "cell_type": "markdown",
   "metadata": {
    "extensions": {
     "jupyter_dashboards": {
      "version": 1,
      "views": {
       "grid_default": {
        "col": 0,
        "height": 11,
        "hidden": false,
        "row": 85,
        "width": 12
       },
       "report_default": {
        "hidden": true
       }
      }
     }
    }
   },
   "source": [
    "## Dessin dynamique des 3 paramètres mesurés\n",
    "Ce programme affiche en temps réel dans un graphique la température la pression et l'hygrométrie. Il est composé de 6 blocs qui permettent d'aborder indépendamment chacune des étapes du programme.\n",
    "### première étape : importations de l'environnement et des bibliothèques\n",
    "Ce bloc déclare un environnement graphique utilisant `Matplotlib` et faisant appel aux librairies :\n",
    " * matplotlib\n",
    " * numpy\n",
    " * mraa\n",
    " * upm\n",
    " * math\n",
    " * time"
   ]
  },
  {
   "cell_type": "code",
   "execution_count": 8,
   "metadata": {
    "extensions": {
     "jupyter_dashboards": {
      "version": 1,
      "views": {
       "grid_default": {
        "hidden": true
       },
       "report_default": {
        "hidden": true
       }
      }
     }
    }
   },
   "outputs": [],
   "source": [
    "%matplotlib notebook\n",
    "\n",
    "from matplotlib import pyplot as plt\n",
    "import numpy as np\n",
    "\n",
    "import mraa, upm, math, time\n",
    "from upm import pyupm_bmp280 as bmp280"
   ]
  },
  {
   "cell_type": "markdown",
   "metadata": {
    "extensions": {
     "jupyter_dashboards": {
      "version": 1,
      "views": {
       "grid_default": {
        "col": 0,
        "height": 4,
        "hidden": false,
        "row": 96,
        "width": 12
       },
       "report_default": {
        "hidden": true
       }
      }
     }
    }
   },
   "source": [
    "### Seconde étape : déclaration des variables et des constantes\n",
    "On déclare ici le bus utilisé, l'intervalle de mesure, le nom du capteur utilisé, l'altitude locale et les 4 tableaux qui vont accueillir les mesures."
   ]
  },
  {
   "cell_type": "code",
   "execution_count": 9,
   "metadata": {
    "extensions": {
     "jupyter_dashboards": {
      "version": 1,
      "views": {
       "grid_default": {
        "hidden": true
       },
       "report_default": {
        "hidden": true
       }
      }
     }
    }
   },
   "outputs": [],
   "source": [
    "bus1 = 0\n",
    "addr = 0x77\n",
    "pauseVal = 0.2\n",
    "bme = bmp280.BME280(bus1,addr)\n",
    "localAlt = 156.5\n",
    "x = []; y1 = []; y2 = [] ; y3 = []; y4 = []"
   ]
  },
  {
   "cell_type": "markdown",
   "metadata": {
    "extensions": {
     "jupyter_dashboards": {
      "version": 1,
      "views": {
       "grid_default": {
        "col": 0,
        "height": 4,
        "hidden": false,
        "row": 100,
        "width": 12
       },
       "report_default": {
        "hidden": true
       }
      }
     }
    }
   },
   "source": [
    "### Troisième étape : Création de la figure dans laquelle seront affichées les données\n",
    "Ce bloc met en place une figure avec 3 graphiques, 2 sur la première ligne un sur la seconde. Chacun a un titre un nom pour les axes et une légende. La figure sera affichée sous ce bloc."
   ]
  },
  {
   "cell_type": "code",
   "execution_count": 10,
   "metadata": {
    "extensions": {
     "jupyter_dashboards": {
      "version": 1,
      "views": {
       "grid_default": {
        "col": 8,
        "height": 4,
        "hidden": false,
        "row": 55,
        "width": 4
       },
       "report_default": {
        "hidden": true
       }
      }
     }
    }
   },
   "outputs": [
    {
     "data": {
      "application/javascript": [
       "/* Put everything inside the global mpl namespace */\n",
       "window.mpl = {};\n",
       "\n",
       "\n",
       "mpl.get_websocket_type = function() {\n",
       "    if (typeof(WebSocket) !== 'undefined') {\n",
       "        return WebSocket;\n",
       "    } else if (typeof(MozWebSocket) !== 'undefined') {\n",
       "        return MozWebSocket;\n",
       "    } else {\n",
       "        alert('Your browser does not have WebSocket support.' +\n",
       "              'Please try Chrome, Safari or Firefox ≥ 6. ' +\n",
       "              'Firefox 4 and 5 are also supported but you ' +\n",
       "              'have to enable WebSockets in about:config.');\n",
       "    };\n",
       "}\n",
       "\n",
       "mpl.figure = function(figure_id, websocket, ondownload, parent_element) {\n",
       "    this.id = figure_id;\n",
       "\n",
       "    this.ws = websocket;\n",
       "\n",
       "    this.supports_binary = (this.ws.binaryType != undefined);\n",
       "\n",
       "    if (!this.supports_binary) {\n",
       "        var warnings = document.getElementById(\"mpl-warnings\");\n",
       "        if (warnings) {\n",
       "            warnings.style.display = 'block';\n",
       "            warnings.textContent = (\n",
       "                \"This browser does not support binary websocket messages. \" +\n",
       "                    \"Performance may be slow.\");\n",
       "        }\n",
       "    }\n",
       "\n",
       "    this.imageObj = new Image();\n",
       "\n",
       "    this.context = undefined;\n",
       "    this.message = undefined;\n",
       "    this.canvas = undefined;\n",
       "    this.rubberband_canvas = undefined;\n",
       "    this.rubberband_context = undefined;\n",
       "    this.format_dropdown = undefined;\n",
       "\n",
       "    this.image_mode = 'full';\n",
       "\n",
       "    this.root = $('<div/>');\n",
       "    this._root_extra_style(this.root)\n",
       "    this.root.attr('style', 'display: inline-block');\n",
       "\n",
       "    $(parent_element).append(this.root);\n",
       "\n",
       "    this._init_header(this);\n",
       "    this._init_canvas(this);\n",
       "    this._init_toolbar(this);\n",
       "\n",
       "    var fig = this;\n",
       "\n",
       "    this.waiting = false;\n",
       "\n",
       "    this.ws.onopen =  function () {\n",
       "            fig.send_message(\"supports_binary\", {value: fig.supports_binary});\n",
       "            fig.send_message(\"send_image_mode\", {});\n",
       "            if (mpl.ratio != 1) {\n",
       "                fig.send_message(\"set_dpi_ratio\", {'dpi_ratio': mpl.ratio});\n",
       "            }\n",
       "            fig.send_message(\"refresh\", {});\n",
       "        }\n",
       "\n",
       "    this.imageObj.onload = function() {\n",
       "            if (fig.image_mode == 'full') {\n",
       "                // Full images could contain transparency (where diff images\n",
       "                // almost always do), so we need to clear the canvas so that\n",
       "                // there is no ghosting.\n",
       "                fig.context.clearRect(0, 0, fig.canvas.width, fig.canvas.height);\n",
       "            }\n",
       "            fig.context.drawImage(fig.imageObj, 0, 0);\n",
       "        };\n",
       "\n",
       "    this.imageObj.onunload = function() {\n",
       "        this.ws.close();\n",
       "    }\n",
       "\n",
       "    this.ws.onmessage = this._make_on_message_function(this);\n",
       "\n",
       "    this.ondownload = ondownload;\n",
       "}\n",
       "\n",
       "mpl.figure.prototype._init_header = function() {\n",
       "    var titlebar = $(\n",
       "        '<div class=\"ui-dialog-titlebar ui-widget-header ui-corner-all ' +\n",
       "        'ui-helper-clearfix\"/>');\n",
       "    var titletext = $(\n",
       "        '<div class=\"ui-dialog-title\" style=\"width: 100%; ' +\n",
       "        'text-align: center; padding: 3px;\"/>');\n",
       "    titlebar.append(titletext)\n",
       "    this.root.append(titlebar);\n",
       "    this.header = titletext[0];\n",
       "}\n",
       "\n",
       "\n",
       "\n",
       "mpl.figure.prototype._canvas_extra_style = function(canvas_div) {\n",
       "\n",
       "}\n",
       "\n",
       "\n",
       "mpl.figure.prototype._root_extra_style = function(canvas_div) {\n",
       "\n",
       "}\n",
       "\n",
       "mpl.figure.prototype._init_canvas = function() {\n",
       "    var fig = this;\n",
       "\n",
       "    var canvas_div = $('<div/>');\n",
       "\n",
       "    canvas_div.attr('style', 'position: relative; clear: both; outline: 0');\n",
       "\n",
       "    function canvas_keyboard_event(event) {\n",
       "        return fig.key_event(event, event['data']);\n",
       "    }\n",
       "\n",
       "    canvas_div.keydown('key_press', canvas_keyboard_event);\n",
       "    canvas_div.keyup('key_release', canvas_keyboard_event);\n",
       "    this.canvas_div = canvas_div\n",
       "    this._canvas_extra_style(canvas_div)\n",
       "    this.root.append(canvas_div);\n",
       "\n",
       "    var canvas = $('<canvas/>');\n",
       "    canvas.addClass('mpl-canvas');\n",
       "    canvas.attr('style', \"left: 0; top: 0; z-index: 0; outline: 0\")\n",
       "\n",
       "    this.canvas = canvas[0];\n",
       "    this.context = canvas[0].getContext(\"2d\");\n",
       "\n",
       "    var backingStore = this.context.backingStorePixelRatio ||\n",
       "\tthis.context.webkitBackingStorePixelRatio ||\n",
       "\tthis.context.mozBackingStorePixelRatio ||\n",
       "\tthis.context.msBackingStorePixelRatio ||\n",
       "\tthis.context.oBackingStorePixelRatio ||\n",
       "\tthis.context.backingStorePixelRatio || 1;\n",
       "\n",
       "    mpl.ratio = (window.devicePixelRatio || 1) / backingStore;\n",
       "\n",
       "    var rubberband = $('<canvas/>');\n",
       "    rubberband.attr('style', \"position: absolute; left: 0; top: 0; z-index: 1;\")\n",
       "\n",
       "    var pass_mouse_events = true;\n",
       "\n",
       "    canvas_div.resizable({\n",
       "        start: function(event, ui) {\n",
       "            pass_mouse_events = false;\n",
       "        },\n",
       "        resize: function(event, ui) {\n",
       "            fig.request_resize(ui.size.width, ui.size.height);\n",
       "        },\n",
       "        stop: function(event, ui) {\n",
       "            pass_mouse_events = true;\n",
       "            fig.request_resize(ui.size.width, ui.size.height);\n",
       "        },\n",
       "    });\n",
       "\n",
       "    function mouse_event_fn(event) {\n",
       "        if (pass_mouse_events)\n",
       "            return fig.mouse_event(event, event['data']);\n",
       "    }\n",
       "\n",
       "    rubberband.mousedown('button_press', mouse_event_fn);\n",
       "    rubberband.mouseup('button_release', mouse_event_fn);\n",
       "    // Throttle sequential mouse events to 1 every 20ms.\n",
       "    rubberband.mousemove('motion_notify', mouse_event_fn);\n",
       "\n",
       "    rubberband.mouseenter('figure_enter', mouse_event_fn);\n",
       "    rubberband.mouseleave('figure_leave', mouse_event_fn);\n",
       "\n",
       "    canvas_div.on(\"wheel\", function (event) {\n",
       "        event = event.originalEvent;\n",
       "        event['data'] = 'scroll'\n",
       "        if (event.deltaY < 0) {\n",
       "            event.step = 1;\n",
       "        } else {\n",
       "            event.step = -1;\n",
       "        }\n",
       "        mouse_event_fn(event);\n",
       "    });\n",
       "\n",
       "    canvas_div.append(canvas);\n",
       "    canvas_div.append(rubberband);\n",
       "\n",
       "    this.rubberband = rubberband;\n",
       "    this.rubberband_canvas = rubberband[0];\n",
       "    this.rubberband_context = rubberband[0].getContext(\"2d\");\n",
       "    this.rubberband_context.strokeStyle = \"#000000\";\n",
       "\n",
       "    this._resize_canvas = function(width, height) {\n",
       "        // Keep the size of the canvas, canvas container, and rubber band\n",
       "        // canvas in synch.\n",
       "        canvas_div.css('width', width)\n",
       "        canvas_div.css('height', height)\n",
       "\n",
       "        canvas.attr('width', width * mpl.ratio);\n",
       "        canvas.attr('height', height * mpl.ratio);\n",
       "        canvas.attr('style', 'width: ' + width + 'px; height: ' + height + 'px;');\n",
       "\n",
       "        rubberband.attr('width', width);\n",
       "        rubberband.attr('height', height);\n",
       "    }\n",
       "\n",
       "    // Set the figure to an initial 600x600px, this will subsequently be updated\n",
       "    // upon first draw.\n",
       "    this._resize_canvas(600, 600);\n",
       "\n",
       "    // Disable right mouse context menu.\n",
       "    $(this.rubberband_canvas).bind(\"contextmenu\",function(e){\n",
       "        return false;\n",
       "    });\n",
       "\n",
       "    function set_focus () {\n",
       "        canvas.focus();\n",
       "        canvas_div.focus();\n",
       "    }\n",
       "\n",
       "    window.setTimeout(set_focus, 100);\n",
       "}\n",
       "\n",
       "mpl.figure.prototype._init_toolbar = function() {\n",
       "    var fig = this;\n",
       "\n",
       "    var nav_element = $('<div/>')\n",
       "    nav_element.attr('style', 'width: 100%');\n",
       "    this.root.append(nav_element);\n",
       "\n",
       "    // Define a callback function for later on.\n",
       "    function toolbar_event(event) {\n",
       "        return fig.toolbar_button_onclick(event['data']);\n",
       "    }\n",
       "    function toolbar_mouse_event(event) {\n",
       "        return fig.toolbar_button_onmouseover(event['data']);\n",
       "    }\n",
       "\n",
       "    for(var toolbar_ind in mpl.toolbar_items) {\n",
       "        var name = mpl.toolbar_items[toolbar_ind][0];\n",
       "        var tooltip = mpl.toolbar_items[toolbar_ind][1];\n",
       "        var image = mpl.toolbar_items[toolbar_ind][2];\n",
       "        var method_name = mpl.toolbar_items[toolbar_ind][3];\n",
       "\n",
       "        if (!name) {\n",
       "            // put a spacer in here.\n",
       "            continue;\n",
       "        }\n",
       "        var button = $('<button/>');\n",
       "        button.addClass('ui-button ui-widget ui-state-default ui-corner-all ' +\n",
       "                        'ui-button-icon-only');\n",
       "        button.attr('role', 'button');\n",
       "        button.attr('aria-disabled', 'false');\n",
       "        button.click(method_name, toolbar_event);\n",
       "        button.mouseover(tooltip, toolbar_mouse_event);\n",
       "\n",
       "        var icon_img = $('<span/>');\n",
       "        icon_img.addClass('ui-button-icon-primary ui-icon');\n",
       "        icon_img.addClass(image);\n",
       "        icon_img.addClass('ui-corner-all');\n",
       "\n",
       "        var tooltip_span = $('<span/>');\n",
       "        tooltip_span.addClass('ui-button-text');\n",
       "        tooltip_span.html(tooltip);\n",
       "\n",
       "        button.append(icon_img);\n",
       "        button.append(tooltip_span);\n",
       "\n",
       "        nav_element.append(button);\n",
       "    }\n",
       "\n",
       "    var fmt_picker_span = $('<span/>');\n",
       "\n",
       "    var fmt_picker = $('<select/>');\n",
       "    fmt_picker.addClass('mpl-toolbar-option ui-widget ui-widget-content');\n",
       "    fmt_picker_span.append(fmt_picker);\n",
       "    nav_element.append(fmt_picker_span);\n",
       "    this.format_dropdown = fmt_picker[0];\n",
       "\n",
       "    for (var ind in mpl.extensions) {\n",
       "        var fmt = mpl.extensions[ind];\n",
       "        var option = $(\n",
       "            '<option/>', {selected: fmt === mpl.default_extension}).html(fmt);\n",
       "        fmt_picker.append(option)\n",
       "    }\n",
       "\n",
       "    // Add hover states to the ui-buttons\n",
       "    $( \".ui-button\" ).hover(\n",
       "        function() { $(this).addClass(\"ui-state-hover\");},\n",
       "        function() { $(this).removeClass(\"ui-state-hover\");}\n",
       "    );\n",
       "\n",
       "    var status_bar = $('<span class=\"mpl-message\"/>');\n",
       "    nav_element.append(status_bar);\n",
       "    this.message = status_bar[0];\n",
       "}\n",
       "\n",
       "mpl.figure.prototype.request_resize = function(x_pixels, y_pixels) {\n",
       "    // Request matplotlib to resize the figure. Matplotlib will then trigger a resize in the client,\n",
       "    // which will in turn request a refresh of the image.\n",
       "    this.send_message('resize', {'width': x_pixels, 'height': y_pixels});\n",
       "}\n",
       "\n",
       "mpl.figure.prototype.send_message = function(type, properties) {\n",
       "    properties['type'] = type;\n",
       "    properties['figure_id'] = this.id;\n",
       "    this.ws.send(JSON.stringify(properties));\n",
       "}\n",
       "\n",
       "mpl.figure.prototype.send_draw_message = function() {\n",
       "    if (!this.waiting) {\n",
       "        this.waiting = true;\n",
       "        this.ws.send(JSON.stringify({type: \"draw\", figure_id: this.id}));\n",
       "    }\n",
       "}\n",
       "\n",
       "\n",
       "mpl.figure.prototype.handle_save = function(fig, msg) {\n",
       "    var format_dropdown = fig.format_dropdown;\n",
       "    var format = format_dropdown.options[format_dropdown.selectedIndex].value;\n",
       "    fig.ondownload(fig, format);\n",
       "}\n",
       "\n",
       "\n",
       "mpl.figure.prototype.handle_resize = function(fig, msg) {\n",
       "    var size = msg['size'];\n",
       "    if (size[0] != fig.canvas.width || size[1] != fig.canvas.height) {\n",
       "        fig._resize_canvas(size[0], size[1]);\n",
       "        fig.send_message(\"refresh\", {});\n",
       "    };\n",
       "}\n",
       "\n",
       "mpl.figure.prototype.handle_rubberband = function(fig, msg) {\n",
       "    var x0 = msg['x0'] / mpl.ratio;\n",
       "    var y0 = (fig.canvas.height - msg['y0']) / mpl.ratio;\n",
       "    var x1 = msg['x1'] / mpl.ratio;\n",
       "    var y1 = (fig.canvas.height - msg['y1']) / mpl.ratio;\n",
       "    x0 = Math.floor(x0) + 0.5;\n",
       "    y0 = Math.floor(y0) + 0.5;\n",
       "    x1 = Math.floor(x1) + 0.5;\n",
       "    y1 = Math.floor(y1) + 0.5;\n",
       "    var min_x = Math.min(x0, x1);\n",
       "    var min_y = Math.min(y0, y1);\n",
       "    var width = Math.abs(x1 - x0);\n",
       "    var height = Math.abs(y1 - y0);\n",
       "\n",
       "    fig.rubberband_context.clearRect(\n",
       "        0, 0, fig.canvas.width, fig.canvas.height);\n",
       "\n",
       "    fig.rubberband_context.strokeRect(min_x, min_y, width, height);\n",
       "}\n",
       "\n",
       "mpl.figure.prototype.handle_figure_label = function(fig, msg) {\n",
       "    // Updates the figure title.\n",
       "    fig.header.textContent = msg['label'];\n",
       "}\n",
       "\n",
       "mpl.figure.prototype.handle_cursor = function(fig, msg) {\n",
       "    var cursor = msg['cursor'];\n",
       "    switch(cursor)\n",
       "    {\n",
       "    case 0:\n",
       "        cursor = 'pointer';\n",
       "        break;\n",
       "    case 1:\n",
       "        cursor = 'default';\n",
       "        break;\n",
       "    case 2:\n",
       "        cursor = 'crosshair';\n",
       "        break;\n",
       "    case 3:\n",
       "        cursor = 'move';\n",
       "        break;\n",
       "    }\n",
       "    fig.rubberband_canvas.style.cursor = cursor;\n",
       "}\n",
       "\n",
       "mpl.figure.prototype.handle_message = function(fig, msg) {\n",
       "    fig.message.textContent = msg['message'];\n",
       "}\n",
       "\n",
       "mpl.figure.prototype.handle_draw = function(fig, msg) {\n",
       "    // Request the server to send over a new figure.\n",
       "    fig.send_draw_message();\n",
       "}\n",
       "\n",
       "mpl.figure.prototype.handle_image_mode = function(fig, msg) {\n",
       "    fig.image_mode = msg['mode'];\n",
       "}\n",
       "\n",
       "mpl.figure.prototype.updated_canvas_event = function() {\n",
       "    // Called whenever the canvas gets updated.\n",
       "    this.send_message(\"ack\", {});\n",
       "}\n",
       "\n",
       "// A function to construct a web socket function for onmessage handling.\n",
       "// Called in the figure constructor.\n",
       "mpl.figure.prototype._make_on_message_function = function(fig) {\n",
       "    return function socket_on_message(evt) {\n",
       "        if (evt.data instanceof Blob) {\n",
       "            /* FIXME: We get \"Resource interpreted as Image but\n",
       "             * transferred with MIME type text/plain:\" errors on\n",
       "             * Chrome.  But how to set the MIME type?  It doesn't seem\n",
       "             * to be part of the websocket stream */\n",
       "            evt.data.type = \"image/png\";\n",
       "\n",
       "            /* Free the memory for the previous frames */\n",
       "            if (fig.imageObj.src) {\n",
       "                (window.URL || window.webkitURL).revokeObjectURL(\n",
       "                    fig.imageObj.src);\n",
       "            }\n",
       "\n",
       "            fig.imageObj.src = (window.URL || window.webkitURL).createObjectURL(\n",
       "                evt.data);\n",
       "            fig.updated_canvas_event();\n",
       "            fig.waiting = false;\n",
       "            return;\n",
       "        }\n",
       "        else if (typeof evt.data === 'string' && evt.data.slice(0, 21) == \"data:image/png;base64\") {\n",
       "            fig.imageObj.src = evt.data;\n",
       "            fig.updated_canvas_event();\n",
       "            fig.waiting = false;\n",
       "            return;\n",
       "        }\n",
       "\n",
       "        var msg = JSON.parse(evt.data);\n",
       "        var msg_type = msg['type'];\n",
       "\n",
       "        // Call the  \"handle_{type}\" callback, which takes\n",
       "        // the figure and JSON message as its only arguments.\n",
       "        try {\n",
       "            var callback = fig[\"handle_\" + msg_type];\n",
       "        } catch (e) {\n",
       "            console.log(\"No handler for the '\" + msg_type + \"' message type: \", msg);\n",
       "            return;\n",
       "        }\n",
       "\n",
       "        if (callback) {\n",
       "            try {\n",
       "                // console.log(\"Handling '\" + msg_type + \"' message: \", msg);\n",
       "                callback(fig, msg);\n",
       "            } catch (e) {\n",
       "                console.log(\"Exception inside the 'handler_\" + msg_type + \"' callback:\", e, e.stack, msg);\n",
       "            }\n",
       "        }\n",
       "    };\n",
       "}\n",
       "\n",
       "// from http://stackoverflow.com/questions/1114465/getting-mouse-location-in-canvas\n",
       "mpl.findpos = function(e) {\n",
       "    //this section is from http://www.quirksmode.org/js/events_properties.html\n",
       "    var targ;\n",
       "    if (!e)\n",
       "        e = window.event;\n",
       "    if (e.target)\n",
       "        targ = e.target;\n",
       "    else if (e.srcElement)\n",
       "        targ = e.srcElement;\n",
       "    if (targ.nodeType == 3) // defeat Safari bug\n",
       "        targ = targ.parentNode;\n",
       "\n",
       "    // jQuery normalizes the pageX and pageY\n",
       "    // pageX,Y are the mouse positions relative to the document\n",
       "    // offset() returns the position of the element relative to the document\n",
       "    var x = e.pageX - $(targ).offset().left;\n",
       "    var y = e.pageY - $(targ).offset().top;\n",
       "\n",
       "    return {\"x\": x, \"y\": y};\n",
       "};\n",
       "\n",
       "/*\n",
       " * return a copy of an object with only non-object keys\n",
       " * we need this to avoid circular references\n",
       " * http://stackoverflow.com/a/24161582/3208463\n",
       " */\n",
       "function simpleKeys (original) {\n",
       "  return Object.keys(original).reduce(function (obj, key) {\n",
       "    if (typeof original[key] !== 'object')\n",
       "        obj[key] = original[key]\n",
       "    return obj;\n",
       "  }, {});\n",
       "}\n",
       "\n",
       "mpl.figure.prototype.mouse_event = function(event, name) {\n",
       "    var canvas_pos = mpl.findpos(event)\n",
       "\n",
       "    if (name === 'button_press')\n",
       "    {\n",
       "        this.canvas.focus();\n",
       "        this.canvas_div.focus();\n",
       "    }\n",
       "\n",
       "    var x = canvas_pos.x * mpl.ratio;\n",
       "    var y = canvas_pos.y * mpl.ratio;\n",
       "\n",
       "    this.send_message(name, {x: x, y: y, button: event.button,\n",
       "                             step: event.step,\n",
       "                             guiEvent: simpleKeys(event)});\n",
       "\n",
       "    /* This prevents the web browser from automatically changing to\n",
       "     * the text insertion cursor when the button is pressed.  We want\n",
       "     * to control all of the cursor setting manually through the\n",
       "     * 'cursor' event from matplotlib */\n",
       "    event.preventDefault();\n",
       "    return false;\n",
       "}\n",
       "\n",
       "mpl.figure.prototype._key_event_extra = function(event, name) {\n",
       "    // Handle any extra behaviour associated with a key event\n",
       "}\n",
       "\n",
       "mpl.figure.prototype.key_event = function(event, name) {\n",
       "\n",
       "    // Prevent repeat events\n",
       "    if (name == 'key_press')\n",
       "    {\n",
       "        if (event.which === this._key)\n",
       "            return;\n",
       "        else\n",
       "            this._key = event.which;\n",
       "    }\n",
       "    if (name == 'key_release')\n",
       "        this._key = null;\n",
       "\n",
       "    var value = '';\n",
       "    if (event.ctrlKey && event.which != 17)\n",
       "        value += \"ctrl+\";\n",
       "    if (event.altKey && event.which != 18)\n",
       "        value += \"alt+\";\n",
       "    if (event.shiftKey && event.which != 16)\n",
       "        value += \"shift+\";\n",
       "\n",
       "    value += 'k';\n",
       "    value += event.which.toString();\n",
       "\n",
       "    this._key_event_extra(event, name);\n",
       "\n",
       "    this.send_message(name, {key: value,\n",
       "                             guiEvent: simpleKeys(event)});\n",
       "    return false;\n",
       "}\n",
       "\n",
       "mpl.figure.prototype.toolbar_button_onclick = function(name) {\n",
       "    if (name == 'download') {\n",
       "        this.handle_save(this, null);\n",
       "    } else {\n",
       "        this.send_message(\"toolbar_button\", {name: name});\n",
       "    }\n",
       "};\n",
       "\n",
       "mpl.figure.prototype.toolbar_button_onmouseover = function(tooltip) {\n",
       "    this.message.textContent = tooltip;\n",
       "};\n",
       "mpl.toolbar_items = [[\"Home\", \"Reset original view\", \"fa fa-home icon-home\", \"home\"], [\"Back\", \"Back to  previous view\", \"fa fa-arrow-left icon-arrow-left\", \"back\"], [\"Forward\", \"Forward to next view\", \"fa fa-arrow-right icon-arrow-right\", \"forward\"], [\"\", \"\", \"\", \"\"], [\"Pan\", \"Pan axes with left mouse, zoom with right\", \"fa fa-arrows icon-move\", \"pan\"], [\"Zoom\", \"Zoom to rectangle\", \"fa fa-square-o icon-check-empty\", \"zoom\"], [\"\", \"\", \"\", \"\"], [\"Download\", \"Download plot\", \"fa fa-floppy-o icon-save\", \"download\"]];\n",
       "\n",
       "mpl.extensions = [\"eps\", \"jpeg\", \"pdf\", \"png\", \"ps\", \"raw\", \"svg\", \"tif\"];\n",
       "\n",
       "mpl.default_extension = \"png\";var comm_websocket_adapter = function(comm) {\n",
       "    // Create a \"websocket\"-like object which calls the given IPython comm\n",
       "    // object with the appropriate methods. Currently this is a non binary\n",
       "    // socket, so there is still some room for performance tuning.\n",
       "    var ws = {};\n",
       "\n",
       "    ws.close = function() {\n",
       "        comm.close()\n",
       "    };\n",
       "    ws.send = function(m) {\n",
       "        //console.log('sending', m);\n",
       "        comm.send(m);\n",
       "    };\n",
       "    // Register the callback with on_msg.\n",
       "    comm.on_msg(function(msg) {\n",
       "        //console.log('receiving', msg['content']['data'], msg);\n",
       "        // Pass the mpl event to the overriden (by mpl) onmessage function.\n",
       "        ws.onmessage(msg['content']['data'])\n",
       "    });\n",
       "    return ws;\n",
       "}\n",
       "\n",
       "mpl.mpl_figure_comm = function(comm, msg) {\n",
       "    // This is the function which gets called when the mpl process\n",
       "    // starts-up an IPython Comm through the \"matplotlib\" channel.\n",
       "\n",
       "    var id = msg.content.data.id;\n",
       "    // Get hold of the div created by the display call when the Comm\n",
       "    // socket was opened in Python.\n",
       "    var element = $(\"#\" + id);\n",
       "    var ws_proxy = comm_websocket_adapter(comm)\n",
       "\n",
       "    function ondownload(figure, format) {\n",
       "        window.open(figure.imageObj.src);\n",
       "    }\n",
       "\n",
       "    var fig = new mpl.figure(id, ws_proxy,\n",
       "                           ondownload,\n",
       "                           element.get(0));\n",
       "\n",
       "    // Call onopen now - mpl needs it, as it is assuming we've passed it a real\n",
       "    // web socket which is closed, not our websocket->open comm proxy.\n",
       "    ws_proxy.onopen();\n",
       "\n",
       "    fig.parent_element = element.get(0);\n",
       "    fig.cell_info = mpl.find_output_cell(\"<div id='\" + id + \"'></div>\");\n",
       "    if (!fig.cell_info) {\n",
       "        console.error(\"Failed to find cell for figure\", id, fig);\n",
       "        return;\n",
       "    }\n",
       "\n",
       "    var output_index = fig.cell_info[2]\n",
       "    var cell = fig.cell_info[0];\n",
       "\n",
       "};\n",
       "\n",
       "mpl.figure.prototype.handle_close = function(fig, msg) {\n",
       "    var width = fig.canvas.width/mpl.ratio\n",
       "    fig.root.unbind('remove')\n",
       "\n",
       "    // Update the output cell to use the data from the current canvas.\n",
       "    fig.push_to_output();\n",
       "    var dataURL = fig.canvas.toDataURL();\n",
       "    // Re-enable the keyboard manager in IPython - without this line, in FF,\n",
       "    // the notebook keyboard shortcuts fail.\n",
       "    IPython.keyboard_manager.enable()\n",
       "    $(fig.parent_element).html('<img src=\"' + dataURL + '\" width=\"' + width + '\">');\n",
       "    fig.close_ws(fig, msg);\n",
       "}\n",
       "\n",
       "mpl.figure.prototype.close_ws = function(fig, msg){\n",
       "    fig.send_message('closing', msg);\n",
       "    // fig.ws.close()\n",
       "}\n",
       "\n",
       "mpl.figure.prototype.push_to_output = function(remove_interactive) {\n",
       "    // Turn the data on the canvas into data in the output cell.\n",
       "    var width = this.canvas.width/mpl.ratio\n",
       "    var dataURL = this.canvas.toDataURL();\n",
       "    this.cell_info[1]['text/html'] = '<img src=\"' + dataURL + '\" width=\"' + width + '\">';\n",
       "}\n",
       "\n",
       "mpl.figure.prototype.updated_canvas_event = function() {\n",
       "    // Tell IPython that the notebook contents must change.\n",
       "    IPython.notebook.set_dirty(true);\n",
       "    this.send_message(\"ack\", {});\n",
       "    var fig = this;\n",
       "    // Wait a second, then push the new image to the DOM so\n",
       "    // that it is saved nicely (might be nice to debounce this).\n",
       "    setTimeout(function () { fig.push_to_output() }, 1000);\n",
       "}\n",
       "\n",
       "mpl.figure.prototype._init_toolbar = function() {\n",
       "    var fig = this;\n",
       "\n",
       "    var nav_element = $('<div/>')\n",
       "    nav_element.attr('style', 'width: 100%');\n",
       "    this.root.append(nav_element);\n",
       "\n",
       "    // Define a callback function for later on.\n",
       "    function toolbar_event(event) {\n",
       "        return fig.toolbar_button_onclick(event['data']);\n",
       "    }\n",
       "    function toolbar_mouse_event(event) {\n",
       "        return fig.toolbar_button_onmouseover(event['data']);\n",
       "    }\n",
       "\n",
       "    for(var toolbar_ind in mpl.toolbar_items){\n",
       "        var name = mpl.toolbar_items[toolbar_ind][0];\n",
       "        var tooltip = mpl.toolbar_items[toolbar_ind][1];\n",
       "        var image = mpl.toolbar_items[toolbar_ind][2];\n",
       "        var method_name = mpl.toolbar_items[toolbar_ind][3];\n",
       "\n",
       "        if (!name) { continue; };\n",
       "\n",
       "        var button = $('<button class=\"btn btn-default\" href=\"#\" title=\"' + name + '\"><i class=\"fa ' + image + ' fa-lg\"></i></button>');\n",
       "        button.click(method_name, toolbar_event);\n",
       "        button.mouseover(tooltip, toolbar_mouse_event);\n",
       "        nav_element.append(button);\n",
       "    }\n",
       "\n",
       "    // Add the status bar.\n",
       "    var status_bar = $('<span class=\"mpl-message\" style=\"text-align:right; float: right;\"/>');\n",
       "    nav_element.append(status_bar);\n",
       "    this.message = status_bar[0];\n",
       "\n",
       "    // Add the close button to the window.\n",
       "    var buttongrp = $('<div class=\"btn-group inline pull-right\"></div>');\n",
       "    var button = $('<button class=\"btn btn-mini btn-primary\" href=\"#\" title=\"Stop Interaction\"><i class=\"fa fa-power-off icon-remove icon-large\"></i></button>');\n",
       "    button.click(function (evt) { fig.handle_close(fig, {}); } );\n",
       "    button.mouseover('Stop Interaction', toolbar_mouse_event);\n",
       "    buttongrp.append(button);\n",
       "    var titlebar = this.root.find($('.ui-dialog-titlebar'));\n",
       "    titlebar.prepend(buttongrp);\n",
       "}\n",
       "\n",
       "mpl.figure.prototype._root_extra_style = function(el){\n",
       "    var fig = this\n",
       "    el.on(\"remove\", function(){\n",
       "\tfig.close_ws(fig, {});\n",
       "    });\n",
       "}\n",
       "\n",
       "mpl.figure.prototype._canvas_extra_style = function(el){\n",
       "    // this is important to make the div 'focusable\n",
       "    el.attr('tabindex', 0)\n",
       "    // reach out to IPython and tell the keyboard manager to turn it's self\n",
       "    // off when our div gets focus\n",
       "\n",
       "    // location in version 3\n",
       "    if (IPython.notebook.keyboard_manager) {\n",
       "        IPython.notebook.keyboard_manager.register_events(el);\n",
       "    }\n",
       "    else {\n",
       "        // location in version 2\n",
       "        IPython.keyboard_manager.register_events(el);\n",
       "    }\n",
       "\n",
       "}\n",
       "\n",
       "mpl.figure.prototype._key_event_extra = function(event, name) {\n",
       "    var manager = IPython.notebook.keyboard_manager;\n",
       "    if (!manager)\n",
       "        manager = IPython.keyboard_manager;\n",
       "\n",
       "    // Check for shift+enter\n",
       "    if (event.shiftKey && event.which == 13) {\n",
       "        this.canvas_div.blur();\n",
       "        // select the cell after this one\n",
       "        var index = IPython.notebook.find_cell_index(this.cell_info[0]);\n",
       "        IPython.notebook.select(index + 1);\n",
       "    }\n",
       "}\n",
       "\n",
       "mpl.figure.prototype.handle_save = function(fig, msg) {\n",
       "    fig.ondownload(fig, null);\n",
       "}\n",
       "\n",
       "\n",
       "mpl.find_output_cell = function(html_output) {\n",
       "    // Return the cell and output element which can be found *uniquely* in the notebook.\n",
       "    // Note - this is a bit hacky, but it is done because the \"notebook_saving.Notebook\"\n",
       "    // IPython event is triggered only after the cells have been serialised, which for\n",
       "    // our purposes (turning an active figure into a static one), is too late.\n",
       "    var cells = IPython.notebook.get_cells();\n",
       "    var ncells = cells.length;\n",
       "    for (var i=0; i<ncells; i++) {\n",
       "        var cell = cells[i];\n",
       "        if (cell.cell_type === 'code'){\n",
       "            for (var j=0; j<cell.output_area.outputs.length; j++) {\n",
       "                var data = cell.output_area.outputs[j];\n",
       "                if (data.data) {\n",
       "                    // IPython >= 3 moved mimebundle to data attribute of output\n",
       "                    data = data.data;\n",
       "                }\n",
       "                if (data['text/html'] == html_output) {\n",
       "                    return [cell, data, j];\n",
       "                }\n",
       "            }\n",
       "        }\n",
       "    }\n",
       "}\n",
       "\n",
       "// Register the function which deals with the matplotlib target/channel.\n",
       "// The kernel may be null if the page has been refreshed.\n",
       "if (IPython.notebook.kernel != null) {\n",
       "    IPython.notebook.kernel.comm_manager.register_target('matplotlib', mpl.mpl_figure_comm);\n",
       "}\n"
      ],
      "text/plain": [
       "<IPython.core.display.Javascript object>"
      ]
     },
     "metadata": {},
     "output_type": "display_data"
    },
    {
     "data": {
      "text/html": [
       "<img src=\"data:image/png;base64,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\" width=\"640\">"
      ],
      "text/plain": [
       "<IPython.core.display.HTML object>"
      ]
     },
     "metadata": {},
     "output_type": "display_data"
    },
    {
     "data": {
      "text/plain": [
       "<matplotlib.legend.Legend at 0x6f7ef570>"
      ]
     },
     "execution_count": 10,
     "metadata": {},
     "output_type": "execute_result"
    }
   ],
   "source": [
    "fig = plt.figure()\n",
    "\n",
    "ax1 = fig.add_subplot(221)\n",
    "ax2 = fig.add_subplot(222)\n",
    "ax3 = fig.add_subplot(212)\n",
    "\n",
    "ax1.set_title(\"Mesures Hygro. BME280\")    \n",
    "ax1.set_xlabel('Temps en secondes')\n",
    "ax1.set_ylabel('Valeur mesurée')\n",
    "\n",
    "ax2.set_title(\"Mesures Temp. BME280\")    \n",
    "ax2.set_xlabel('Temps en secondes')\n",
    "ax2.set_ylabel('Valeur mesurée')\n",
    "\n",
    "ax3.set_title(\"Mesures Press. BME280\")    \n",
    "ax3.set_xlabel('Temps en secondes')\n",
    "ax3.set_ylabel('Valeur mesurée')\n",
    "\n",
    "ax1.plot(x,y1, c='r', label='Hygrométrie')\n",
    "ax2.plot(x,y2, c='b', label='Température')\n",
    "ax3.plot(x,y3, c='g', label='Pression')\n",
    "\n",
    "ax1.legend()\n",
    "ax2.legend()\n",
    "ax3.legend()"
   ]
  },
  {
   "cell_type": "markdown",
   "metadata": {
    "extensions": {
     "jupyter_dashboards": {
      "version": 1,
      "views": {
       "grid_default": {
        "col": 0,
        "height": 4,
        "hidden": false,
        "row": 104,
        "width": 12
       },
       "report_default": {
        "hidden": true
       }
      }
     }
    }
   },
   "source": [
    "### Quatrième étape : recherche rapide de la valeur moyenne et centrage de l'affichage\n",
    "On effectue 10 mesures pour déterminer la valeur moyenne  de la pression température et hygrométrie qui servent à fixer la hauteur d'affichage, l'amplitude est choisie à la main et introduite ici"
   ]
  },
  {
   "cell_type": "code",
   "execution_count": 11,
   "metadata": {
    "extensions": {
     "jupyter_dashboards": {
      "version": 1,
      "views": {
       "grid_default": {
        "col": 4,
        "height": 4,
        "hidden": false,
        "row": 73,
        "width": 4
       },
       "report_default": {
        "hidden": true
       }
      }
     }
    }
   },
   "outputs": [],
   "source": [
    "tmoy = 0.\n",
    "pmoy = 0.\n",
    "hmoy = 0.\n",
    "for i in range(10):\n",
    "    bme.update()\n",
    "    tempBME = bme.getTemperature()\n",
    "    pressBME = bme.getPressure() / 100.0\n",
    "    hygroBME = bme.getHumidity()\n",
    "    time.sleep (pauseVal)\n",
    "    tmoy += tempBME\n",
    "    pmoy += pressBME\n",
    "    hmoy += hygroBME\n",
    "tmoy /= 10.\n",
    "pmoy /= 10.\n",
    "hmoy /= 10.\n",
    "tmoy = math.floor(tmoy)\n",
    "pmoy = math.floor(pmoy)\n",
    "hmoy = math.floor(hmoy)"
   ]
  },
  {
   "cell_type": "markdown",
   "metadata": {
    "extensions": {
     "jupyter_dashboards": {
      "version": 1,
      "views": {
       "grid_default": {
        "col": 8,
        "height": 4,
        "hidden": false,
        "row": 73,
        "width": 4
       },
       "report_default": {
        "hidden": true
       }
      }
     }
    }
   },
   "source": [
    "### Cinquième étape dessin de la figure\n",
    "On dessine ici la figure en prenant en compte les paramètres définis dans le bloc précédent"
   ]
  },
  {
   "cell_type": "code",
   "execution_count": 12,
   "metadata": {
    "extensions": {
     "jupyter_dashboards": {
      "version": 1,
      "views": {
       "grid_default": {
        "hidden": true
       },
       "report_default": {
        "hidden": true
       }
      }
     }
    }
   },
   "outputs": [],
   "source": [
    "plt.tight_layout()\n",
    "fig.canvas.draw()"
   ]
  },
  {
   "cell_type": "markdown",
   "metadata": {
    "extensions": {
     "jupyter_dashboards": {
      "version": 1,
      "views": {
       "grid_default": {
        "col": 4,
        "height": 4,
        "hidden": false,
        "row": 77,
        "width": 4
       },
       "report_default": {
        "hidden": true
       }
      }
     }
    }
   },
   "source": [
    "### Sixième étape mesure et tracé  des mesures sur figure en temps réel\n",
    "le tracé s'effectue dans la figure dessinée ci-dessus."
   ]
  },
  {
   "cell_type": "code",
   "execution_count": 13,
   "metadata": {
    "extensions": {
     "jupyter_dashboards": {
      "version": 1,
      "views": {
       "grid_default": {
        "hidden": true
       },
       "report_default": {
        "hidden": true
       }
      }
     }
    }
   },
   "outputs": [],
   "source": [
    "ax1.set_ylim([(hmoy - 1.0), (hmoy + 3.0)])\n",
    "ax2.set_ylim([(tmoy - 1.0),(tmoy + 3.0)])\n",
    "ax3.set_ylim([(pmoy - 1.0), (pmoy + 3.0)])\n",
    "for jump in range(0,5) :\n",
    "    lim1 = -10.0 + jump * 100.0\n",
    "    lim2 = 100.0 + jump * 100.0\n",
    "    ax1.set_xlim([lim1,lim2])\n",
    "    ax2.set_xlim([lim1,lim2])\n",
    "    ax3.set_xlim([lim1,lim2])\n",
    "    plt.tight_layout()\n",
    "    fig.canvas.draw()\n",
    "    start = jump * 50\n",
    "    stop = (jump + 1)*50\n",
    "    for num in range(start,stop):\n",
    "        mestime = num * 2.0\n",
    "        bme.update()\n",
    "        tempBME = bme.getTemperature()\n",
    "        pressBME = bme.getPressure() / 100.0\n",
    "        hygroBME = bme.getHumidity()\n",
    "        time.sleep (pauseVal)\n",
    "   \n",
    "        x.append(float(mestime))\n",
    "        y1.append(float(hygroBME))\n",
    "        y2.append(float(tempBME))\n",
    "        y3.append(float(pressBME))\n",
    "        ax1.plot(x,y1, c='r', label='Hygrométrie')\n",
    "        ax2.plot(x,y2, c='b', label='Température')\n",
    "        ax3.plot(x,y3, c='g', label='Pression')    \n",
    "        fig.canvas.draw()"
   ]
  },
  {
   "cell_type": "markdown",
   "metadata": {
    "collapsed": true,
    "extensions": {
     "jupyter_dashboards": {
      "version": 1,
      "views": {
       "grid_default": {
        "col": 8,
        "height": 4,
        "hidden": false,
        "row": 77,
        "width": 4
       },
       "report_default": {
        "hidden": true
       }
      }
     }
    }
   },
   "source": [
    "### Code complet par fusion des blocs"
   ]
  },
  {
   "cell_type": "code",
   "execution_count": 3,
   "metadata": {
    "extensions": {
     "jupyter_dashboards": {
      "version": 1,
      "views": {
       "grid_default": {
        "col": 4,
        "height": 4,
        "hidden": false,
        "row": 81,
        "width": 4
       },
       "report_default": {
        "hidden": false
       }
      }
     }
    }
   },
   "outputs": [
    {
     "data": {
      "application/javascript": [
       "/* Put everything inside the global mpl namespace */\n",
       "window.mpl = {};\n",
       "\n",
       "\n",
       "mpl.get_websocket_type = function() {\n",
       "    if (typeof(WebSocket) !== 'undefined') {\n",
       "        return WebSocket;\n",
       "    } else if (typeof(MozWebSocket) !== 'undefined') {\n",
       "        return MozWebSocket;\n",
       "    } else {\n",
       "        alert('Your browser does not have WebSocket support.' +\n",
       "              'Please try Chrome, Safari or Firefox ≥ 6. ' +\n",
       "              'Firefox 4 and 5 are also supported but you ' +\n",
       "              'have to enable WebSockets in about:config.');\n",
       "    };\n",
       "}\n",
       "\n",
       "mpl.figure = function(figure_id, websocket, ondownload, parent_element) {\n",
       "    this.id = figure_id;\n",
       "\n",
       "    this.ws = websocket;\n",
       "\n",
       "    this.supports_binary = (this.ws.binaryType != undefined);\n",
       "\n",
       "    if (!this.supports_binary) {\n",
       "        var warnings = document.getElementById(\"mpl-warnings\");\n",
       "        if (warnings) {\n",
       "            warnings.style.display = 'block';\n",
       "            warnings.textContent = (\n",
       "                \"This browser does not support binary websocket messages. \" +\n",
       "                    \"Performance may be slow.\");\n",
       "        }\n",
       "    }\n",
       "\n",
       "    this.imageObj = new Image();\n",
       "\n",
       "    this.context = undefined;\n",
       "    this.message = undefined;\n",
       "    this.canvas = undefined;\n",
       "    this.rubberband_canvas = undefined;\n",
       "    this.rubberband_context = undefined;\n",
       "    this.format_dropdown = undefined;\n",
       "\n",
       "    this.image_mode = 'full';\n",
       "\n",
       "    this.root = $('<div/>');\n",
       "    this._root_extra_style(this.root)\n",
       "    this.root.attr('style', 'display: inline-block');\n",
       "\n",
       "    $(parent_element).append(this.root);\n",
       "\n",
       "    this._init_header(this);\n",
       "    this._init_canvas(this);\n",
       "    this._init_toolbar(this);\n",
       "\n",
       "    var fig = this;\n",
       "\n",
       "    this.waiting = false;\n",
       "\n",
       "    this.ws.onopen =  function () {\n",
       "            fig.send_message(\"supports_binary\", {value: fig.supports_binary});\n",
       "            fig.send_message(\"send_image_mode\", {});\n",
       "            if (mpl.ratio != 1) {\n",
       "                fig.send_message(\"set_dpi_ratio\", {'dpi_ratio': mpl.ratio});\n",
       "            }\n",
       "            fig.send_message(\"refresh\", {});\n",
       "        }\n",
       "\n",
       "    this.imageObj.onload = function() {\n",
       "            if (fig.image_mode == 'full') {\n",
       "                // Full images could contain transparency (where diff images\n",
       "                // almost always do), so we need to clear the canvas so that\n",
       "                // there is no ghosting.\n",
       "                fig.context.clearRect(0, 0, fig.canvas.width, fig.canvas.height);\n",
       "            }\n",
       "            fig.context.drawImage(fig.imageObj, 0, 0);\n",
       "        };\n",
       "\n",
       "    this.imageObj.onunload = function() {\n",
       "        this.ws.close();\n",
       "    }\n",
       "\n",
       "    this.ws.onmessage = this._make_on_message_function(this);\n",
       "\n",
       "    this.ondownload = ondownload;\n",
       "}\n",
       "\n",
       "mpl.figure.prototype._init_header = function() {\n",
       "    var titlebar = $(\n",
       "        '<div class=\"ui-dialog-titlebar ui-widget-header ui-corner-all ' +\n",
       "        'ui-helper-clearfix\"/>');\n",
       "    var titletext = $(\n",
       "        '<div class=\"ui-dialog-title\" style=\"width: 100%; ' +\n",
       "        'text-align: center; padding: 3px;\"/>');\n",
       "    titlebar.append(titletext)\n",
       "    this.root.append(titlebar);\n",
       "    this.header = titletext[0];\n",
       "}\n",
       "\n",
       "\n",
       "\n",
       "mpl.figure.prototype._canvas_extra_style = function(canvas_div) {\n",
       "\n",
       "}\n",
       "\n",
       "\n",
       "mpl.figure.prototype._root_extra_style = function(canvas_div) {\n",
       "\n",
       "}\n",
       "\n",
       "mpl.figure.prototype._init_canvas = function() {\n",
       "    var fig = this;\n",
       "\n",
       "    var canvas_div = $('<div/>');\n",
       "\n",
       "    canvas_div.attr('style', 'position: relative; clear: both; outline: 0');\n",
       "\n",
       "    function canvas_keyboard_event(event) {\n",
       "        return fig.key_event(event, event['data']);\n",
       "    }\n",
       "\n",
       "    canvas_div.keydown('key_press', canvas_keyboard_event);\n",
       "    canvas_div.keyup('key_release', canvas_keyboard_event);\n",
       "    this.canvas_div = canvas_div\n",
       "    this._canvas_extra_style(canvas_div)\n",
       "    this.root.append(canvas_div);\n",
       "\n",
       "    var canvas = $('<canvas/>');\n",
       "    canvas.addClass('mpl-canvas');\n",
       "    canvas.attr('style', \"left: 0; top: 0; z-index: 0; outline: 0\")\n",
       "\n",
       "    this.canvas = canvas[0];\n",
       "    this.context = canvas[0].getContext(\"2d\");\n",
       "\n",
       "    var backingStore = this.context.backingStorePixelRatio ||\n",
       "\tthis.context.webkitBackingStorePixelRatio ||\n",
       "\tthis.context.mozBackingStorePixelRatio ||\n",
       "\tthis.context.msBackingStorePixelRatio ||\n",
       "\tthis.context.oBackingStorePixelRatio ||\n",
       "\tthis.context.backingStorePixelRatio || 1;\n",
       "\n",
       "    mpl.ratio = (window.devicePixelRatio || 1) / backingStore;\n",
       "\n",
       "    var rubberband = $('<canvas/>');\n",
       "    rubberband.attr('style', \"position: absolute; left: 0; top: 0; z-index: 1;\")\n",
       "\n",
       "    var pass_mouse_events = true;\n",
       "\n",
       "    canvas_div.resizable({\n",
       "        start: function(event, ui) {\n",
       "            pass_mouse_events = false;\n",
       "        },\n",
       "        resize: function(event, ui) {\n",
       "            fig.request_resize(ui.size.width, ui.size.height);\n",
       "        },\n",
       "        stop: function(event, ui) {\n",
       "            pass_mouse_events = true;\n",
       "            fig.request_resize(ui.size.width, ui.size.height);\n",
       "        },\n",
       "    });\n",
       "\n",
       "    function mouse_event_fn(event) {\n",
       "        if (pass_mouse_events)\n",
       "            return fig.mouse_event(event, event['data']);\n",
       "    }\n",
       "\n",
       "    rubberband.mousedown('button_press', mouse_event_fn);\n",
       "    rubberband.mouseup('button_release', mouse_event_fn);\n",
       "    // Throttle sequential mouse events to 1 every 20ms.\n",
       "    rubberband.mousemove('motion_notify', mouse_event_fn);\n",
       "\n",
       "    rubberband.mouseenter('figure_enter', mouse_event_fn);\n",
       "    rubberband.mouseleave('figure_leave', mouse_event_fn);\n",
       "\n",
       "    canvas_div.on(\"wheel\", function (event) {\n",
       "        event = event.originalEvent;\n",
       "        event['data'] = 'scroll'\n",
       "        if (event.deltaY < 0) {\n",
       "            event.step = 1;\n",
       "        } else {\n",
       "            event.step = -1;\n",
       "        }\n",
       "        mouse_event_fn(event);\n",
       "    });\n",
       "\n",
       "    canvas_div.append(canvas);\n",
       "    canvas_div.append(rubberband);\n",
       "\n",
       "    this.rubberband = rubberband;\n",
       "    this.rubberband_canvas = rubberband[0];\n",
       "    this.rubberband_context = rubberband[0].getContext(\"2d\");\n",
       "    this.rubberband_context.strokeStyle = \"#000000\";\n",
       "\n",
       "    this._resize_canvas = function(width, height) {\n",
       "        // Keep the size of the canvas, canvas container, and rubber band\n",
       "        // canvas in synch.\n",
       "        canvas_div.css('width', width)\n",
       "        canvas_div.css('height', height)\n",
       "\n",
       "        canvas.attr('width', width * mpl.ratio);\n",
       "        canvas.attr('height', height * mpl.ratio);\n",
       "        canvas.attr('style', 'width: ' + width + 'px; height: ' + height + 'px;');\n",
       "\n",
       "        rubberband.attr('width', width);\n",
       "        rubberband.attr('height', height);\n",
       "    }\n",
       "\n",
       "    // Set the figure to an initial 600x600px, this will subsequently be updated\n",
       "    // upon first draw.\n",
       "    this._resize_canvas(600, 600);\n",
       "\n",
       "    // Disable right mouse context menu.\n",
       "    $(this.rubberband_canvas).bind(\"contextmenu\",function(e){\n",
       "        return false;\n",
       "    });\n",
       "\n",
       "    function set_focus () {\n",
       "        canvas.focus();\n",
       "        canvas_div.focus();\n",
       "    }\n",
       "\n",
       "    window.setTimeout(set_focus, 100);\n",
       "}\n",
       "\n",
       "mpl.figure.prototype._init_toolbar = function() {\n",
       "    var fig = this;\n",
       "\n",
       "    var nav_element = $('<div/>')\n",
       "    nav_element.attr('style', 'width: 100%');\n",
       "    this.root.append(nav_element);\n",
       "\n",
       "    // Define a callback function for later on.\n",
       "    function toolbar_event(event) {\n",
       "        return fig.toolbar_button_onclick(event['data']);\n",
       "    }\n",
       "    function toolbar_mouse_event(event) {\n",
       "        return fig.toolbar_button_onmouseover(event['data']);\n",
       "    }\n",
       "\n",
       "    for(var toolbar_ind in mpl.toolbar_items) {\n",
       "        var name = mpl.toolbar_items[toolbar_ind][0];\n",
       "        var tooltip = mpl.toolbar_items[toolbar_ind][1];\n",
       "        var image = mpl.toolbar_items[toolbar_ind][2];\n",
       "        var method_name = mpl.toolbar_items[toolbar_ind][3];\n",
       "\n",
       "        if (!name) {\n",
       "            // put a spacer in here.\n",
       "            continue;\n",
       "        }\n",
       "        var button = $('<button/>');\n",
       "        button.addClass('ui-button ui-widget ui-state-default ui-corner-all ' +\n",
       "                        'ui-button-icon-only');\n",
       "        button.attr('role', 'button');\n",
       "        button.attr('aria-disabled', 'false');\n",
       "        button.click(method_name, toolbar_event);\n",
       "        button.mouseover(tooltip, toolbar_mouse_event);\n",
       "\n",
       "        var icon_img = $('<span/>');\n",
       "        icon_img.addClass('ui-button-icon-primary ui-icon');\n",
       "        icon_img.addClass(image);\n",
       "        icon_img.addClass('ui-corner-all');\n",
       "\n",
       "        var tooltip_span = $('<span/>');\n",
       "        tooltip_span.addClass('ui-button-text');\n",
       "        tooltip_span.html(tooltip);\n",
       "\n",
       "        button.append(icon_img);\n",
       "        button.append(tooltip_span);\n",
       "\n",
       "        nav_element.append(button);\n",
       "    }\n",
       "\n",
       "    var fmt_picker_span = $('<span/>');\n",
       "\n",
       "    var fmt_picker = $('<select/>');\n",
       "    fmt_picker.addClass('mpl-toolbar-option ui-widget ui-widget-content');\n",
       "    fmt_picker_span.append(fmt_picker);\n",
       "    nav_element.append(fmt_picker_span);\n",
       "    this.format_dropdown = fmt_picker[0];\n",
       "\n",
       "    for (var ind in mpl.extensions) {\n",
       "        var fmt = mpl.extensions[ind];\n",
       "        var option = $(\n",
       "            '<option/>', {selected: fmt === mpl.default_extension}).html(fmt);\n",
       "        fmt_picker.append(option)\n",
       "    }\n",
       "\n",
       "    // Add hover states to the ui-buttons\n",
       "    $( \".ui-button\" ).hover(\n",
       "        function() { $(this).addClass(\"ui-state-hover\");},\n",
       "        function() { $(this).removeClass(\"ui-state-hover\");}\n",
       "    );\n",
       "\n",
       "    var status_bar = $('<span class=\"mpl-message\"/>');\n",
       "    nav_element.append(status_bar);\n",
       "    this.message = status_bar[0];\n",
       "}\n",
       "\n",
       "mpl.figure.prototype.request_resize = function(x_pixels, y_pixels) {\n",
       "    // Request matplotlib to resize the figure. Matplotlib will then trigger a resize in the client,\n",
       "    // which will in turn request a refresh of the image.\n",
       "    this.send_message('resize', {'width': x_pixels, 'height': y_pixels});\n",
       "}\n",
       "\n",
       "mpl.figure.prototype.send_message = function(type, properties) {\n",
       "    properties['type'] = type;\n",
       "    properties['figure_id'] = this.id;\n",
       "    this.ws.send(JSON.stringify(properties));\n",
       "}\n",
       "\n",
       "mpl.figure.prototype.send_draw_message = function() {\n",
       "    if (!this.waiting) {\n",
       "        this.waiting = true;\n",
       "        this.ws.send(JSON.stringify({type: \"draw\", figure_id: this.id}));\n",
       "    }\n",
       "}\n",
       "\n",
       "\n",
       "mpl.figure.prototype.handle_save = function(fig, msg) {\n",
       "    var format_dropdown = fig.format_dropdown;\n",
       "    var format = format_dropdown.options[format_dropdown.selectedIndex].value;\n",
       "    fig.ondownload(fig, format);\n",
       "}\n",
       "\n",
       "\n",
       "mpl.figure.prototype.handle_resize = function(fig, msg) {\n",
       "    var size = msg['size'];\n",
       "    if (size[0] != fig.canvas.width || size[1] != fig.canvas.height) {\n",
       "        fig._resize_canvas(size[0], size[1]);\n",
       "        fig.send_message(\"refresh\", {});\n",
       "    };\n",
       "}\n",
       "\n",
       "mpl.figure.prototype.handle_rubberband = function(fig, msg) {\n",
       "    var x0 = msg['x0'] / mpl.ratio;\n",
       "    var y0 = (fig.canvas.height - msg['y0']) / mpl.ratio;\n",
       "    var x1 = msg['x1'] / mpl.ratio;\n",
       "    var y1 = (fig.canvas.height - msg['y1']) / mpl.ratio;\n",
       "    x0 = Math.floor(x0) + 0.5;\n",
       "    y0 = Math.floor(y0) + 0.5;\n",
       "    x1 = Math.floor(x1) + 0.5;\n",
       "    y1 = Math.floor(y1) + 0.5;\n",
       "    var min_x = Math.min(x0, x1);\n",
       "    var min_y = Math.min(y0, y1);\n",
       "    var width = Math.abs(x1 - x0);\n",
       "    var height = Math.abs(y1 - y0);\n",
       "\n",
       "    fig.rubberband_context.clearRect(\n",
       "        0, 0, fig.canvas.width, fig.canvas.height);\n",
       "\n",
       "    fig.rubberband_context.strokeRect(min_x, min_y, width, height);\n",
       "}\n",
       "\n",
       "mpl.figure.prototype.handle_figure_label = function(fig, msg) {\n",
       "    // Updates the figure title.\n",
       "    fig.header.textContent = msg['label'];\n",
       "}\n",
       "\n",
       "mpl.figure.prototype.handle_cursor = function(fig, msg) {\n",
       "    var cursor = msg['cursor'];\n",
       "    switch(cursor)\n",
       "    {\n",
       "    case 0:\n",
       "        cursor = 'pointer';\n",
       "        break;\n",
       "    case 1:\n",
       "        cursor = 'default';\n",
       "        break;\n",
       "    case 2:\n",
       "        cursor = 'crosshair';\n",
       "        break;\n",
       "    case 3:\n",
       "        cursor = 'move';\n",
       "        break;\n",
       "    }\n",
       "    fig.rubberband_canvas.style.cursor = cursor;\n",
       "}\n",
       "\n",
       "mpl.figure.prototype.handle_message = function(fig, msg) {\n",
       "    fig.message.textContent = msg['message'];\n",
       "}\n",
       "\n",
       "mpl.figure.prototype.handle_draw = function(fig, msg) {\n",
       "    // Request the server to send over a new figure.\n",
       "    fig.send_draw_message();\n",
       "}\n",
       "\n",
       "mpl.figure.prototype.handle_image_mode = function(fig, msg) {\n",
       "    fig.image_mode = msg['mode'];\n",
       "}\n",
       "\n",
       "mpl.figure.prototype.updated_canvas_event = function() {\n",
       "    // Called whenever the canvas gets updated.\n",
       "    this.send_message(\"ack\", {});\n",
       "}\n",
       "\n",
       "// A function to construct a web socket function for onmessage handling.\n",
       "// Called in the figure constructor.\n",
       "mpl.figure.prototype._make_on_message_function = function(fig) {\n",
       "    return function socket_on_message(evt) {\n",
       "        if (evt.data instanceof Blob) {\n",
       "            /* FIXME: We get \"Resource interpreted as Image but\n",
       "             * transferred with MIME type text/plain:\" errors on\n",
       "             * Chrome.  But how to set the MIME type?  It doesn't seem\n",
       "             * to be part of the websocket stream */\n",
       "            evt.data.type = \"image/png\";\n",
       "\n",
       "            /* Free the memory for the previous frames */\n",
       "            if (fig.imageObj.src) {\n",
       "                (window.URL || window.webkitURL).revokeObjectURL(\n",
       "                    fig.imageObj.src);\n",
       "            }\n",
       "\n",
       "            fig.imageObj.src = (window.URL || window.webkitURL).createObjectURL(\n",
       "                evt.data);\n",
       "            fig.updated_canvas_event();\n",
       "            fig.waiting = false;\n",
       "            return;\n",
       "        }\n",
       "        else if (typeof evt.data === 'string' && evt.data.slice(0, 21) == \"data:image/png;base64\") {\n",
       "            fig.imageObj.src = evt.data;\n",
       "            fig.updated_canvas_event();\n",
       "            fig.waiting = false;\n",
       "            return;\n",
       "        }\n",
       "\n",
       "        var msg = JSON.parse(evt.data);\n",
       "        var msg_type = msg['type'];\n",
       "\n",
       "        // Call the  \"handle_{type}\" callback, which takes\n",
       "        // the figure and JSON message as its only arguments.\n",
       "        try {\n",
       "            var callback = fig[\"handle_\" + msg_type];\n",
       "        } catch (e) {\n",
       "            console.log(\"No handler for the '\" + msg_type + \"' message type: \", msg);\n",
       "            return;\n",
       "        }\n",
       "\n",
       "        if (callback) {\n",
       "            try {\n",
       "                // console.log(\"Handling '\" + msg_type + \"' message: \", msg);\n",
       "                callback(fig, msg);\n",
       "            } catch (e) {\n",
       "                console.log(\"Exception inside the 'handler_\" + msg_type + \"' callback:\", e, e.stack, msg);\n",
       "            }\n",
       "        }\n",
       "    };\n",
       "}\n",
       "\n",
       "// from http://stackoverflow.com/questions/1114465/getting-mouse-location-in-canvas\n",
       "mpl.findpos = function(e) {\n",
       "    //this section is from http://www.quirksmode.org/js/events_properties.html\n",
       "    var targ;\n",
       "    if (!e)\n",
       "        e = window.event;\n",
       "    if (e.target)\n",
       "        targ = e.target;\n",
       "    else if (e.srcElement)\n",
       "        targ = e.srcElement;\n",
       "    if (targ.nodeType == 3) // defeat Safari bug\n",
       "        targ = targ.parentNode;\n",
       "\n",
       "    // jQuery normalizes the pageX and pageY\n",
       "    // pageX,Y are the mouse positions relative to the document\n",
       "    // offset() returns the position of the element relative to the document\n",
       "    var x = e.pageX - $(targ).offset().left;\n",
       "    var y = e.pageY - $(targ).offset().top;\n",
       "\n",
       "    return {\"x\": x, \"y\": y};\n",
       "};\n",
       "\n",
       "/*\n",
       " * return a copy of an object with only non-object keys\n",
       " * we need this to avoid circular references\n",
       " * http://stackoverflow.com/a/24161582/3208463\n",
       " */\n",
       "function simpleKeys (original) {\n",
       "  return Object.keys(original).reduce(function (obj, key) {\n",
       "    if (typeof original[key] !== 'object')\n",
       "        obj[key] = original[key]\n",
       "    return obj;\n",
       "  }, {});\n",
       "}\n",
       "\n",
       "mpl.figure.prototype.mouse_event = function(event, name) {\n",
       "    var canvas_pos = mpl.findpos(event)\n",
       "\n",
       "    if (name === 'button_press')\n",
       "    {\n",
       "        this.canvas.focus();\n",
       "        this.canvas_div.focus();\n",
       "    }\n",
       "\n",
       "    var x = canvas_pos.x * mpl.ratio;\n",
       "    var y = canvas_pos.y * mpl.ratio;\n",
       "\n",
       "    this.send_message(name, {x: x, y: y, button: event.button,\n",
       "                             step: event.step,\n",
       "                             guiEvent: simpleKeys(event)});\n",
       "\n",
       "    /* This prevents the web browser from automatically changing to\n",
       "     * the text insertion cursor when the button is pressed.  We want\n",
       "     * to control all of the cursor setting manually through the\n",
       "     * 'cursor' event from matplotlib */\n",
       "    event.preventDefault();\n",
       "    return false;\n",
       "}\n",
       "\n",
       "mpl.figure.prototype._key_event_extra = function(event, name) {\n",
       "    // Handle any extra behaviour associated with a key event\n",
       "}\n",
       "\n",
       "mpl.figure.prototype.key_event = function(event, name) {\n",
       "\n",
       "    // Prevent repeat events\n",
       "    if (name == 'key_press')\n",
       "    {\n",
       "        if (event.which === this._key)\n",
       "            return;\n",
       "        else\n",
       "            this._key = event.which;\n",
       "    }\n",
       "    if (name == 'key_release')\n",
       "        this._key = null;\n",
       "\n",
       "    var value = '';\n",
       "    if (event.ctrlKey && event.which != 17)\n",
       "        value += \"ctrl+\";\n",
       "    if (event.altKey && event.which != 18)\n",
       "        value += \"alt+\";\n",
       "    if (event.shiftKey && event.which != 16)\n",
       "        value += \"shift+\";\n",
       "\n",
       "    value += 'k';\n",
       "    value += event.which.toString();\n",
       "\n",
       "    this._key_event_extra(event, name);\n",
       "\n",
       "    this.send_message(name, {key: value,\n",
       "                             guiEvent: simpleKeys(event)});\n",
       "    return false;\n",
       "}\n",
       "\n",
       "mpl.figure.prototype.toolbar_button_onclick = function(name) {\n",
       "    if (name == 'download') {\n",
       "        this.handle_save(this, null);\n",
       "    } else {\n",
       "        this.send_message(\"toolbar_button\", {name: name});\n",
       "    }\n",
       "};\n",
       "\n",
       "mpl.figure.prototype.toolbar_button_onmouseover = function(tooltip) {\n",
       "    this.message.textContent = tooltip;\n",
       "};\n",
       "mpl.toolbar_items = [[\"Home\", \"Reset original view\", \"fa fa-home icon-home\", \"home\"], [\"Back\", \"Back to  previous view\", \"fa fa-arrow-left icon-arrow-left\", \"back\"], [\"Forward\", \"Forward to next view\", \"fa fa-arrow-right icon-arrow-right\", \"forward\"], [\"\", \"\", \"\", \"\"], [\"Pan\", \"Pan axes with left mouse, zoom with right\", \"fa fa-arrows icon-move\", \"pan\"], [\"Zoom\", \"Zoom to rectangle\", \"fa fa-square-o icon-check-empty\", \"zoom\"], [\"\", \"\", \"\", \"\"], [\"Download\", \"Download plot\", \"fa fa-floppy-o icon-save\", \"download\"]];\n",
       "\n",
       "mpl.extensions = [\"eps\", \"pdf\", \"png\", \"ps\", \"raw\", \"svg\"];\n",
       "\n",
       "mpl.default_extension = \"png\";var comm_websocket_adapter = function(comm) {\n",
       "    // Create a \"websocket\"-like object which calls the given IPython comm\n",
       "    // object with the appropriate methods. Currently this is a non binary\n",
       "    // socket, so there is still some room for performance tuning.\n",
       "    var ws = {};\n",
       "\n",
       "    ws.close = function() {\n",
       "        comm.close()\n",
       "    };\n",
       "    ws.send = function(m) {\n",
       "        //console.log('sending', m);\n",
       "        comm.send(m);\n",
       "    };\n",
       "    // Register the callback with on_msg.\n",
       "    comm.on_msg(function(msg) {\n",
       "        //console.log('receiving', msg['content']['data'], msg);\n",
       "        // Pass the mpl event to the overriden (by mpl) onmessage function.\n",
       "        ws.onmessage(msg['content']['data'])\n",
       "    });\n",
       "    return ws;\n",
       "}\n",
       "\n",
       "mpl.mpl_figure_comm = function(comm, msg) {\n",
       "    // This is the function which gets called when the mpl process\n",
       "    // starts-up an IPython Comm through the \"matplotlib\" channel.\n",
       "\n",
       "    var id = msg.content.data.id;\n",
       "    // Get hold of the div created by the display call when the Comm\n",
       "    // socket was opened in Python.\n",
       "    var element = $(\"#\" + id);\n",
       "    var ws_proxy = comm_websocket_adapter(comm)\n",
       "\n",
       "    function ondownload(figure, format) {\n",
       "        window.open(figure.imageObj.src);\n",
       "    }\n",
       "\n",
       "    var fig = new mpl.figure(id, ws_proxy,\n",
       "                           ondownload,\n",
       "                           element.get(0));\n",
       "\n",
       "    // Call onopen now - mpl needs it, as it is assuming we've passed it a real\n",
       "    // web socket which is closed, not our websocket->open comm proxy.\n",
       "    ws_proxy.onopen();\n",
       "\n",
       "    fig.parent_element = element.get(0);\n",
       "    fig.cell_info = mpl.find_output_cell(\"<div id='\" + id + \"'></div>\");\n",
       "    if (!fig.cell_info) {\n",
       "        console.error(\"Failed to find cell for figure\", id, fig);\n",
       "        return;\n",
       "    }\n",
       "\n",
       "    var output_index = fig.cell_info[2]\n",
       "    var cell = fig.cell_info[0];\n",
       "\n",
       "};\n",
       "\n",
       "mpl.figure.prototype.handle_close = function(fig, msg) {\n",
       "    var width = fig.canvas.width/mpl.ratio\n",
       "    fig.root.unbind('remove')\n",
       "\n",
       "    // Update the output cell to use the data from the current canvas.\n",
       "    fig.push_to_output();\n",
       "    var dataURL = fig.canvas.toDataURL();\n",
       "    // Re-enable the keyboard manager in IPython - without this line, in FF,\n",
       "    // the notebook keyboard shortcuts fail.\n",
       "    IPython.keyboard_manager.enable()\n",
       "    $(fig.parent_element).html('<img src=\"' + dataURL + '\" width=\"' + width + '\">');\n",
       "    fig.close_ws(fig, msg);\n",
       "}\n",
       "\n",
       "mpl.figure.prototype.close_ws = function(fig, msg){\n",
       "    fig.send_message('closing', msg);\n",
       "    // fig.ws.close()\n",
       "}\n",
       "\n",
       "mpl.figure.prototype.push_to_output = function(remove_interactive) {\n",
       "    // Turn the data on the canvas into data in the output cell.\n",
       "    var width = this.canvas.width/mpl.ratio\n",
       "    var dataURL = this.canvas.toDataURL();\n",
       "    this.cell_info[1]['text/html'] = '<img src=\"' + dataURL + '\" width=\"' + width + '\">';\n",
       "}\n",
       "\n",
       "mpl.figure.prototype.updated_canvas_event = function() {\n",
       "    // Tell IPython that the notebook contents must change.\n",
       "    IPython.notebook.set_dirty(true);\n",
       "    this.send_message(\"ack\", {});\n",
       "    var fig = this;\n",
       "    // Wait a second, then push the new image to the DOM so\n",
       "    // that it is saved nicely (might be nice to debounce this).\n",
       "    setTimeout(function () { fig.push_to_output() }, 1000);\n",
       "}\n",
       "\n",
       "mpl.figure.prototype._init_toolbar = function() {\n",
       "    var fig = this;\n",
       "\n",
       "    var nav_element = $('<div/>')\n",
       "    nav_element.attr('style', 'width: 100%');\n",
       "    this.root.append(nav_element);\n",
       "\n",
       "    // Define a callback function for later on.\n",
       "    function toolbar_event(event) {\n",
       "        return fig.toolbar_button_onclick(event['data']);\n",
       "    }\n",
       "    function toolbar_mouse_event(event) {\n",
       "        return fig.toolbar_button_onmouseover(event['data']);\n",
       "    }\n",
       "\n",
       "    for(var toolbar_ind in mpl.toolbar_items){\n",
       "        var name = mpl.toolbar_items[toolbar_ind][0];\n",
       "        var tooltip = mpl.toolbar_items[toolbar_ind][1];\n",
       "        var image = mpl.toolbar_items[toolbar_ind][2];\n",
       "        var method_name = mpl.toolbar_items[toolbar_ind][3];\n",
       "\n",
       "        if (!name) { continue; };\n",
       "\n",
       "        var button = $('<button class=\"btn btn-default\" href=\"#\" title=\"' + name + '\"><i class=\"fa ' + image + ' fa-lg\"></i></button>');\n",
       "        button.click(method_name, toolbar_event);\n",
       "        button.mouseover(tooltip, toolbar_mouse_event);\n",
       "        nav_element.append(button);\n",
       "    }\n",
       "\n",
       "    // Add the status bar.\n",
       "    var status_bar = $('<span class=\"mpl-message\" style=\"text-align:right; float: right;\"/>');\n",
       "    nav_element.append(status_bar);\n",
       "    this.message = status_bar[0];\n",
       "\n",
       "    // Add the close button to the window.\n",
       "    var buttongrp = $('<div class=\"btn-group inline pull-right\"></div>');\n",
       "    var button = $('<button class=\"btn btn-mini btn-primary\" href=\"#\" title=\"Stop Interaction\"><i class=\"fa fa-power-off icon-remove icon-large\"></i></button>');\n",
       "    button.click(function (evt) { fig.handle_close(fig, {}); } );\n",
       "    button.mouseover('Stop Interaction', toolbar_mouse_event);\n",
       "    buttongrp.append(button);\n",
       "    var titlebar = this.root.find($('.ui-dialog-titlebar'));\n",
       "    titlebar.prepend(buttongrp);\n",
       "}\n",
       "\n",
       "mpl.figure.prototype._root_extra_style = function(el){\n",
       "    var fig = this\n",
       "    el.on(\"remove\", function(){\n",
       "\tfig.close_ws(fig, {});\n",
       "    });\n",
       "}\n",
       "\n",
       "mpl.figure.prototype._canvas_extra_style = function(el){\n",
       "    // this is important to make the div 'focusable\n",
       "    el.attr('tabindex', 0)\n",
       "    // reach out to IPython and tell the keyboard manager to turn it's self\n",
       "    // off when our div gets focus\n",
       "\n",
       "    // location in version 3\n",
       "    if (IPython.notebook.keyboard_manager) {\n",
       "        IPython.notebook.keyboard_manager.register_events(el);\n",
       "    }\n",
       "    else {\n",
       "        // location in version 2\n",
       "        IPython.keyboard_manager.register_events(el);\n",
       "    }\n",
       "\n",
       "}\n",
       "\n",
       "mpl.figure.prototype._key_event_extra = function(event, name) {\n",
       "    var manager = IPython.notebook.keyboard_manager;\n",
       "    if (!manager)\n",
       "        manager = IPython.keyboard_manager;\n",
       "\n",
       "    // Check for shift+enter\n",
       "    if (event.shiftKey && event.which == 13) {\n",
       "        this.canvas_div.blur();\n",
       "        // select the cell after this one\n",
       "        var index = IPython.notebook.find_cell_index(this.cell_info[0]);\n",
       "        IPython.notebook.select(index + 1);\n",
       "    }\n",
       "}\n",
       "\n",
       "mpl.figure.prototype.handle_save = function(fig, msg) {\n",
       "    fig.ondownload(fig, null);\n",
       "}\n",
       "\n",
       "\n",
       "mpl.find_output_cell = function(html_output) {\n",
       "    // Return the cell and output element which can be found *uniquely* in the notebook.\n",
       "    // Note - this is a bit hacky, but it is done because the \"notebook_saving.Notebook\"\n",
       "    // IPython event is triggered only after the cells have been serialised, which for\n",
       "    // our purposes (turning an active figure into a static one), is too late.\n",
       "    var cells = IPython.notebook.get_cells();\n",
       "    var ncells = cells.length;\n",
       "    for (var i=0; i<ncells; i++) {\n",
       "        var cell = cells[i];\n",
       "        if (cell.cell_type === 'code'){\n",
       "            for (var j=0; j<cell.output_area.outputs.length; j++) {\n",
       "                var data = cell.output_area.outputs[j];\n",
       "                if (data.data) {\n",
       "                    // IPython >= 3 moved mimebundle to data attribute of output\n",
       "                    data = data.data;\n",
       "                }\n",
       "                if (data['text/html'] == html_output) {\n",
       "                    return [cell, data, j];\n",
       "                }\n",
       "            }\n",
       "        }\n",
       "    }\n",
       "}\n",
       "\n",
       "// Register the function which deals with the matplotlib target/channel.\n",
       "// The kernel may be null if the page has been refreshed.\n",
       "if (IPython.notebook.kernel != null) {\n",
       "    IPython.notebook.kernel.comm_manager.register_target('matplotlib', mpl.mpl_figure_comm);\n",
       "}\n"
      ],
      "text/plain": [
       "<IPython.core.display.Javascript object>"
      ]
     },
     "metadata": {},
     "output_type": "display_data"
    },
    {
     "data": {
      "text/html": [
       "<img src=\"data:image/png;base64,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\" width=\"640\">"
      ],
      "text/plain": [
       "<IPython.core.display.HTML object>"
      ]
     },
     "metadata": {},
     "output_type": "display_data"
    }
   ],
   "source": [
    "%matplotlib notebook\n",
    "\n",
    "from matplotlib import pyplot as plt\n",
    "import numpy as np\n",
    "\n",
    "import mraa, upm, math, time\n",
    "from upm import pyupm_bmp280 as bmp280\n",
    "bus1 = 0\n",
    "# Adresse à vérifier 0x76 ou 0X77 selon les modèles\n",
    "addr = 0x77\n",
    "pauseVal = 0.5\n",
    "bme = bmp280.BME280(bus1,addr)\n",
    "localAlt = 156.5\n",
    "x = []; y1 = []; y2 = [] ; y3 = []; y4 = []\n",
    "fig = plt.figure()\n",
    "\n",
    "ax1 = fig.add_subplot(221)\n",
    "ax2 = fig.add_subplot(222)\n",
    "ax3 = fig.add_subplot(212)\n",
    "\n",
    "ax1.set_title(\"Mesures Hygro. BME280\")    \n",
    "ax1.set_xlabel('Temps en secondes')\n",
    "ax1.set_ylabel('Valeur mesurée')\n",
    "\n",
    "ax2.set_title(\"Mesures Temp. BME280\")    \n",
    "ax2.set_xlabel('Temps en secondes')\n",
    "ax2.set_ylabel('Valeur mesurée')\n",
    "\n",
    "ax3.set_title(\"Mesures Press. BME280\")    \n",
    "ax3.set_xlabel('Temps en secondes')\n",
    "ax3.set_ylabel('Valeur mesurée')\n",
    "\n",
    "ax1.plot(x,y1, c='r', label='Hygrométrie')\n",
    "ax2.plot(x,y2, c='b', label='Température')\n",
    "ax3.plot(x,y3, c='g', label='Pression')\n",
    "\n",
    "ax1.legend()\n",
    "ax2.legend()\n",
    "ax3.legend()\n",
    "tmoy = 0.\n",
    "pmoy = 0.\n",
    "hmoy = 0.\n",
    "for i in range(10):\n",
    "    bme.update()\n",
    "    tempBME = bme.getTemperature()\n",
    "    pressBME = bme.getPressure() / 100.0\n",
    "    hygroBME = bme.getHumidity()\n",
    "    time.sleep (pauseVal)\n",
    "    tmoy += tempBME\n",
    "    pmoy += pressBME\n",
    "    hmoy += hygroBME\n",
    "tmoy /= 10.\n",
    "pmoy /= 10.\n",
    "hmoy /= 10.\n",
    "tmoy = math.floor(tmoy)\n",
    "pmoy = math.floor(pmoy)\n",
    "hmoy = math.floor(hmoy)\n",
    "ax1.set_ylim([(hmoy - 1.0), (hmoy + 3.0)])\n",
    "ax2.set_ylim([(tmoy - 1.0),(tmoy + 3.0)])\n",
    "ax3.set_ylim([(pmoy - 1.0), (pmoy + 3.0)])\n",
    "for jump in range(0,5) :\n",
    "    lim1 = -10.0 + jump * 100.0\n",
    "    lim2 = 100.0 + jump * 100.0\n",
    "    ax1.set_xlim([lim1,lim2])\n",
    "    ax2.set_xlim([lim1,lim2])\n",
    "    ax3.set_xlim([lim1,lim2])\n",
    "    plt.tight_layout()\n",
    "    fig.canvas.draw()\n",
    "    start = jump * 50\n",
    "    stop = (jump + 1)*50\n",
    "    for num in range(start,stop):\n",
    "        mestime = num * 2.0\n",
    "        bme.update()\n",
    "        tempBME = bme.getTemperature()\n",
    "        pressBME = bme.getPressure() / 100.0\n",
    "        hygroBME = bme.getHumidity()\n",
    "        time.sleep (pauseVal)\n",
    "   \n",
    "        x.append(float(mestime))\n",
    "        y1.append(float(hygroBME))\n",
    "        y2.append(float(tempBME))\n",
    "        y3.append(float(pressBME))\n",
    "        ax1.plot(x,y1, c='r', label='Hygrométrie')\n",
    "        ax2.plot(x,y2, c='b', label='Température')\n",
    "        ax3.plot(x,y3, c='g', label='Pression')    "
   ]
  },
  {
   "cell_type": "code",
   "execution_count": null,
   "metadata": {
    "collapsed": true,
    "extensions": {
     "jupyter_dashboards": {
      "version": 1,
      "views": {
       "grid_default": {
        "hidden": true
       },
       "report_default": {
        "hidden": false
       }
      }
     }
    }
   },
   "outputs": [],
   "source": []
  }
 ],
 "metadata": {
  "extensions": {
   "jupyter_dashboards": {
    "activeView": "report_default",
    "version": 1,
    "views": {
     "grid_default": {
      "cellMargin": 10,
      "defaultCellHeight": 20,
      "maxColumns": 12,
      "name": "grid",
      "type": "grid"
     },
     "report_default": {
      "name": "report",
      "type": "report"
     }
    }
   }
  },
  "kernelspec": {
   "display_name": "Python 3",
   "language": "python",
   "name": "python3"
  },
  "language_info": {
   "codemirror_mode": {
    "name": "ipython",
    "version": 3
   },
   "file_extension": ".py",
   "mimetype": "text/x-python",
   "name": "python",
   "nbconvert_exporter": "python",
   "pygments_lexer": "ipython3",
   "version": "3.5.4"
  }
 },
 "nbformat": 4,
 "nbformat_minor": 1
}
