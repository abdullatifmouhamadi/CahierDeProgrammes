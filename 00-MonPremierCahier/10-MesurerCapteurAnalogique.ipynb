{
 "cells": [
  {
   "cell_type": "markdown",
   "metadata": {},
   "source": [
    "\n",
    "|  |\n",
    "| ------------------------------------------------------- | \n",
    "| ![Tremplin des sciences](images/tremplinColorSmall.png) | \n",
    "\n",
    "Cahier d'exercices pour l'enseignement et l'apprentissage de programmation issu de la collection \"Climat et météo tremplin pour l'enseignement des sciences\" (PIA IFÉ ENS de Lyon - Météofrance ENM Toulouse). Le dispositif clef en main repose sur l'utilisation d'une RaspberryPi chargée avec le système d'exploitation Debian enrichi, fourni par le projet. Les sources et les exécutables sont accessibles dans [l'espace collaboratif de la forge github](https://github.com/g-vidal/CahierDeProgrammes); plus d'information sur les [blogs d'accompagnement](http://blog.climatetmeteo.fr/GerardVidal/) systèmes d'exploitation sur [la page des OS  de Raspberries Pi](http://mediaserv.climatetmeteo.fr/images/RaspBerry/DebianStretchPi3/).  Toutes les ressources issues du projet sont fournies sous licence [Creative Commons](https://creativecommons.org/licenses/by-nc/4.0/) ou sous les licences libres d'origine des outils utilisés. Les ressources  du projet peuvent être utilisées dans tout autre environnement compatible.![licence : Creative Commons](images/Licence.jpg) \n",
    "\n",
    "Auteurs : G. Vidal, C-H. Eyraud, E. le Jan\n",
    "\n",
    "------------------------------------------------------------"
   ]
  },
  {
   "cell_type": "markdown",
   "metadata": {},
   "source": [
    "# Le montage\n",
    "\n",
    "## Utilisation d'un capteur analogique\n",
    "\n",
    "Certains capteurs en particulier le capteur de niveau d'eau ou capteur d'humidite du sol  fournissent un signal analogique; c'est pourquoi il faut les convertir en signal numérique pour pouvoir les exploiter avec une RaspberryPI\n",
    "\n",
    "![Capteur de niveau d'eau ](images/WaterSensor.jpg)  |  ![Capteur d'humidité](images/MoistureSensor.jpg)\n",
    "\n",
    "\n",
    "## Le convertisseur Analogique --> digital\n",
    "\n",
    "Nous avons à notre disposition deux convertisseurs analogique numérique dont le fonctionnement est identique. Ce qui les diffférencie est la grandeur privilégiée: fréquence d'échantillonnage pour le premier, précision de l'échantillonnage pour le second.\n",
    "\n",
    " * [ADS1015](https://iotdk.intel.com/docs/master/upm/classupm_1_1_a_d_s1015.html) Résolution de 12 bit, Fréquence d'échantillonnage Min : 128 Hz Max :3300 Hz (SPS_128 à SPS_3300)\n",
    " * [ADS1115](https://iotdk.intel.com/docs/master/upm/classupm_1_1_a_d_s1115.html) Résolution  de 16 bit, Fréquence d'échantillonage Min : 8 Hz Max : 860 Hz (SPS_8 à SPS_860)\n",
    "\n",
    "Ce qui  diffférencie les deux convertisseurs est la grandeur privilégiée:\n",
    "* pour ADS1015 c'est la fréquence de l'échantillonnage \n",
    "* pour ADS1115 c'est la précision  de l'échantillonage.\n",
    "\n",
    "La totalité des commandes sont communes sauf le réglage de la fréquence d'échantillonage, dans les hautes fréquences pour le `ADS1015`et dans les basses fréquences pour le `ADS1115`.\n",
    "\n",
    "Deux modes de fonctionnement sont possibles :\n",
    " * en mode différentiel le signal est mesuré par différence entre la broche de sortie et la masse\n",
    " * en mode direct le signal est mesuré directement sur la broche de sortie\n",
    " \n",
    "## Le convertisseur de niveau logique (level-shifter)\n",
    " \n",
    " Le capteur étant alimenté en 5V, il faut abaisser la tension du signal de retour pour que la broche du Raspberry ne reçoive qu'une tension de 3,3V. C'est le rôle du composant bidirectionnel Adafruit [TXB014](https://www.adafruit.com/product/1875) qui permet ici d'abaisser la tension sur le bus I2C\n",
    " \n",
    " ![Capteur de niveau d'eau ](images/LogicLevelConverter.jpg) | à gauche la basse tension (LV Low Voltage), à doite la haute tension (High Voltage)\n",
    "\n",
    "La figure ci-dessous présente l'ensemble du dispositif :\n",
    "\n",
    "![Convertisseurs vue générale](images/CapteurNiveauDEau.jpg)\n",
    "                        ![licence : Gérard Vidal](images/Licence.jpg)\n",
    "                        \n",
    "Le câblage du convertisseur ne présente pas de difficulté particulière, le point requérant un peu d'attention est le choix de l'adresse qui sera envoyée sur le bus `I2C` car il faut choisir cette adresse parmi les 4 possibles :  `0x49` `0x48` `0x4B` `0x4A`. Le choix se fait en établissant une connexion entre la broche `ADDR` et l'une des 4 broches `VDD` `GND` `SCL` `SDA`. Le tableau ci-dessous indique les équivalences des connexions :\n",
    "\n",
    "| Broche | Adresse |\n",
    "|:------ | ------- |\n",
    "| `VDD`  | `0x49`  |\n",
    "| `GND`  | `0x48`  |\n",
    "| `SCL`  | `0x4B`  |\n",
    "| `SDA`  | `0x4A`  |\n",
    "\n",
    "Le capteur analogique doit être alimenté en 5 Volts (cables rouges) et les retours des données sur le RaspberryPi en 3,3V (Cables oranges). Le cable bleu joignant les broches ADDR et VDD du convertisseur montre qu'il faudra prendre l'adresse `0x49` sur le bus I2C."
   ]
  },
  {
   "cell_type": "markdown",
   "metadata": {},
   "source": [
    "# Le programme\n",
    "## Importation des librairies nécessaires à l'utilisation du convertisseur.\n",
    "On n'importe pas de librairies propre au capteur car il s'agit d'un capteur `analogiques` qui transmet une variation de potentiel sur un fil série."
   ]
  },
  {
   "cell_type": "code",
   "execution_count": 3,
   "metadata": {},
   "outputs": [],
   "source": [
    "import mraa, upm\n",
    "from time import sleep\n",
    "from upm import pyupm_ads1x15 as upm"
   ]
  },
  {
   "cell_type": "markdown",
   "metadata": {},
   "source": [
    "## Récupération des paramètres d'état de l'échantillonneur\n",
    "\n",
    "On déclare ici l'échantillonneur et on récupère les valeurs de ses paramètres d'opération (gain, fréquence et mode). \n",
    " * getGain()\n",
    " * getSPS()\n",
    " * getContinuous()\n",
    " \n",
    "On fixe ensuite ces paramètres pour la manipulation que l'on souhaite effectuer.\n",
    " * setGain()\n",
    " * setSPS()\n",
    " * setContinuous()\n",
    " \n",
    "Le paramètre SPS contrôle la fréquence d'échantillonnage.\n",
    "* Pour ADS1015 les valeurs possibles sont : SPS_128, SPS_250, SPS_490, SPS_920, SPS_1600, SPS_2400, SPS_3300.\n",
    "\n",
    "* Pour ADS1115 les valeurs possibles étant :  SPS_8, SPS_16, SPS_32, SPS_64,\n",
    "  SPS_128, SPS_250, SPS_475, SPS_860. \n",
    "  \n",
    "Le choix du gain est aussi un paramètre crucial. La valeur doit être choisie en fonction des propriétés du capteur :  `GAIN_TWOTHIRDS` = ADS1X15_PGA_6_144V, `GAIN_ONE` = ADS1X15_PGA_4_096V, `GAIN_TWO` = ADS1X15_PGA_2_048V, `GAIN_FOUR` = ADS1X15_PGA_1_024V, `GAIN_EIGHT` = ADS1X15_PGA_0_512V, `GAIN_SIXTEEN` = ADS1X15_PGA_0_256V. "
   ]
  },
  {
   "cell_type": "code",
   "execution_count": 4,
   "metadata": {},
   "outputs": [
    {
     "name": "stdout",
     "output_type": "stream",
     "text": [
      "Gain :   512  SPS :   128 Continuous :     0\n",
      "\n",
      "Nouvelles valeurs :\n",
      "Gain :   512  SPS :    96 Continuous :     1\n"
     ]
    }
   ],
   "source": [
    "humidite = upm.ADS1015(0, 0x49)\n",
    "gain = humidite.getGain()\n",
    "rate = humidite.SPS_920\n",
    "sps = humidite.getSPS()\n",
    "cont = humidite.getContinuous() \n",
    "print (\"Gain : {0:5d}\".format(gain),\" SPS : {0:5d}\".format(sps), \n",
    "       \"Continuous : {0:5d}\".format(cont))\n",
    "humidite.setContinuous(True) # Pour ne pas faire de conversion en continu\n",
    "humidite.setGain(upm.ADS1X15.GAIN_ONE) # Passage à un gain 1024\n",
    "humidite.setSPS(rate) # Passage à une fréquence de 128 définie par la valeur de rate précédemment : SPS_128\n",
    "# Vérification\n",
    "gain = humidite.getGain()\n",
    "sps = humidite.getSPS()\n",
    "cont = humidite.getContinuous() \n",
    "print (\"\\nNouvelles valeurs :\")\n",
    "print (\"Gain : {0:5d}\".format(gain),\" SPS : {0:5d}\".format(sps), \n",
    "       \"Continuous : {0:5d}\".format(cont))"
   ]
  },
  {
   "cell_type": "markdown",
   "metadata": {},
   "source": [
    "## Mesure directe de la variable humidité\n",
    "\n",
    "Comme les données du capteur sont envoyées sur la broche analogique A3 du convertisseur, la mesure se fait par la commande suivante:"
   ]
  },
  {
   "cell_type": "code",
   "execution_count": 12,
   "metadata": {},
   "outputs": [
    {
     "name": "stdout",
     "output_type": "stream",
     "text": [
      "Mesure de l'humidité : 2.34\n",
      "\n"
     ]
    }
   ],
   "source": [
    "# qual = humidite.getSample(upm.ADS1X15.SINGLE_0)\n",
    "mesurehumidite = humidite.getSample(upm.ADS1X15.SINGLE_1)\n",
    "# On peut aussi faire une mesureplus précise en connectant une des entrée libre du convertisseur à la masse, par exemple ici A0\n",
    "# la mesure différentielle se fera alors entre A0 et A1\n",
    "# mesurehumidite_diff = humidite.getSample(upm.ADS1X15.DIFF_0_1)\n",
    "print (\"Mesure de l'humidité : {0:.2f}\\n\".format(mesurehumidite))\n",
    "#print (\"Mesure de l'humidité : {0:.2f}\\n\".format(mesurehumidite), \"Mesure Humidité Différentielle : {0:.2f}\\n\".format(mesurehumidite_diff))"
   ]
  },
  {
   "cell_type": "markdown",
   "metadata": {},
   "source": [
    "# Série de mesures à l'aide d'une boucle\n",
    "Dans le groupe suivant on répète 5 fois la mesure en partant de 0 et en allant jusqu'à 19 (inférieur à 20) au pas de 1 par défaut."
   ]
  },
  {
   "cell_type": "code",
   "execution_count": 13,
   "metadata": {},
   "outputs": [
    {
     "name": "stdout",
     "output_type": "stream",
     "text": [
      "0 Mesure de l'humidité : 2.39\n",
      "\n",
      "1 Mesure de l'humidité : 2.37\n",
      "\n",
      "2 Mesure de l'humidité : 2.40\n",
      "\n"
     ]
    }
   ],
   "source": [
    "for num in range(0,3):\n",
    "    mesurehumidite = humidite.getSample(upm.ADS1X15.SINGLE_1)\n",
    "    print (num , \"Mesure de l'humidité : {0:.2f}\\n\".format(mesurehumidite))    \n",
    "    sleep(2)"
   ]
  },
  {
   "cell_type": "markdown",
   "metadata": {},
   "source": [
    "# Afficher la mesure\n",
    "\n",
    "Nous utiliserons l'[Afficheur couleur Grove](http://wiki.seeedstudio.com/Grove-LCD_RGB_Backlight/) qui sera sur le bus I2C\n",
    "Voir le cahier numéro 05 qui explique les lignes de code suivantes"
   ]
  },
  {
   "cell_type": "code",
   "execution_count": 11,
   "metadata": {},
   "outputs": [],
   "source": [
    "# Importation de la bibliothèque de l'afficheur\n",
    "from upm import pyupm_jhd1313m1 as jdm\n",
    "\n",
    "# déclaration des deux adresses de communication où sont envoyées les informations(Texte et couleur)\n",
    "lcdAddress = 0x3E\n",
    "rgbAddress = 0x62\n",
    "bus1 = 0\n",
    "\n",
    "lcd = jdm.Jhd1313m1(bus1,lcdAddress,rgbAddress)\n",
    "\n",
    "status = lcd.clear()\n",
    "status = lcd.backlightOff()\n",
    "\n",
    "#positionnement de l'affichage\n",
    "status = lcd.backlightOff()\n",
    "status = lcd.clear()\n",
    "lcd.setColor(255,0,0)\n",
    "lcd.setCursor(1, 0)\n",
    "#affichage du texte et de la valeur\n",
    "status = lcd.backlightOn()\n",
    "status = lcd.write(\"{0:.2f}\".format(mesurehumidite))\n",
    "sleep(2)\n",
    "\n",
    "\n",
    "# effacement et extinction\n",
    "status = lcd.clear()\n",
    "status = lcd.backlightOff()"
   ]
  },
  {
   "cell_type": "code",
   "execution_count": null,
   "metadata": {},
   "outputs": [],
   "source": []
  }
 ],
 "metadata": {
  "kernelspec": {
   "display_name": "Python 3",
   "language": "python",
   "name": "python3"
  },
  "language_info": {
   "codemirror_mode": {
    "name": "ipython",
    "version": 3
   },
   "file_extension": ".py",
   "mimetype": "text/x-python",
   "name": "python",
   "nbconvert_exporter": "python",
   "pygments_lexer": "ipython3",
   "version": "3.7.3"
  }
 },
 "nbformat": 4,
 "nbformat_minor": 2
}
