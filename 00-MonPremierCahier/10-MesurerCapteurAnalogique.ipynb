{
 "cells": [
  {
   "cell_type": "markdown",
   "metadata": {},
   "source": [
    "\n",
    "|  |\n",
    "| ------------------------------------------------------- | \n",
    "| ![Tremplin des sciences](images/tremplinColorSmall.png) | \n",
    "\n",
    "Cahier d'exercices pour l'enseignement et l'apprentissage de programmation issu de la collection \"Climat et météo tremplin pour l'enseignement des sciences\" (PIA IFÉ ENS de Lyon - Météofrance ENM Toulouse). Le dispositif clef en main repose sur l'utilisation d'une RaspberryPi chargée avec le système d'exploitation Debian enrichi, fourni par le projet. Les sources et les exécutables sont accessibles dans [l'espace collaboratif de la forge github](https://github.com/g-vidal/CahierDeProgrammes); plus d'information sur les [blogs d'accompagnement](http://blog.climatetmeteo.fr/GerardVidal/) systèmes d'exploitation sur [la page des OS  de Raspberries Pi](http://mediaserv.climatetmeteo.fr/images/RaspBerry/DebianStretchPi3/).  Toutes les ressources issues du projet sont fournies sous licence [Creative Commons](https://creativecommons.org/licenses/by-nc/4.0/) ou sous les licences libres d'origine des outils utilisés. Les ressources  du projet peuvent être utilisées dans tout autre environnement compatible.![licence : Creative Commons](images/Licence.jpg) \n",
    "\n",
    "Auteurs : G. Vidal, C-H. Eyraud, E. le Jan\n",
    "\n",
    "------------------------------------------------------------"
   ]
  },
  {
   "cell_type": "markdown",
   "metadata": {},
   "source": [
    "# Mesure de concentrations de gaz \n",
    "\n",
    "Les instruments de mesure de concentration gazeuses de la famille MQ  fournissent un signal analogique c'est pourquoi il faut les convertir en signal numérique pour pouvoir les exploiter avec une RaspberryPI\n",
    "\n",
    "## Utilisation d'un convertisseur Analogique --> digital\n",
    "\n",
    "Nous avons à notre disposition deux convertisseurs analogique numérique dont le fonctionnement est identique. Ce qui les diffférencie est la grandeur privilégiée: fréquence d'échantillonnage pour le premier, précision de l'échantillonnage pour le second.\n",
    "\n",
    " * [ADS1015](https://iotdk.intel.com/docs/master/upm/classupm_1_1_a_d_s1015.html) Résolution de 12 bit, Fréquence d'échantillonnage Min : 128 Hz Max :3300 Hz (SPS_128 à SPS_3300)\n",
    " * [ADS1115](https://iotdk.intel.com/docs/master/upm/classupm_1_1_a_d_s1115.html) Résolution  de 16 bit, Fréquence d'échantillonage Min : 8 Hz Max : 860 Hz (SPS_8 à SPS_860)\n",
    "\n",
    "Ce qui  diffférencie les deux convertisseurs est la grandeur privilégiée:\n",
    "* pour ADS1015 c'est la fréquence de l'échantillonnage \n",
    "* pour ADS1115 c'est la précision  de l'échantillonage.\n",
    "\n",
    "La totalité des commandes sont communes sauf le réglage de la fréquence d'échantillonage, dans les hautes fréquences pour le `ADS1015`et dans les basses fréquences pour le `ADS1115`.\n",
    "\n",
    "Deux modes de fonctionnement sont possibles :\n",
    " * en mode différentiel le signal est mesuré par différence entre la broche de sortie et la masse\n",
    " * en mode direct le signal est mesuré directement sur la broche de sortie\n",
    "\n",
    "La figure ci-dessous présente l'ensemble du dispositif :\n",
    "\n",
    "![Convertisseurs vue générale](images/GazAnalogique.jpg)\n",
    "                        ![licence : Gérard Vidal](images/Licence.jpg)\n",
    "                        \n",
    "Le câblage du convertisseurs ne présente pas de difficulté particulière, le point requérant un peu d'attention est le choix de l'adresse qui sera envoyée sur le bus `I2C` car il faut choisir cette adresse parmi les 4 possibles :  `0x49` `0x48` `0x4B` `0x4A`. Le choix se fait en établissant une connexion entre la broche `ADDR` et l'une des 4 broches `VDD` `GND` `SCL` `SDA`. Le tableau ci-dessous indique les équivalences des connexions :\n",
    "\n",
    "| Broche | Adresse |\n",
    "|:------ | ------- |\n",
    "| `VDD`  | `0x49`  |\n",
    "| `GND`  | `0x48`  |\n",
    "| `SCL`  | `0x4B`  |\n",
    "| `SDA`  | `0x4A`  |\n",
    "\n",
    "Le capteur analogique (ici un capteur de gaz) doit être alimenté en 5 Volts (cables rouges) et les retours des données sur le RaspberryPi en 3,3V (Cables oranges). Le cable bleu joignant les broches ADDR et VDD du convertisseur montre qu'il faudra prendre l'adresse `0x49` sur le bus I2C.\n",
    "\n",
    "          \n",
    "## Importation des librairies nécessaires à l'utilisation du convertisseur.\n",
    "On n'importe pas de librairies propre au capteur car il s'agit d'un capteur `analogiques` qui transmet une variation de potentiel sur un fil série."
   ]
  },
  {
   "cell_type": "code",
   "execution_count": 1,
   "metadata": {},
   "outputs": [],
   "source": [
    "import mraa, upm\n",
    "from time import sleep\n",
    "from upm import pyupm_ads1x15 as upm"
   ]
  },
  {
   "cell_type": "markdown",
   "metadata": {},
   "source": [
    "## Récupération des paramètres d'état de l'échantillonneur\n",
    "\n",
    "On déclare ici l'échantillonneur et on récupère les valeurs de ses paramètres d'opération (gain, fréquence et mode). \n",
    " * getGain()\n",
    " * getSPS()\n",
    " * getContinuous()\n",
    " \n",
    "On fixe ensuite ces paramètres pour la manipulation que l'on souhaite effectuer.\n",
    " * setGain()\n",
    " * setSPS()\n",
    " * setContinuous()\n",
    " \n",
    "Le paramètre SPS contrôle la fréquence d'échantillonnage.\n",
    "* Pour ADS1015 les valeurs possibles sont : SPS_128, SPS_250, SPS_490, SPS_920, SPS_1600, SPS_2400, SPS_3300.\n",
    "\n",
    "* Pour ADS1115 les valeurs possibles étant :  SPS_8, SPS_16, SPS_32, SPS_64,\n",
    "  SPS_128, SPS_250, SPS_475, SPS_860. \n",
    "  \n",
    "Le choix du gain est aussi un paramètre crucial. La valeur doit être choisie en fonction des propriétés du capteur :  `GAIN_TWOTHIRDS` = ADS1X15_PGA_6_144V, `GAIN_ONE` = ADS1X15_PGA_4_096V, `GAIN_TWO` = ADS1X15_PGA_2_048V, `GAIN_FOUR` = ADS1X15_PGA_1_024V, `GAIN_EIGHT` = ADS1X15_PGA_0_512V, `GAIN_SIXTEEN` = ADS1X15_PGA_0_256V. "
   ]
  },
  {
   "cell_type": "code",
   "execution_count": 2,
   "metadata": {},
   "outputs": [
    {
     "name": "stdout",
     "output_type": "stream",
     "text": [
      "Gain :   512  SPS :   128 Continuous :     0\n",
      "\n",
      "Nouvelles valeurs :\n",
      "Gain :   512  SPS :    96 Continuous :     1\n"
     ]
    }
   ],
   "source": [
    "gaz = upm.ADS1015(0, 0x49)\n",
    "gain = gaz.getGain()\n",
    "rate = gaz.SPS_920\n",
    "sps = gaz.getSPS()\n",
    "cont = gaz.getContinuous() \n",
    "print (\"Gain : {0:5d}\".format(gain),\" SPS : {0:5d}\".format(sps), \n",
    "       \"Continuous : {0:5d}\".format(cont))\n",
    "gaz.setContinuous(True) # Pour ne pas faire de conversion en continu\n",
    "gaz.setGain(upm.ADS1X15.GAIN_ONE) # Passage à un gain 1024\n",
    "gaz.setSPS(rate) # Passage à une fréquence de 128 définie par la valeur de rate précédemment : SPS_128\n",
    "# Vérification\n",
    "gain = gaz.getGain()\n",
    "sps = gaz.getSPS()\n",
    "cont = gaz.getContinuous() \n",
    "print (\"\\nNouvelles valeurs :\")\n",
    "print (\"Gain : {0:5d}\".format(gain),\" SPS : {0:5d}\".format(sps), \n",
    "       \"Continuous : {0:5d}\".format(cont))"
   ]
  },
  {
   "cell_type": "markdown",
   "metadata": {},
   "source": [
    "## Mesure directe des variables qualité alcool méthane\n",
    "\n",
    "Comme les données du capteur sont envoyées sur la broche analogique A3 du convertisseur, la mesure se fait par la commande suivante:"
   ]
  },
  {
   "cell_type": "code",
   "execution_count": 3,
   "metadata": {},
   "outputs": [
    {
     "name": "stdout",
     "output_type": "stream",
     "text": [
      "MesureGaz : 0.53\n",
      "\n"
     ]
    }
   ],
   "source": [
    "# qual = gaz.getSample(upm.ADS1X15.SINGLE_0)\n",
    "mesuregaz = gaz.getSample(upm.ADS1X15.SINGLE_1)\n",
    "#mesuregaz_diff = gaz.getSample(upm.ADS1X15.DIFF_0_3)\n",
    "# meth = gaz.getSample(upm.ADS1X15.DIFF_2_3)\n",
    "print (\"MesureGaz : {0:.2f}\\n\".format(mesuregaz))\n",
    "#print (\"MesureGaz : {0:.2f}\\n\".format(mesuregaz), \"MesureGazDiff : {0:.2f}\\n\".format(mesuregaz_diff))"
   ]
  },
  {
   "cell_type": "markdown",
   "metadata": {},
   "source": [
    "# série de mesures à l'aide d'une boucle\n",
    "Dans le groupe suivant on répète 20 fois la mesure en partant de 0 et en allant jusqu'à 19 (inférieur à 20) au pas de 1 par défaut."
   ]
  },
  {
   "cell_type": "code",
   "execution_count": 5,
   "metadata": {},
   "outputs": [
    {
     "name": "stdout",
     "output_type": "stream",
     "text": [
      "0 MesureGaz : 0.52\n",
      "\n",
      "1 MesureGaz : 0.56\n",
      "\n"
     ]
    }
   ],
   "source": [
    "for num in range(0,2):\n",
    "#    qual = gaz.getSample(upm.ADS1X15.SINGLE_0)\n",
    "    mesuregaz = gaz.getSample(upm.ADS1X15.SINGLE_1)\n",
    "#    meth = gaz.getSample(upm.ADS1X15.DIFF_2_3)\n",
    "    print (num , \"MesureGaz : {0:.2f}\\n\".format(mesuregaz))    \n",
    "    sleep(2)"
   ]
  }
 ],
 "metadata": {
  "kernelspec": {
   "display_name": "Python 3",
   "language": "python",
   "name": "python3"
  },
  "language_info": {
   "codemirror_mode": {
    "name": "ipython",
    "version": 3
   },
   "file_extension": ".py",
   "mimetype": "text/x-python",
   "name": "python",
   "nbconvert_exporter": "python",
   "pygments_lexer": "ipython3",
   "version": "3.7.3"
  }
 },
 "nbformat": 4,
 "nbformat_minor": 2
}
