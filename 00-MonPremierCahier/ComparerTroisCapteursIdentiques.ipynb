{
 "cells": [
  {
   "cell_type": "markdown",
   "metadata": {},
   "source": [
    "\n",
    "|  |\n",
    "| ------------------------------------------------------- | \n",
    "| ![Tremplin des sciences](images/tremplinColorSmall.png) | \n",
    "\n",
    "Cahier d'exercices pour l'enseignement et l'apprentissage de programmation issu de la collection \"Climat et météo tremplin pour l'enseignement des sciences\" (PIA IFÉ ENS de Lyon - Météofrance ENM Toulouse). Les sources exécutables sont accessibles sur [la forge github](https://github.com/g-vidal/CahierDeProgrammes); plus d'information sur les [blogs d'accompagnement](http://blog.climatetmeteo.fr/GerardVidal/).  Toutes les ressources sont fournies sous licence [Creative Commons](https://creativecommons.org/licenses/by-nc/4.0/) ![licence : Creative Commons](images/Licence.jpg) \n",
    "\n",
    "Auteurs : G. Vidal, C-H. Eyraud, E. le Jan\n",
    "\n",
    "------------------------------------------------------------"
   ]
  },
  {
   "cell_type": "markdown",
   "metadata": {},
   "source": [
    "# Comparaison de  3 mesures avec 3 capteurs identiques\n",
    "\n",
    "Les instruments de mesure de concentration gazeuses de la famille MQ  fournissent un signal analogique c'est pourquoi il faut les convertir en signal numérique pour pouvoir les exploiter avec une RaspberryPI\n",
    "\n",
    "## Utilisation de convertisseurs Analogique --> digital\n",
    "\n",
    "Nous avons à notre disposition deux convertisseurs analogique numérique\n",
    "\n",
    " * ADS1015 Résolution de 12 bit, Fréquence d'échantillonnage Max :3300 (SPS_128 à SPS_3300)\n",
    " * ADS1115 Résolution  de 16bit, Fréquence d'échantillonage Max : 860 (SPS_8 à SPS_860)\n",
    "dont le fonctionnement est totalement identique. Ce qui les diffférencie est la grandeur privilégiée: précision de l'échantillonnage ou fréquence d'échantillonnage.\n",
    "\n",
    "Deux modes de fonctionnement sont possibles :\n",
    " * en mode différentiel le signal est mesuré par différence entre la broche de sortie et la masse\n",
    " * en mode direct le signal est mesuré directement sur la broche de sortie\n",
    "Nous disposons de 3 capteurs identiques et de 4 broches d'échantillonnage sur le convertisseur, nous ferons deux mesures directes et une mesure par différence. L'exploitation fine de ces éléments requiert le calibrage des capteurs analogiques et le choix des bons paramètres de configuration.\n",
    "\n",
    "La figure ci-dessous présente l'ensemble du dispositif :\n",
    "\n",
    "![Convertisseurs vue générale](images/3CapteursTout.jpg)\n",
    "                        ![licence : Gérard Vidal](images/Licence.jpg)\n",
    "                        \n",
    "Le câblage du convertisseurs ne présente pas de difficulté particulière, le point requérant un peu d'attention est le choix de l'adresse qui sera envoyée sur le bus `I2C` car il faut choisir cette adresse parmi les 4 possibles :  `0x49` `0x48` `0x4B` `0x4A`. Le choix se fait en établissant une connexion entre la broche `ADDR` et l'une des 4 broches `VDD` `GND` `SCL` `SDA`. Le tableau ci-dessous indique les équivalences des connexions :\n",
    "\n",
    "| Broche | Adresse |\n",
    "|:------ | ------- |\n",
    "| `VDD`  | `0x49`  |\n",
    "| `GND`  | `0x48`  |\n",
    "| `SCL`  | `0x4B`  |\n",
    "| `SDA`  | `0x4A`  |\n",
    "\n",
    "les 3 capteurs utilisés sont identiques et permettent de mesurer la qualité de l'air \n",
    "\n",
    "\n",
    "L'image suivante montre les connexions au convertisseur analogique numérique ADS 1015 :\n",
    "\n",
    "![Vue des connexions au convertisseur](images/3CapteursADS1015.jpg)\n",
    "                        ![licence : Gérard Vidal](images/Licence.jpg)\n",
    "\n",
    "L'image suivante montre les connexions au convertisseur de niveau 5V-3,3V (Level Shifter) :\n",
    "\n",
    "![Le level shifter](images/3CapteursLevelShifter.jpg)\n",
    "                        ![licence : Gérard Vidal](images/Licence.jpg)\n",
    "                        \n",
    "Importation des librairies nécessaires à l'utilisation du convertisseur. On n'importe aucune librairie propre aux capteurs de gaz car il s'agit de capteurs `analogiques` qui transmettent une variation de potentiel sur un fil série."
   ]
  },
  {
   "cell_type": "code",
   "execution_count": 1,
   "metadata": {},
   "outputs": [],
   "source": [
    "import mraa, upm\n",
    "from time import sleep\n",
    "from upm import pyupm_ads1x15 as upm"
   ]
  },
  {
   "cell_type": "markdown",
   "metadata": {},
   "source": [
    "## Récupération des paramètres d'état de l'échantillonneur\n",
    "\n",
    "On déclare ici l'échantillonneur et on récupère les valeurs de ses paramètres d'opération (gain, fréquence et mode). \n",
    " * getGain()\n",
    " * getSPS()\n",
    " * getContinuous()\n",
    " \n",
    "On fixe ensuite ces paramètres pour la manipulation que l'on souhaite effectuer.\n",
    " * setGain()\n",
    " * setSPS()\n",
    " * setContinuous()"
   ]
  },
  {
   "cell_type": "code",
   "execution_count": 40,
   "metadata": {},
   "outputs": [
    {
     "name": "stdout",
     "output_type": "stream",
     "text": [
      "Gain :   512  SPS :    96 Continuous :     1\n",
      "\n",
      "Nouvelles valeurs :\n",
      "Gain :   512  SPS :    32 Continuous :     1\n"
     ]
    }
   ],
   "source": [
    "gaz = upm.ADS1015(0, 0x49)\n",
    "gain = gaz.getGain()\n",
    "sps = gaz.getSPS()\n",
    "cont = gaz.getContinuous() \n",
    "print (\"Gain : {0:5d}\".format(gain),\" SPS : {0:5d}\".format(sps), \n",
    "       \"Continuous : {0:5d}\".format(cont))\n",
    "gaz.setContinuous(True) # Pour ne pas faire de conversion en continu\n",
    "gaz.setGain(upm.ADS1X15.GAIN_ONE) # Passage à un gain 1024\n",
    "gaz.setSPS(upm.ADS1015.SPS_250) # Passage à un taux d'échantillonage de 250 Sample Per Second\n",
    "# Vérification\n",
    "gain = gaz.getGain()\n",
    "sps = gaz.getSPS()\n",
    "cont = gaz.getContinuous() \n",
    "print (\"\\nNouvelles valeurs :\")\n",
    "print (\"Gain : {0:5d}\".format(gain),\" SPS : {0:5d}\".format(sps), \n",
    "       \"Continuous : {0:5d}\".format(cont))"
   ]
  },
  {
   "cell_type": "markdown",
   "metadata": {},
   "source": [
    "## Mesure directe des variables qualité de l'air\n",
    "\n",
    "La première mesure est faite par différence, les deux dernières directement."
   ]
  },
  {
   "cell_type": "code",
   "execution_count": 46,
   "metadata": {},
   "outputs": [
    {
     "name": "stdout",
     "output_type": "stream",
     "text": [
      "Qualité Air 1 : 1.90\n",
      " Qualité Air 2 : 2.38\n",
      " Qualité Air 3 : 1.92\n",
      "\n"
     ]
    }
   ],
   "source": [
    "air1 = gaz.getSample(upm.ADS1X15.DIFF_0_1)\n",
    "air2 = gaz.getSample(upm.ADS1X15.SINGLE_2)\n",
    "air3 = gaz.getSample(upm.ADS1X15.SINGLE_3)\n",
    "print (\"Qualité Air 1 : {0:.2f}\\n\".format(air1),\n",
    "       \"Qualité Air 2 : {0:.2f}\\n\".format(air2),\n",
    "       \"Qualité Air 3 : {0:.2f}\\n\".format(air3))"
   ]
  },
  {
   "cell_type": "markdown",
   "metadata": {},
   "source": [
    "# Série de mesures à l'aide d'une boucle\n",
    "Dans le groupe suivant on répète 20 fois la mesure en partant de 0 et en allant jusqu'à 19 (inférieur à 20) au pas de 1 par défaut."
   ]
  },
  {
   "cell_type": "code",
   "execution_count": null,
   "metadata": {},
   "outputs": [],
   "source": [
    "for num in range(0,20):\n",
    "    air1 = gaz.getSample(upm.ADS1X15.DIFF_0_1)\n",
    "    air2 = gaz.getSample(upm.ADS1X15.SINGLE_2)\n",
    "    air3 = gaz.getSample(upm.ADS1X15.SINGLE_3)\n",
    "    print (\"Qualité Air 1 : {0:.2f}\\n\".format(air1),\n",
    "       \"Qualité Air 2 : {0:.2f}\\n\".format(air2),\n",
    "       \"Qualité Air 3 : {0:.2f}\\n\".format(air3))    \n",
    "    sleep(2)"
   ]
  },
  {
   "cell_type": "code",
   "execution_count": null,
   "metadata": {},
   "outputs": [],
   "source": []
  }
 ],
 "metadata": {
  "kernelspec": {
   "display_name": "Python 3",
   "language": "python",
   "name": "python3"
  },
  "language_info": {
   "codemirror_mode": {
    "name": "ipython",
    "version": 3
   },
   "file_extension": ".py",
   "mimetype": "text/x-python",
   "name": "python",
   "nbconvert_exporter": "python",
   "pygments_lexer": "ipython3",
   "version": "3.5.3"
  }
 },
 "nbformat": 4,
 "nbformat_minor": 2
}
