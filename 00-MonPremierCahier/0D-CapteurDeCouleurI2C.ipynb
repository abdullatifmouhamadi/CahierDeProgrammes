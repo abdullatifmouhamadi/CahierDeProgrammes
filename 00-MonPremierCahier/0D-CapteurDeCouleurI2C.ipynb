{
 "cells": [
  {
   "cell_type": "markdown",
   "metadata": {},
   "source": [
    "\n",
    "|  |\n",
    "| ------------------------------------------------------- | \n",
    "| ![Tremplin des sciences](images/tremplinColorSmall.png) | \n",
    "\n",
    "Cahier d'exercices pour l'enseignement et l'apprentissage de programmation issu de la collection \"Climat et météo tremplin pour l'enseignement des sciences\" (PIA IFÉ ENS de Lyon - Météofrance ENM Toulouse). Le dispositif clef en main repose sur l'utilisation d'une RaspberryPi chargée avec le système d'exploitation Debian enrichi, fourni par le projet. Les sources et les exécutables sont accessibles dans [l'espace collaboratif de la forge github](https://github.com/g-vidal/CahierDeProgrammes); plus d'information sur les [blogs d'accompagnement](http://blog.climatetmeteo.fr/GerardVidal/) systèmes d'exploitation sur [la page des OS  de Raspberries Pi](http://mediaserv.climatetmeteo.fr/images/RaspBerry/DebianStretchPi3/).  Toutes les ressources issues du projet sont fournies sous licence [Creative Commons](https://creativecommons.org/licenses/by-nc/4.0/) ou sous les licences libres d'origine des outils utilisés. Les ressources  du projet peuvent être utilisées dans tout autre environnement compatible.![licence : Creative Commons](images/Licence.jpg) \n",
    "\n",
    "Auteurs : G. Vidal, C-H. Eyraud, E. le Jan"
   ]
  },
  {
   "cell_type": "markdown",
   "metadata": {},
   "source": [
    "# Mesurer avec le capteur de couleur Grove I2C TCS3414CS\n",
    "\n",
    "Activité réalisée avec un capteur de couleur Seeedsstudio Grove , une raspberry Pi3 fonctionnant avec une [image Debian Stretch fournie par l'IFÉ ENS de Lyon](http://mediaserv.climatetmeteo.fr/images/RaspBerry/), disposant des librairies INTEL mraa et upm.\n",
    "https://github.com/intel-iot-devkit/upm/blob/master/examples/python/tcs3414cs.py\n",
    "\n",
    "Sur le site de Seeedsstudio http://wiki.seeedstudio.com/Grove-I2C_Color_Sensor/ on lit que 4 broches doivent être connectées au raspberryPi lorsqu'on travaille avec le bus I2C.\n",
    "\n",
    "* VCC - C'est la broche d'alimentation : le constructeur signale qu'elle peut être de 3,3 à 6V \n",
    "* GND - broche à relier à une broche ground du RasberryPi\n",
    "* SCK - c'est la broche d'horloge du bus I2C à relier à la broche 5 (SCL)\n",
    "* SDI - c'est la broche de données du bus I2C à relier à la broche 3 (SDA)\n",
    "\n",
    "\n",
    "\n",
    "![Capteur de couleur Grove branché sur le bus I2C d'un RaspberryPi](images/ColorSensor.jpg)\n",
    "\n",
    "Ce module est basé sur le capteur de couleur TCS3414CS avec sortie numérique I2C. Une matrice de 8 * 2 de photodiodes filtrées (4 diodes avec un filtre rouge, 4 filtrées vert, 4 filtrées bleu, 4 sans filtre)  et de convertisseurs analogique-numérique 16 bits, permet la mesurer de la chromaticité de la couleur de la lumière ambiante ou la couleur des objets. \n",
    "\n",
    "\n",
    "## Mesurer puis écrire la température en 6 lignes ##\n",
    "\n",
    "Chaque ligne de texte ci-dessous est traduite dans le bloc suivant en une instruction dans un langage interprétable par la machine, à chaque alinéa correspond une instruction, la somme des instructions constitue un programme.\n",
    "\n",
    " * (l. 1) Demander l'utilisation des outils nécessaires, il s'agit de deux bibliothèques de programmes de base qui permettent d'interagir et de piloter les capteurs que nous avons choisis. Le nom de ces bibliothèques est mraa et ![upm](https://iotdk.intel.com/docs/master/upm/classupm_1_1_t_c_s3414_c_s.html)\n",
    " * (l. 2) Parmi tous les pilotes disponibles nous devons utiliser le pilote pyupm_tcs3414cs (py pour python, upm nom de la librairie, _ séparateur, tcs3414cs nom du capteur)\n",
    " * (l. 3) Déclarer le nom du capteur qu'on va utiliser (bme)\n",
    " * (l. 4) Mettre à jour le capteur (on utilise la commande préprogrammée dans le pilote \"update\")\n",
    " * (l. 5) Mesurer la température (on utilise la fonction préprogrammée dans le pilote \"getTemperature()\" on appelle la température tempBME)\n",
    " * (l. 6) Imprimer la température"
   ]
  },
  {
   "cell_type": "code",
   "execution_count": 21,
   "metadata": {},
   "outputs": [
    {
     "name": "stdout",
     "output_type": "stream",
     "text": [
      "Red Color Luminance : 65535 lux\n",
      "Green Color Luminance : 65407 lux\n",
      "Blue Color Luminance : 65535 lux\n",
      "Ambient Light Luminance : 65535.00 lux\n"
     ]
    }
   ],
   "source": [
    "import mraa, upm\n",
    "from upm import pyupm_tcs3414cs as tcs\n",
    "color = tcs.TCS3414CS(0,0x49)\n",
    "color.clearInterrupt()\n",
    "rgb = tcs.tcs3414sc_rgb_t()\n",
    "value = color.readRGB(rgb)\n",
    "print (\"Red Color Luminance : %d lux\" %rgb.r)\n",
    "print (\"Green Color Luminance : %d lux\" %rgb.g)\n",
    "print (\"Blue Color Luminance : %d lux\" %rgb.b)\n",
    "print (\"Ambient Light Luminance : %.2f lux\" %rgb.clr)"
   ]
  },
  {
   "cell_type": "code",
   "execution_count": 1,
   "metadata": {},
   "outputs": [
    {
     "name": "stdout",
     "output_type": "stream",
     "text": [
      "    0,  2, 0, 0\n"
     ]
    }
   ],
   "source": [
    "import mraa, upm\n",
    "from upm import pyupm_tcs3414cs as tcs\n",
    "#color = tcs.TCS3414CS(0,0x49)\n",
    "color = tcs.TCS3414CS()\n",
    "myrgb = tcs.tcs3414sc_rgb_t()\n",
    "value = color.readRGB(myrgb)\n",
    "print(\"{0:5d}, {1:2d}, {2:d}, {3:d}\".format(myrgb.r, myrgb.g, myrgb.b, myrgb.clr))"
   ]
  },
  {
   "cell_type": "raw",
   "metadata": {},
   "source": [
    "Le bloc suivant réalise la mesure de couleur qui est stockée dans la variable color dont la valeur est ensuite affichée sur l'afficheur."
   ]
  },
  {
   "cell_type": "markdown",
   "metadata": {},
   "source": [
    "### Exercice \n",
    "Améliorer l'affichage de la température (couleur défilement...)"
   ]
  },
  {
   "cell_type": "code",
   "execution_count": 4,
   "metadata": {},
   "outputs": [
    {
     "name": "stdout",
     "output_type": "stream",
     "text": [
      "0, 2, 0, 0\n",
      "0, 2, 0, 0\n",
      "0, 2, 0, 0\n",
      "0, 2, 0, 0\n",
      "0, 2, 0, 0\n"
     ]
    }
   ],
   "source": [
    "from time import sleep\n",
    "from upm import pyupm_tcs3414cs as upmTcs3414cs\n",
    "\n",
    "\n",
    "    # Instantiate the color sensor on I2C\n",
    "myColorSensor = upmTcs3414cs.TCS3414CS()\n",
    "\n",
    "myrgb = upmTcs3414cs.tcs3414sc_rgb_t()\n",
    "\n",
    "    # Print out the r, g, b, and clr value every 2 seconds\n",
    "\n",
    "\n",
    "for num in range(0,5):\n",
    "    myColorSensor.readRGB(myrgb)\n",
    "    print(\"{0}, {1}, {2}, {3}\".format(myrgb.r, myrgb.g, myrgb.b, myrgb.clr))\n",
    "    sleep(2)"
   ]
  },
  {
   "cell_type": "code",
   "execution_count": null,
   "metadata": {},
   "outputs": [],
   "source": []
  }
 ],
 "metadata": {
  "kernelspec": {
   "display_name": "Python 3",
   "language": "python",
   "name": "python3"
  },
  "language_info": {
   "codemirror_mode": {
    "name": "ipython",
    "version": 3
   },
   "file_extension": ".py",
   "mimetype": "text/x-python",
   "name": "python",
   "nbconvert_exporter": "python",
   "pygments_lexer": "ipython3",
   "version": "3.7.3"
  }
 },
 "nbformat": 4,
 "nbformat_minor": 2
}
