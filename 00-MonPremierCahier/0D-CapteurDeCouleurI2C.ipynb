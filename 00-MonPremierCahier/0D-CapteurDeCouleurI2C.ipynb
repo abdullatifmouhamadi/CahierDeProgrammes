{
 "cells": [
  {
   "cell_type": "markdown",
   "metadata": {},
   "source": [
    "\n",
    "|  |\n",
    "| ------------------------------------------------------- | \n",
    "| ![Tremplin des sciences](images/tremplinColorSmall.png) | \n",
    "\n",
    "Cahier d'exercices pour l'enseignement et l'apprentissage de programmation issu de la collection \"Climat et météo tremplin pour l'enseignement des sciences\" (PIA IFÉ ENS de Lyon - Météofrance ENM Toulouse). Le dispositif clef en main repose sur l'utilisation d'une RaspberryPi chargée avec le système d'exploitation Debian enrichi, fourni par le projet. Les sources et les exécutables sont accessibles dans [l'espace collaboratif de la forge github](https://github.com/g-vidal/CahierDeProgrammes); plus d'information sur les [blogs d'accompagnement](http://blog.climatetmeteo.fr/GerardVidal/) systèmes d'exploitation sur [la page des OS  de Raspberries Pi](http://mediaserv.climatetmeteo.fr/images/RaspBerry/DebianStretchPi3/).  Toutes les ressources issues du projet sont fournies sous licence [Creative Commons](https://creativecommons.org/licenses/by-nc/4.0/) ou sous les licences libres d'origine des outils utilisés. Les ressources  du projet peuvent être utilisées dans tout autre environnement compatible.![licence : Creative Commons](images/Licence.jpg) \n",
    "\n",
    "Auteurs : G. Vidal, C-H. Eyraud, E. le Jan"
   ]
  },
  {
   "cell_type": "markdown",
   "metadata": {},
   "source": [
    "# Mesurer avec le capteur de couleur : Adafruit \n",
    "\n",
    "Activité réalisée avec un capteur de couleur Seeedsstudio Grove , une raspberry Pi3 fonctionnant avec une [image Debian Stretch fournie par l'IFÉ ENS de Lyon](http://mediaserv.climatetmeteo.fr/images/RaspBerry/), disposant des librairies INTEL mraa et upm.\n",
    "https://github.com/intel-iot-devkit/upm/blob/master/examples/python/tcs3414cs.py\n",
    "\n",
    "Sur le site de Seeedsstudio http://wiki.seeedstudio.com/Grove-I2C_Color_Sensor/ on lit que 4 broches doivent être connectées au raspberryPi lorsqu'on travaille avec le bus I2C.\n",
    "\n",
    "* Vin - C'est la broche d'alimentation : le constructeur signale qu'elle peut être de 3,3 à 6V \n",
    "* GND - broche à relier à une broche ground du RasberryPi\n",
    "* SCK - c'est la broche d'horloge du bus I2C à relier à la broche 5 (SCL)\n",
    "* SDI - c'est la broche de données du bus I2C à relier à la broche 3 (SDA)\n",
    "\n",
    "\n",
    "\n",
    "![Capteur de couleur Grove branché sur le bus I2C d'un RaspberryPi](images/RaspberryPi_BME280.png)\n",
    "\n",
    "Ce module est basé sur le capteur de couleur TCS3414CS avec sortie numérique I2C. Une matrice de 8 * 2 de photodiodes filtrées (4 diodes avec un filtre rouge, 4 filtrées vert, 4 filtrées bleu, 4 sans filtre)  et de convertisseurs analogique-numérique 16 bits, permet la mesurer de la chromaticité de la couleur de la lumière ambiante ou la couleur des objets. \n",
    "\n",
    "\n",
    "## Mesurer puis écrire la température en 6 lignes ##\n",
    "\n",
    "Chaque ligne de texte ci-dessous est traduite dans le bloc suivant en une instruction dans un langage interprétable par la machine, à chaque alinéa correspond une instruction, la somme des instructions constitue un programme.\n",
    "\n",
    " * (l. 1) Demander l'utilisation des outils nécessaires, il s'agit de deux bibliothèques de programmes de base qui permettent d'interagir et de piloter les capteurs que nous avons choisis. Le nom de ces bibliothèques est mraa et ![upm](https://iotdk.intel.com/docs/master/upm/classupm_1_1_t_c_s3414_c_s.html)\n",
    " * (l. 2) Parmi tous les pilotes disponibles nous devons utiliser le pilote pyupm_tcs3414cs (py pour python, upm nom de la librairie, _ séparateur, tcs3414cs nom du capteur)\n",
    " * (l. 3) Déclarer le nom du capteur qu'on va utiliser (bme)\n",
    " * (l. 4) Mettre à jour le capteur (on utilise la commande préprogrammée dans le pilote \"update\")\n",
    " * (l. 5) Mesurer la température (on utilise la fonction préprogrammée dans le pilote \"getTemperature()\" on appelle la température tempBME)\n",
    " * (l. 6) Imprimer la température"
   ]
  },
  {
   "cell_type": "code",
   "execution_count": 1,
   "metadata": {},
   "outputs": [
    {
     "name": "stdout",
     "output_type": "stream",
     "text": [
      "Red Color Luminance : 65535 lux\n",
      "Green Color Luminance : 65407 lux\n",
      "Blue Color Luminance : 65535 lux\n",
      "Ambient Light Luminance : 65535.00 lux\n"
     ]
    }
   ],
   "source": [
    "import mraa, upm\n",
    "from upm import pyupm_tcs3414cs as tcs\n",
    "color = tcs.TCS3414CS(0,0x49)\n",
    "color.clearInterrupt()\n",
    "rgb = tcs.tcs3414sc_rgb_t()\n",
    "value = color.readRGB(rgb)\n",
    "print (\"Red Color Luminance : %d lux\" %rgb.r)\n",
    "print (\"Green Color Luminance : %d lux\" %rgb.g)\n",
    "print (\"Blue Color Luminance : %d lux\" %rgb.b)\n",
    "print (\"Ambient Light Luminance : %.2f lux\" %rgb.clr)"
   ]
  },
  {
   "cell_type": "code",
   "execution_count": 26,
   "metadata": {},
   "outputs": [
    {
     "name": "stdout",
     "output_type": "stream",
     "text": [
      "Red Color Luminance : 65535 lux\n",
      "Green Color Luminance : 65407 lux\n",
      "Blue Color Luminance : 65535 lux\n",
      "Ambient Light Luminance : 65535.00 lux\n"
     ]
    }
   ],
   "source": [
    "import mraa, upm\n",
    "from upm import pyupm_tcs3414cs as tcs\n",
    "color = tcs.TCS3414CS(0,0x49)\n",
    "color.clearInterrupt()\n",
    "rgb = tcs.tcs3414sc_rgb_t()\n",
    "value = color.readRGB(rgb)\n",
    "print (\"Red Color Luminance : %d lux\" %rgb.r)\n",
    "print (\"Green Color Luminance : %d lux\" %rgb.g)\n",
    "print (\"Blue Color Luminance : %d lux\" %rgb.b)\n",
    "print (\"Ambient Light Luminance : %.2f lux\" %rgb.clr)"
   ]
  },
  {
   "cell_type": "markdown",
   "metadata": {},
   "source": [
    "## Afficher la température mesurée sur  l'afficheur\n",
    "\n",
    "Le bloc de code suivant permet d'afficher la température mesurée  par le capteur BME280 sur l'afficheur du cahier d'exercice voisin. L'affichage se fait en gris pendant 10 secondes.\n",
    "Le premier bloc reprend les déclarations explicitées ci-dessus en ajoutant les instructions nécessaires pour utiliser l'afficheur (voir le cahier dédié à l'afficheur). Pour plus de clarté (ce qui rajoute des lines de code) les adresses des capteurs et effecteurs sont passées par des variables :  lcdAddress, rgbAddress, bmeAddr, bus1.\n",
    "\n",
    "![Affichage des mesures du Capteur BME280](images/RaspberryPi_BME280Ecran.png)"
   ]
  },
  {
   "cell_type": "code",
   "execution_count": 2,
   "metadata": {},
   "outputs": [],
   "source": [
    "import mraa, time\n",
    "from upm import pyupm_tcs3414sc_rgb_t as color\n",
    "from upm import pyupm_jhd1313m1 as jdm\n",
    "lcdAddress = 0x3E\n",
    "rgbAddress = 0x62\n",
    "\n",
    "bus1 = 0\n",
    "colorAddr = 0x49\n",
    "bme = bmp.BME280(bus1,colorAddr)\n",
    "lcd = jdm.Jhd1313m1(bus1,lcdAddress,rgbAddress)"
   ]
  },
  {
   "cell_type": "raw",
   "metadata": {},
   "source": [
    "Le bloc suivant réalise la mesure de couleur qui est stockée dans la variable color dont la valeur est ensuite affichée sur l'afficheur."
   ]
  },
  {
   "cell_type": "code",
   "execution_count": 3,
   "metadata": {},
   "outputs": [],
   "source": [
    "# Mise à jour du capteur\n",
    "# https://iotdk.intel.com/docs/master/upm/classupm_1_1_t_c_s3414_c_s.html\n",
    "color.update()\n",
    "#Mesure\n",
    "tempBME = color.readRGB (tcs3414sc_rgb_t *rgb)\n",
    "#positionnement de l'affichage\n",
    "lcd.setCursor(1, 0)\n",
    "#ipression du texte et de la valeur\n",
    "status = lcd.write(\"Temp : {0:.2f} C\".format(tempBME))\n",
    "#maintien de l'affichage pendant 10 secondes\n",
    "time.sleep(10)\n",
    "# effacement et extinction\n",
    "status = lcd.clear()\n",
    "status = lcd.backlightOff()"
   ]
  },
  {
   "cell_type": "markdown",
   "metadata": {},
   "source": [
    "### Exercice \n",
    "Améliorer l'affichage de la température (couleur défilement...)"
   ]
  },
  {
   "cell_type": "code",
   "execution_count": 4,
   "metadata": {},
   "outputs": [
    {
     "ename": "ModuleNotFoundError",
     "evalue": "No module named 'smbus'",
     "output_type": "error",
     "traceback": [
      "\u001b[0;31m---------------------------------------------------------------------------\u001b[0m",
      "\u001b[0;31mModuleNotFoundError\u001b[0m                       Traceback (most recent call last)",
      "\u001b[0;32m<ipython-input-4-16f1b3e9c18c>\u001b[0m in \u001b[0;36m<module>\u001b[0;34m\u001b[0m\n\u001b[1;32m      1\u001b[0m \u001b[0;32mimport\u001b[0m \u001b[0mtime\u001b[0m\u001b[0;34m\u001b[0m\u001b[0;34m\u001b[0m\u001b[0m\n\u001b[0;32m----> 2\u001b[0;31m \u001b[0;32mimport\u001b[0m \u001b[0msmbus\u001b[0m\u001b[0;34m\u001b[0m\u001b[0;34m\u001b[0m\u001b[0m\n\u001b[0m\u001b[1;32m      3\u001b[0m \u001b[0;34m\u001b[0m\u001b[0m\n\u001b[1;32m      4\u001b[0m \u001b[0;31m# Get I2C bus\u001b[0m\u001b[0;34m\u001b[0m\u001b[0;34m\u001b[0m\u001b[0;34m\u001b[0m\u001b[0m\n\u001b[1;32m      5\u001b[0m \u001b[0mbus\u001b[0m \u001b[0;34m=\u001b[0m \u001b[0msmbus\u001b[0m\u001b[0;34m.\u001b[0m\u001b[0mSMBus\u001b[0m\u001b[0;34m(\u001b[0m\u001b[0;36m1\u001b[0m\u001b[0;34m)\u001b[0m\u001b[0;34m\u001b[0m\u001b[0;34m\u001b[0m\u001b[0m\n",
      "\u001b[0;31mModuleNotFoundError\u001b[0m: No module named 'smbus'"
     ]
    }
   ],
   "source": [
    "import time\n",
    "import smbus\n",
    "# https://pypi.org/project/smbus-cffi/0.5.1/\n",
    "\n",
    "# Get I2C bus\n",
    "bus = smbus.SMBus(1)\n",
    "\n",
    "# TCS3414 address, 0x39(57)\n",
    "# Select control register, 0x00(00), with Command register, 0x80(128)\n",
    "#\t\t0x03(03)\tPower ON, ADC enable\n",
    "bus.write_byte_data(0x39, 0x00 | 0x80, 0x03)\n",
    "# TCS3414 address, 0x39(57)\n",
    "# Select gain register, 0x07(07), with Command register, 0x80(128)\n",
    "#\t\t0x00(00)\tGain : 1x, Prescaler Mode = Divide by 1\n",
    "bus.write_byte_data(0x39, 0x07 | 0x80, 0x00)\n",
    "\n",
    "time.sleep(0.5)\n",
    "\n",
    "# TCS3414 address, 0x39(57)\n",
    "# Read data back from 0x10(16), 8 bytes, with Command register, 0x80(128)\n",
    "# Green LSB, Green MSB, Red LSB, Red MSB\n",
    "# Blue LSB, Blue MSB, cData LSB, cData MSB\n",
    "data = bus.read_i2c_block_data(0x39, 0x10 | 0x80, 8)\n",
    "\n",
    "# Convert the data\n",
    "green = data[1] * 256 + data[0]\n",
    "red = data[3] * 256 + data[2]\n",
    "blue = data[5] * 256 + data[4]\n",
    "cData = data[7] * 256 + data[6]\n",
    "\n",
    "# Calculate luminance\n",
    "luminance = (-0.32466 * red) + (1.57837 * green) + (-0.73191 * blue)\n",
    "\n",
    "# Output data to screen\n",
    "print (\"Green Color Luminance : %d lux\" %green)\n",
    "print (\"Red Color Luminance : %d lux\" %red)\n",
    "print (\"Blue Color Luminance : %d lux\" %blue)\n",
    "print (\"Clear Data Luminance : %d lux\" %cData)\n",
    "print (\"Ambient Light Luminance : %.2f lux\" %luminance)"
   ]
  },
  {
   "cell_type": "markdown",
   "metadata": {},
   "source": [
    "## Afficher plusieurs mesures sur l'afficheur\n",
    "\n",
    "Le bloc de code ci-dessous illustre l'affichage des 3 mesures que  peut réaliser le capteur BME280 :\n",
    " * température\n",
    " * pression\n",
    " * hygrométrié\n",
    " \n",
    "Les mesures sont affichées sur l'afficheur en utilisant le caractère spécial `degré` qui est dessiné  et ajouté."
   ]
  },
  {
   "cell_type": "code",
   "execution_count": 4,
   "metadata": {},
   "outputs": [],
   "source": [
    "# déclarations\n",
    "import mraa, time\n",
    "from upm import pyupm_bmp280 as bmp\n",
    "from upm import pyupm_jhd1313m1 as jdm\n",
    "\n",
    "lcdAddress = 0x3E\n",
    "rgbAddress = 0x62\n",
    "bus1 = 0\n",
    "bmeAddr = 0x77\n",
    "\n",
    "bme =bmp.BME280(bus1,bmeAddr)\n",
    "lcd = jdm.Jhd1313m1(bus1,lcdAddress,rgbAddress)"
   ]
  },
  {
   "cell_type": "markdown",
   "metadata": {},
   "source": [
    "### Exercice\n",
    "Afficher toutes les mesures effectuées par le capteur BME280"
   ]
  },
  {
   "cell_type": "code",
   "execution_count": null,
   "metadata": {},
   "outputs": [],
   "source": []
  },
  {
   "cell_type": "code",
   "execution_count": 7,
   "metadata": {},
   "outputs": [],
   "source": [
    "# déclarations\n",
    "import mraa, time, math\n",
    "from upm import pyupm_bmp280 as bmp\n",
    "from upm import pyupm_jhd1313m1 as jdm\n",
    "\n",
    "lcdAddress = 0x3E\n",
    "rgbAddress = 0x62\n",
    "bus1 = 0\n",
    "bmeAddr = 0x77\n",
    "\n",
    "bme =bmp.BME280(bus1,bmeAddr)\n",
    "lcd = jdm.Jhd1313m1(bus1,lcdAddress,rgbAddress)\n",
    "status = lcd.clear()\n",
    "status = lcd.backlightOff()"
   ]
  },
  {
   "cell_type": "code",
   "execution_count": 8,
   "metadata": {},
   "outputs": [],
   "source": [
    "# définition de l'altitude locale\n",
    "localAlt = 156.5\n",
    "# Calcul de la pression au niveau de la mer\n",
    "def convertSeaLevel (m_Pressure):\n",
    "    sl_Pressure = m_Pressure / math.pow(1.0 - localAlt/44330, 5.255)\n",
    "    return sl_Pressure\n",
    "# fin du calcul"
   ]
  },
  {
   "cell_type": "code",
   "execution_count": 9,
   "metadata": {},
   "outputs": [
    {
     "data": {
      "text/plain": [
       "0"
      ]
     },
     "execution_count": 9,
     "metadata": {},
     "output_type": "execute_result"
    }
   ],
   "source": [
    "# dessin et enregistrement du caractère degré\n",
    "degree = (\n",
    "    0b01100,\n",
    "    0b10010,\n",
    "    0b01100,\n",
    "    0b00000,\n",
    "    0b00000,\n",
    "    0b00000,\n",
    "    0b00000,\n",
    "    0b00000)\n",
    "\n",
    "lcd.createChar(0,degree)"
   ]
  },
  {
   "cell_type": "code",
   "execution_count": null,
   "metadata": {},
   "outputs": [
    {
     "name": "stdout",
     "output_type": "stream",
     "text": [
      "Humidité : \tTempérature : \tPression : \tPression(mer) : \n",
      "42.35 %\t\t24.18 °C\t985.31 hPa\t1003.79 hPa\n"
     ]
    }
   ],
   "source": [
    "# Mise à jour du capteur\n",
    "bme.update()\n",
    "#Triple mesure\n",
    "tempBME = bme.getTemperature()\n",
    "pressBME = bme.getPressure() / 100.0\n",
    "hygroBME = bme.getHumidity()\n",
    "# calcul de la pression au niveau de la mer\n",
    "seaLevelPress = convertSeaLevel (pressBME)\n",
    "#impression des valeurs mesurées dans le cahier\n",
    "print ('Humidité : \\tTempérature : \\tPression : \\tPression(mer) : ')\n",
    "print (\"{0:.2f} %\\t\\t{1:.2f} °C\\t{2:.2f} hPa\\t{3:.2f} hPa\".format(hygroBME,tempBME,pressBME,seaLevelPress))\n",
    "# affichage des valeurs mesurées sur l'afficheur\n",
    "status = lcd.backlightOff()\n",
    "status = lcd.clear()\n",
    "lcd.setColor(128,0,192)\n",
    "lcd.setCursor(1, 0)\n",
    "status = lcd.backlightOn()\n",
    "status = lcd.write(\"Sea   : {0:6.2f} hPa\".format(seaLevelPress))\n",
    "status = lcd.write(\" Hum  : {0:.2f} %\".format(hygroBME))\n",
    "lcd.setCursor(2, 0)\n",
    "status = lcd.write(\"Press :  {0:6.2f} hPa\".format(pressBME))\n",
    "status = lcd.write(\" Temp : {0:.2f} \".format(tempBME))\n",
    "status = lcd.write(chr(0))\n",
    "status = lcd.write(\"C\")\n",
    "for i in range(0,68,1) :\n",
    "    lcd.scroll(True)\n",
    "    time.sleep(0.5)\n",
    "time.sleep(1)\n",
    "status = lcd.clear()\n",
    "status = lcd.backlightOff()"
   ]
  },
  {
   "cell_type": "markdown",
   "metadata": {},
   "source": [
    "## Faire une mesure toutes les 5 secondes ##\n",
    "\n",
    "Lorsque l'on dispose d'un capteur et d'une alimentation suffisante il est bien sûr extrêmement intéressant de faire des mesures **en continu**. En fait on ne peut pas réellement mesurer de façon continue, on effectue des mesures les unes à la suite des autres en ménageant un temps (qui peut êetre très court) entre deux mesures pour transmettre le résultat et permettre au capteur d'être prêt pour la mesure suivante. La valeur du temps de pause est ici de 5 secondes valeur fournie à la fonction sleep (dors pendant....) de la librairie des programmes de gestion du temps (qui est incluse au début du programme).\n",
    "Nous avons vu précédemment comment faire **une** mesure, nous venons de voir comment _ne rien faire_ pendant un temps donné, il nous faut donc enchaîner Mesure->Repos->Mesure->Repos-> c'est ce que l'on appelle une _boucle_. Pour le moment nous ne nous préoccupons pas de savoir comment arrêter les mesures et nous nous lançons dans une _boucle sans fin_; pour cela nous utilisons un _mot réservé_ : \"True\" (qui veut dire vrai) et nous utilisons l'instruction  \"Tant que c'est vrai mesure puis attends 5s et recommence\" comme nous déclarons que c'est vrai et que nous ne touchons pas cette valeur cela reste toujours vrai et on recommence toujours la série \"mesure puis attends 5s\". La _condition_ ayant pour valeur _\"Tant que\"_ que nous avons utilisée se traduit par _while_ et tout ce qui suit les \":\" et est décalé de 4 caractères est répété à l'infini dans l'ordre des lignes."
   ]
  },
  {
   "cell_type": "code",
   "execution_count": 11,
   "metadata": {},
   "outputs": [],
   "source": [
    "# déclarations\n",
    "import mraa, time, math\n",
    "from upm import pyupm_bmp280 as bmp\n",
    "from upm import pyupm_jhd1313m1 as jdm\n",
    "\n",
    "lcdAddress = 0x3E\n",
    "rgbAddress = 0x62\n",
    "bus1 = 0\n",
    "bmeAddr = 0x77\n",
    "pauseVal = 5\n",
    "\n",
    "bme =bmp.BME280(bus1,bmeAddr)\n",
    "lcd = jdm.Jhd1313m1(bus1,lcdAddress,rgbAddress)"
   ]
  },
  {
   "cell_type": "code",
   "execution_count": 12,
   "metadata": {},
   "outputs": [
    {
     "data": {
      "text/plain": [
       "0"
      ]
     },
     "execution_count": 12,
     "metadata": {},
     "output_type": "execute_result"
    }
   ],
   "source": [
    "# dessin et enregistrement du caractère degré\n",
    "degree = (\n",
    "    0b01100,\n",
    "    0b10010,\n",
    "    0b01100,\n",
    "    0b00000,\n",
    "    0b00000,\n",
    "    0b00000,\n",
    "    0b00000,\n",
    "    0b00000)\n",
    "\n",
    "lcd.createChar(0,degree)"
   ]
  },
  {
   "cell_type": "code",
   "execution_count": 10,
   "metadata": {},
   "outputs": [],
   "source": [
    "# définition de l'altitude locale\n",
    "localAlt = 169.5\n",
    "# Calcul de la pression au niveau de la mer\n",
    "def convertSeaLevel (m_Pressure):\n",
    "    sl_Pressure = m_Pressure / math.pow(1.0 - localAlt/44330, 5.255)\n",
    "    return sl_Pressure\n",
    "# fin du calcul"
   ]
  },
  {
   "cell_type": "code",
   "execution_count": 1,
   "metadata": {},
   "outputs": [
    {
     "name": "stdout",
     "output_type": "stream",
     "text": [
      "0, 2, 0, 0\n",
      "0, 2, 0, 0\n",
      "0, 2, 0, 0\n",
      "0, 2, 0, 0\n",
      "0, 2, 0, 0\n",
      "0, 2, 0, 0\n",
      "0, 2, 0, 0\n",
      "0, 2, 0, 0\n",
      "0, 2, 0, 0\n",
      "0, 2, 0, 0\n",
      "0, 2, 0, 0\n",
      "0, 2, 0, 0\n",
      "0, 2, 0, 0\n",
      "0, 2, 0, 0\n",
      "0, 2, 0, 0\n",
      "0, 2, 0, 0\n",
      "0, 2, 0, 0\n",
      "0, 2, 0, 0\n",
      "0, 2, 0, 0\n",
      "0, 2, 0, 0\n",
      "0, 2, 0, 0\n",
      "0, 2, 0, 0\n",
      "0, 2, 0, 0\n",
      "0, 2, 0, 0\n",
      "0, 2, 0, 0\n",
      "0, 2, 0, 0\n",
      "0, 2, 0, 0\n",
      "0, 2, 0, 0\n",
      "0, 2, 0, 0\n",
      "0, 2, 0, 0\n",
      "0, 2, 0, 0\n",
      "0, 2, 0, 0\n",
      "0, 2, 0, 0\n",
      "0, 2, 0, 0\n",
      "0, 2, 0, 0\n",
      "0, 2, 0, 0\n",
      "0, 2, 0, 0\n",
      "0, 2, 0, 0\n",
      "0, 2, 0, 0\n",
      "0, 2, 0, 0\n",
      "0, 2, 0, 0\n",
      "0, 2, 0, 0\n",
      "0, 2, 0, 0\n",
      "0, 2, 0, 0\n",
      "0, 2, 0, 0\n",
      "0, 2, 0, 0\n",
      "0, 2, 0, 0\n",
      "0, 2, 0, 0\n",
      "0, 2, 0, 0\n",
      "0, 2, 0, 0\n",
      "0, 2, 0, 0\n",
      "0, 2, 0, 0\n",
      "0, 2, 0, 0\n",
      "0, 2, 0, 0\n",
      "0, 2, 0, 0\n",
      "0, 2, 0, 0\n",
      "0, 2, 0, 0\n",
      "0, 2, 0, 0\n",
      "0, 2, 0, 0\n",
      "0, 2, 0, 0\n",
      "0, 2, 0, 0\n",
      "0, 2, 0, 0\n",
      "0, 2, 0, 0\n",
      "0, 2, 0, 0\n",
      "0, 2, 0, 0\n",
      "0, 2, 0, 0\n",
      "0, 2, 0, 0\n",
      "0, 2, 0, 0\n",
      "0, 2, 0, 0\n",
      "0, 2, 0, 0\n",
      "0, 2, 0, 0\n",
      "0, 2, 0, 0\n",
      "0, 2, 0, 0\n",
      "0, 2, 0, 0\n",
      "0, 2, 0, 0\n",
      "0, 2, 0, 0\n",
      "0, 2, 0, 0\n",
      "0, 2, 0, 0\n",
      "0, 2, 0, 0\n",
      "0, 2, 0, 0\n",
      "0, 2, 0, 0\n",
      "0, 2, 0, 0\n",
      "0, 2, 0, 0\n",
      "0, 2, 0, 0\n",
      "0, 2, 0, 0\n",
      "0, 2, 0, 0\n",
      "0, 2, 0, 0\n",
      "0, 2, 0, 0\n",
      "0, 2, 0, 0\n",
      "0, 2, 0, 0\n",
      "0, 2, 0, 0\n",
      "0, 2, 0, 0\n",
      "0, 2, 0, 0\n",
      "0, 2, 0, 0\n",
      "0, 2, 0, 0\n",
      "0, 2, 0, 0\n",
      "0, 2, 0, 0\n",
      "0, 2, 0, 0\n",
      "0, 2, 0, 0\n",
      "0, 2, 0, 0\n",
      "0, 2, 0, 0\n",
      "0, 2, 0, 0\n",
      "0, 2, 0, 0\n",
      "0, 2, 0, 0\n",
      "0, 2, 0, 0\n",
      "0, 2, 0, 0\n",
      "0, 2, 0, 0\n",
      "0, 2, 0, 0\n",
      "0, 2, 0, 0\n",
      "0, 2, 0, 0\n",
      "0, 2, 0, 0\n",
      "0, 2, 0, 0\n",
      "0, 2, 0, 0\n",
      "0, 2, 0, 0\n",
      "0, 2, 0, 0\n",
      "0, 2, 0, 0\n",
      "0, 2, 0, 0\n",
      "0, 2, 0, 0\n",
      "0, 2, 0, 0\n",
      "0, 2, 0, 0\n",
      "0, 2, 0, 0\n",
      "0, 2, 0, 0\n",
      "0, 2, 0, 0\n",
      "0, 2, 0, 0\n",
      "0, 2, 0, 0\n",
      "0, 2, 0, 0\n",
      "0, 2, 0, 0\n",
      "0, 2, 0, 0\n",
      "0, 2, 0, 0\n",
      "0, 2, 0, 0\n",
      "0, 2, 0, 0\n",
      "0, 2, 0, 0\n",
      "0, 2, 0, 0\n",
      "0, 2, 0, 0\n",
      "0, 2, 0, 0\n",
      "0, 2, 0, 0\n",
      "0, 2, 0, 0\n",
      "0, 2, 0, 0\n",
      "0, 2, 0, 0\n",
      "0, 2, 0, 0\n",
      "0, 2, 0, 0\n",
      "0, 2, 0, 0\n",
      "0, 2, 0, 0\n",
      "0, 2, 0, 0\n",
      "0, 2, 0, 0\n",
      "0, 2, 0, 0\n",
      "0, 2, 0, 0\n",
      "0, 2, 0, 0\n",
      "0, 2, 0, 0\n",
      "0, 2, 0, 0\n",
      "0, 2, 0, 0\n",
      "0, 2, 0, 0\n",
      "0, 2, 0, 0\n",
      "0, 2, 0, 0\n",
      "0, 2, 0, 0\n",
      "0, 2, 0, 0\n",
      "0, 2, 0, 0\n",
      "0, 2, 0, 0\n",
      "0, 2, 0, 0\n",
      "0, 2, 0, 0\n",
      "0, 2, 0, 0\n",
      "0, 2, 0, 0\n",
      "0, 2, 0, 0\n",
      "0, 2, 0, 0\n",
      "0, 2, 0, 0\n",
      "0, 2, 0, 0\n",
      "0, 2, 0, 0\n"
     ]
    },
    {
     "ename": "SystemExit",
     "evalue": "",
     "output_type": "error",
     "traceback": [
      "An exception has occurred, use %tb to see the full traceback.\n",
      "\u001b[0;31mSystemExit\u001b[0m\n"
     ]
    },
    {
     "name": "stderr",
     "output_type": "stream",
     "text": [
      "/usr/local/lib/python3.7/dist-packages/IPython/core/interactiveshell.py:3304: UserWarning: To exit: use 'exit', 'quit', or Ctrl-D.\n",
      "  warn(\"To exit: use 'exit', 'quit', or Ctrl-D.\", stacklevel=1)\n"
     ]
    }
   ],
   "source": [
    "# https://github.com/intel-iot-devkit/upm/blob/master/examples/python/tcs3414cs.py\n",
    "#!/usr/bin/env python\n",
    "# Author: Zion Orent <zorent@ics.com>\n",
    "# Copyright (c) 2015 Intel Corporation.\n",
    "#\n",
    "# Permission is hereby granted, free of charge, to any person obtaining\n",
    "# a copy of this software and associated documentation files (the\n",
    "# \"Software\"), to deal in the Software without restriction, including\n",
    "# without limitation the rights to use, copy, modify, merge, publish,\n",
    "# distribute, sublicense, and/or sell copies of the Software, and to\n",
    "# permit persons to whom the Software is furnished to do so, subject to\n",
    "# the following conditions:\n",
    "#\n",
    "# The above copyright notice and this permission notice shall be\n",
    "# included in all copies or substantial portions of the Software.\n",
    "#\n",
    "# THE SOFTWARE IS PROVIDED \"AS IS\", WITHOUT WARRANTY OF ANY KIND,\n",
    "# EXPRESS OR IMPLIED, INCLUDING BUT NOT LIMITED TO THE WARRANTIES OF\n",
    "# MERCHANTABILITY, FITNESS FOR A PARTICULAR PURPOSE AND\n",
    "# NONINFRINGEMENT. IN NO EVENT SHALL THE AUTHORS OR COPYRIGHT HOLDERS BE\n",
    "# LIABLE FOR ANY CLAIM, DAMAGES OR OTHER LIABILITY, WHETHER IN AN ACTION\n",
    "# OF CONTRACT, TORT OR OTHERWISE, ARISING FROM, OUT OF OR IN CONNECTION\n",
    "# WITH THE SOFTWARE OR THE USE OR OTHER DEALINGS IN THE SOFTWARE.\n",
    "\n",
    "from __future__ import print_function\n",
    "import time, sys, signal, atexit\n",
    "from upm import pyupm_tcs3414cs as upmTcs3414cs\n",
    "\n",
    "def main():\n",
    "    # Instantiate the color sensor on I2C\n",
    "    myColorSensor = upmTcs3414cs.TCS3414CS()\n",
    "\n",
    "    ## Exit handlers ##\n",
    "    # This stops python from printing a stacktrace when you hit control-C\n",
    "    def SIGINTHandler(signum, frame):\n",
    "        raise SystemExit\n",
    "\n",
    "    # This lets you run code on exit,\n",
    "    # including functions from myColorSensor\n",
    "    def exitHandler():\n",
    "        print(\"Exiting\")\n",
    "        sys.exit(0)\n",
    "\n",
    "    # Register exit handlers\n",
    "    atexit.register(exitHandler)\n",
    "    signal.signal(signal.SIGINT, SIGINTHandler)\n",
    "\n",
    "    myrgb = upmTcs3414cs.tcs3414sc_rgb_t()\n",
    "\n",
    "    # Print out the r, g, b, and clr value every 0.5 seconds\n",
    "    while(1):\n",
    "        myColorSensor.readRGB(myrgb)\n",
    "        print(\"{0}, {1}, {2}, {3}\".format(myrgb.r, myrgb.g, myrgb.b, myrgb.clr))\n",
    "\n",
    "        time.sleep(.5)\n",
    "\n",
    "if __name__ == '__main__':\n",
    "    main()"
   ]
  },
  {
   "cell_type": "code",
   "execution_count": null,
   "metadata": {},
   "outputs": [],
   "source": []
  }
 ],
 "metadata": {
  "kernelspec": {
   "display_name": "Python 3",
   "language": "python",
   "name": "python3"
  },
  "language_info": {
   "codemirror_mode": {
    "name": "ipython",
    "version": 3
   },
   "file_extension": ".py",
   "mimetype": "text/x-python",
   "name": "python",
   "nbconvert_exporter": "python",
   "pygments_lexer": "ipython3",
   "version": "3.7.3"
  }
 },
 "nbformat": 4,
 "nbformat_minor": 2
}
