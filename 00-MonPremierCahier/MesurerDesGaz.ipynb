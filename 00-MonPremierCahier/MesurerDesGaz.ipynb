{
 "cells": [
  {
   "cell_type": "markdown",
   "metadata": {},
   "source": [
    "# Mesure de concentrations de gaz \n",
    "\n",
    "Les instruments de mesure de concentration gazeuses de la famille MQ  fournissent un signal analogique c'est pourquoi il faut les convertir en signal numérique pour pouvoir les exploiter avec une RaspberryPI\n",
    "\n",
    "## Utilisation de convertisseurs Analogique --> digital\n",
    "\n",
    "Nous avons à notre disposition deux convertisseurs analogique numérique\n",
    " * ADS1015 16bit\n",
    " * ADS1115 12 bit\n",
    "dont le fonctionnement est totalement identique. Ce qui les diffférencie est la grandeur privilégiée, pour le premier c'est la précision de l'échantillonnage aux dépens de la fréquence d'échantillonnage pour le second c'est l'inverse.\n",
    "\n",
    "Deux modes de fonctionnement sont possibles :\n",
    " * en mode différentiel le signal est mesuré par différence entre la broche de sortie et la masse\n",
    " * en mode direct le signal est mesuré directement sur la broche de sortie\n",
    "Nous disposons de 3 capeurs et de 4 broches d'échantillonnage sur le convertisseur, nous ferons deux mesures directes et une mesure par différence. L'exploitation fine de ces éléments requiert le calibrage des capteurs analogiques et le choix des bons paramètres de configuration. L'exemple simple présenté ici a été réalisé en mode direct pour le capteur qualité et le capteur aclcool en mode différentiel pour le capteur méthane.\n",
    "\n",
    "La figure ci-dessous présente l'ensemble du dispositif :\n",
    "\n",
    "![Convertisseurs vue générale](images/montageGaz.jpg)\n",
    "                        ![licence : Gérard Vidal](../images/Licence.jpg)\n",
    "                        \n",
    "Le câblage du convertisseurs ne présente pas de difficulté particulière, le point requérant un peu d'attention est le choix de l'adresse qui sera envoyée sur le bus `I2C` car il faut choisir cette adresse parmi les 4 possibles :  `0x49` `0x48` `0x4B` `0x4A`. Le choix se fait en établissant une connexion entre la broche `ADDR` et l'une des 4 broches `VDD` `GND` `SCL` `SDA`. Le tableau ci-dessous indique les équivalences des connexions :\n",
    "\n",
    "| Broche | Adresse |\n",
    "|:------ | ------- |\n",
    "| `VDD`  | `0x49`  |\n",
    "| `GND`  | `0x48`  |\n",
    "| `SCL`  | `0x4B`  |\n",
    "| `SDA`  | `0x4A`  |\n",
    "\n",
    "les 3 capteurs utilisés sont :\n",
    " * Qualité de l'air \n",
    " * Alcool\n",
    " * Méthane\n",
    "\n",
    "L'image suivante montre la connexion des trois capteurs de gaz : Qualité, Méthane et Alcool :\n",
    "\n",
    "![Convertisseurs vue du câblage](images/3capteursGaz.jpg)\n",
    "                        ![licence : Gérard Vidal](../images/Licence.jpg)\n",
    "\n",
    "Connexion du capteur méthane :\n",
    "\n",
    "![Capteurs gaz connectés au convertisseur](images/convertisseur.jpg)\n",
    "                        ![licence : Gérard Vidal](../images/Licence.jpg)\n",
    "                        \n",
    "Importation des librairies nécessaires à l'utilisation du convertisseur. On n'importe aucune librairie propre aux capteurs de gaz car il s'agit de capteurs `analogiques` qui transmettent une variation de potentiel sur un fil série."
   ]
  },
  {
   "cell_type": "code",
   "execution_count": 53,
   "metadata": {},
   "outputs": [],
   "source": [
    "import mraa, upm\n",
    "from time import sleep\n",
    "from upm import pyupm_ads1x15 as upm"
   ]
  },
  {
   "cell_type": "markdown",
   "metadata": {},
   "source": [
    "## Récupération des paramètres d'état de l'échantillonneur\n",
    "\n",
    "On déclare ici l'échantillonneur et on récupère les valeurs de ses paramètres d'opération (gain, fréquence et mode). \n",
    " * getGain()\n",
    " * getSPS()\n",
    " * getContinuous()\n",
    " \n",
    "On fixe ensuite ces paramètres pour la manipulation que l'on souhaite effectuer.\n",
    " * getGain()\n",
    " * getSPS()\n",
    " * getContinuous()"
   ]
  },
  {
   "cell_type": "code",
   "execution_count": 54,
   "metadata": {},
   "outputs": [
    {
     "name": "stdout",
     "output_type": "stream",
     "text": [
      "Gain :   512  SPS :    32 Continuous :     1\n",
      "\n",
      "Nouvelles valeurs :\n",
      "Gain :  1024  SPS :    64 Continuous :     1\n"
     ]
    }
   ],
   "source": [
    "gaz = upm.ADS1115(0, 0x49)\n",
    "gain = gaz.getGain()\n",
    "sps = gaz.getSPS()\n",
    "cont = gaz.getContinuous() \n",
    "print (\"Gain : {0:5d}\".format(gain),\" SPS : {0:5d}\".format(sps), \"Continuous : {0:5d}\".format(cont))\n",
    "gaz.setContinuous(True) # Pour ne pas faire de conversion en continu\n",
    "gaz.setGain(upm.ADS1X15.GAIN_TWO) # Passage à un gain 1024\n",
    "gaz.setSPS(upm.ADS1115.SPS_32) # Passage à une fréquence de 64\n",
    "# Vérification\n",
    "gain = gaz.getGain()\n",
    "sps = gaz.getSPS()\n",
    "cont = gaz.getContinuous() \n",
    "print (\"\\nNouvelles valeurs :\")\n",
    "print (\"Gain : {0:5d}\".format(gain),\" SPS : {0:5d}\".format(sps), \"Continuous : {0:5d}\".format(cont))"
   ]
  },
  {
   "cell_type": "markdown",
   "metadata": {},
   "source": [
    "## Mesure directe des variables qualité alcool méthane\n",
    "\n",
    "Les deux premières mesures sont effectués directement, la troisième est faite par différence."
   ]
  },
  {
   "cell_type": "code",
   "execution_count": 55,
   "metadata": {},
   "outputs": [
    {
     "name": "stdout",
     "output_type": "stream",
     "text": [
      "Qualité : 0.80\n",
      " Alcool : 0.80\n",
      " Méthane : 2.50\n",
      "\n"
     ]
    }
   ],
   "source": [
    "qual = ads1115.getSample(upm.ADS1X15.SINGLE_0)\n",
    "alco = ads1115.getSample(upm.ADS1X15.SINGLE_1)\n",
    "meth = ads1115.getSample(upm.ADS1X15.DIFF_2_3)\n",
    "print (\"Qualité : {0:.2f}\\n\".format(qual),\"Alcool : {0:.2f}\\n\".format(alco),\"Méthane : {0:.2f}\\n\".format(meth))"
   ]
  },
  {
   "cell_type": "markdown",
   "metadata": {},
   "source": [
    "# série de mesures à l'aide d'une boucle\n",
    "Dans le groupe suivant on répète 20 fois la mesure en partant de 0 et en allant jusqu'à 19 (inférieur à 20) au pas de 1 par défaut."
   ]
  },
  {
   "cell_type": "code",
   "execution_count": 51,
   "metadata": {},
   "outputs": [
    {
     "name": "stdout",
     "output_type": "stream",
     "text": [
      "Qualité : 0.08  Alcool : 2.32  Méthane : 0.08 \n",
      "Qualité : 0.08  Alcool : 2.29  Méthane : 2.95 \n",
      "Qualité : 0.08  Alcool : 2.26  Méthane : 2.93 \n",
      "Qualité : 0.08  Alcool : 2.24  Méthane : 2.93 \n",
      "Qualité : 0.08  Alcool : 2.20  Méthane : 2.89 \n",
      "Qualité : 0.08  Alcool : 2.16  Méthane : 2.87 \n",
      "Qualité : 0.08  Alcool : 2.14  Méthane : 2.88 \n",
      "Qualité : 0.08  Alcool : 2.14  Méthane : 2.90 \n",
      "Qualité : 0.08  Alcool : 2.13  Méthane : 2.89 \n",
      "Qualité : 0.08  Alcool : 2.11  Méthane : 2.89 \n",
      "Qualité : 0.08  Alcool : 2.10  Méthane : 2.88 \n",
      "Qualité : 0.08  Alcool : 2.07  Méthane : 2.87 \n",
      "Qualité : 0.08  Alcool : 2.05  Méthane : 2.86 \n",
      "Qualité : 0.08  Alcool : 2.84  Méthane : 2.84 \n",
      "Qualité : 0.08  Alcool : 2.00  Méthane : 2.83 \n",
      "Qualité : 0.08  Alcool : 2.00  Méthane : 2.85 \n",
      "Qualité : 1.98  Alcool : 1.98  Méthane : 2.83 \n",
      "Qualité : 0.08  Alcool : 1.96  Méthane : 2.81 \n",
      "Qualité : 0.08  Alcool : 1.94  Méthane : 2.81 \n",
      "Qualité : 0.08  Alcool : 1.92  Méthane : 2.80 \n"
     ]
    }
   ],
   "source": [
    "for num in range(0,20):\n",
    "    qual = ads1115.getSample(upm.ADS1X15.SINGLE_0)\n",
    "    alco = ads1115.getSample(upm.ADS1X15.SINGLE_1)\n",
    "    meth = ads1115.getSample(upm.ADS1X15.DIFF_2_3)\n",
    "    print (\"Qualité : {0:.2f} \".format(qual),\"Alcool : {0:.2f} \".format(alco),\"Méthane : {0:.2f} \".format(meth))    \n",
    "    sleep(2)"
   ]
  }
 ],
 "metadata": {
  "kernelspec": {
   "display_name": "Python 3",
   "language": "python",
   "name": "python3"
  },
  "language_info": {
   "codemirror_mode": {
    "name": "ipython",
    "version": 3
   },
   "file_extension": ".py",
   "mimetype": "text/x-python",
   "name": "python",
   "nbconvert_exporter": "python",
   "pygments_lexer": "ipython3",
   "version": "3.6.5rc1"
  }
 },
 "nbformat": 4,
 "nbformat_minor": 2
}
