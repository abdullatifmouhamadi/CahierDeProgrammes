{
 "cells": [
  {
   "cell_type": "markdown",
   "metadata": {},
   "source": [
    "\n",
    "|  |\n",
    "| ------------------------------------------------------- | \n",
    "| ![Tremplin des sciences](images/tremplinColorSmall.png) | \n",
    "\n",
    "Cahier d'exercices pour l'enseignement et l'apprentissage de programmation issu de la collection \"Climat et météo tremplin pour l'enseignement des sciences\" (PIA IFÉ ENS de Lyon - Météofrance ENM Toulouse). Le dispositif clef en main repose sur l'utilisation d'une RaspberryPi chargée avec le système d'exploitation Debian enrichi, fourni par le projet. Les sources et les exécutables sont accessibles dans [l'espace collaboratif de la forge github](https://github.com/g-vidal/CahierDeProgrammes); plus d'information sur les [blogs d'accompagnement](http://blog.climatetmeteo.fr/GerardVidal/) systèmes d'exploitation sur [la page des OS  de Raspberries Pi](http://mediaserv.climatetmeteo.fr/images/RaspBerry/DebianStretchPi3/).  Toutes les ressources issues du projet sont fournies sous licence [Creative Commons](https://creativecommons.org/licenses/by-nc/4.0/) ou sous les licences libres d'origine des outils utilisés. Les ressources  du projet peuvent être utilisées dans tout autre environnement compatible.![licence : Creative Commons](images/Licence.jpg) \n",
    "\n",
    "Auteurs : G. Vidal, C-H. Eyraud, E. le Jan\n",
    "\n",
    "------------------------------------------------------------"
   ]
  },
  {
   "cell_type": "markdown",
   "metadata": {},
   "source": [
    "## Utilisation d'une LED RGB\n",
    "\n",
    "Plusieurs types de LED RGB existent dans le commerce, certaines ont une *cathode commune* d'autres ont une *anode commune*. Les branchements sont différents et il est important de bien comprendre quel sera le sens du courant et quelle sera la tension aux différentes bornes avant de faire les branchements sous peine de **détruire** la nano machine utilisée. \n",
    "\n",
    "Dans ce qui suit nous utilisons une LED RGB à **cathode commune** et nous proposons un branchement direct utilisant une source 3.3V. Des résistances permettent d'harmoniser les tensions.\n",
    "\n",
    "![Montage d'une LED RGB à cathode commune](images/Raspberry_LedRVB.jpg)\n",
    "                        ![licence : Charles-Henri Eyraud](images/Licence.jpg)\n",
    "                        \n",
    "La terre est branchée sur le fil noir les trois connecteurs GPIO 17 27 22  sont branchés respectivement dans les trous 11 13 et 15 de la plaque d'essai."
   ]
  },
  {
   "cell_type": "code",
   "execution_count": 1,
   "metadata": {},
   "outputs": [],
   "source": [
    "import RPi.GPIO as gpio, time\n",
    "gpio.setmode(gpio.BOARD)  # BCM ou BOARD pour identifier les broches. choisir BOARD\n",
    "\n",
    "dur = 0.25\n",
    "gpio.setup(11, gpio.OUT)# GPIO 17 broche 11 output  \n",
    "gpio.setup(13, gpio.OUT)# GPIO 27 broche 13 output \n",
    "gpio.setup(15, gpio.OUT)# GPIO 22 broche 15 output  "
   ]
  },
  {
   "cell_type": "markdown",
   "metadata": {},
   "source": [
    "Un signal à moduation de largeur d'impulsion (PWM Pulse Width Modulation) est un signal constitué de deux composantes:\n",
    "* le rapport cyclique (duty cycle) qui décrit la durée à l'état \"haut\" en pourcentage de la durée du cycle\n",
    "* la fréquence déterminant la durée du cycle\n",
    "\n",
    "Le programme ci dessous :\n",
    " * allume la diode rouge pendant 0.25s à 15% de la puissance max (fréquence 200Hz)\n",
    " * augmente la puissance jusqu'à 80% par pas de 5% et intervalle de 0.25s\n",
    " * fait clignoter la LED à une fréquence de 8Hz Rouge 15 Hz Vert et 18 Hz bleu"
   ]
  },
  {
   "cell_type": "code",
   "execution_count": 2,
   "metadata": {},
   "outputs": [],
   "source": [
    "#création des 3 LEDs modulables\n",
    "pr = gpio.PWM(11, 200)    # led rouge crée un objet pr  PWM sur le port GPIO17 à 200 Hertz  T=5ms \n",
    "pb = gpio.PWM(13, 200)    # led bleue crée un objet pb  PWM sur le port GPIO27 à 200 Hertz  T=5ms \n",
    "pg = gpio.PWM(15, 200)    # led verte crée un objet pg  PWM sur le port GPIO22 à 200 Hertz  T=5ms "
   ]
  },
  {
   "cell_type": "markdown",
   "metadata": {},
   "source": [
    "Allumage de la LED rouge à la fréquence 200 Hz 2,5s à 100% puis 2,5s à 20 %"
   ]
  },
  {
   "cell_type": "code",
   "execution_count": 3,
   "metadata": {},
   "outputs": [],
   "source": [
    "# LED Rouge  \n",
    "pr.start(100)    # allumage à 100 % (100% duty cycle)   \n",
    "time.sleep(10*dur)\n",
    "pr.start(20)    # allumage à 20 % (100% duty cycle)   \n",
    "time.sleep(10*dur)\n",
    "pr.stop()"
   ]
  },
  {
   "cell_type": "markdown",
   "metadata": {},
   "source": [
    "Allumage de la LED rouge à la fréquence 2Hz à 50% et passage de fréquence de 5Hz à 15Hz avec un pas de 5Hz"
   ]
  },
  {
   "cell_type": "code",
   "execution_count": 7,
   "metadata": {},
   "outputs": [],
   "source": [
    "# LED Rouge\n",
    "pr.ChangeFrequency(2)     # fréquence 2 Hertz  T=0,2s \n",
    "pr.start(50)             # allumage avec un rapport de cycle de 50 \n",
    "time.sleep(10*dur)\n",
    "for i in range(5,15,5) :\n",
    "    pr.ChangeFrequency(i)   # passage à la fréquence i de 5 (200ms) à 20 (50ms) avec un pas de 5\n",
    "    time.sleep(5*dur)\n",
    "pr.stop()"
   ]
  },
  {
   "cell_type": "markdown",
   "metadata": {},
   "source": [
    "Allumage de la LED bleue à la fréquence 2Hz à 1%  puis en faisant varier l'intensité de 25% à 100% avec un pas de 25"
   ]
  },
  {
   "cell_type": "code",
   "execution_count": 4,
   "metadata": {},
   "outputs": [],
   "source": [
    "# LED Bleue\n",
    "pb.ChangeFrequency(2)\n",
    "pb.start(1)             # allumage à 1 % (1% duty cycle)  avec la féquence 1 Hz\n",
    "time.sleep(20*dur)\n",
    "for i in range(25,100,25) :\n",
    "    pb.ChangeDutyCycle(i)   # passage à 100% par pas de 25%\n",
    "    time.sleep(8*dur)\n",
    "pb.stop()"
   ]
  },
  {
   "cell_type": "markdown",
   "metadata": {},
   "source": [
    "Ecrire un programme dans lequel l'allumage de la LED verte varie en intensité et en fréquence"
   ]
  },
  {
   "cell_type": "code",
   "execution_count": 69,
   "metadata": {},
   "outputs": [],
   "source": [
    "# LED Verte  "
   ]
  },
  {
   "cell_type": "markdown",
   "metadata": {},
   "source": [
    "Créer de la lumière jaune à partir du rouge et du vert"
   ]
  },
  {
   "cell_type": "code",
   "execution_count": 5,
   "metadata": {},
   "outputs": [],
   "source": [
    "# LED Jaune = Rouge + Vert  \n",
    "pr.start(15)             # allumage à 15 % (15% duty cycle) \n",
    "pg.start(15)             # allumage à 15 % (15% duty cycle)   \n",
    "time.sleep(dur)\n",
    "for i in range(15,80,5) :\n",
    "    pr.ChangeDutyCycle(i)   # passage à 80% par pas de 5%\n",
    "    pg.ChangeDutyCycle(i-10)   # passage à 80% par pas de 5% \n",
    "    time.sleep(dur)\n",
    "pr.ChangeFrequency(8)   # passage de la fréquence à 8 Hz  \n",
    "pg.ChangeFrequency(8)   # passage de la fréquence à 8 Hz  \n",
    "time.sleep(10*dur)\n",
    "pr.stop()\n",
    "pg.stop()"
   ]
  },
  {
   "cell_type": "markdown",
   "metadata": {},
   "source": [
    "Créer du magenta à partir du rouge et du bleu"
   ]
  },
  {
   "cell_type": "code",
   "execution_count": 6,
   "metadata": {},
   "outputs": [],
   "source": [
    "# LED Magenta = Rouge + bleu  \n",
    "pr.start(15)             # allumage à 15 % (15% duty cycle) \n",
    "pb.start(15)             # allumage à 15 % (15% duty cycle)   \n",
    "time.sleep(dur)\n",
    "for i in range(15,80,5) :\n",
    "    pr.ChangeDutyCycle(i)   # passage à 80% par pas de 5%\n",
    "    pb.ChangeDutyCycle(i)   # passage à 80% par pas de 5% \n",
    "    time.sleep(dur)\n",
    "pr.ChangeFrequency(8)   # passage de la fréquence à 8 Hz  \n",
    "pb.ChangeFrequency(8)   # passage de la fréquence à 8 Hz  \n",
    "time.sleep(10*dur)\n",
    "pr.stop()\n",
    "pb.stop()"
   ]
  },
  {
   "cell_type": "markdown",
   "metadata": {},
   "source": [
    "Créer du cyan à partir du vert et du bleu"
   ]
  },
  {
   "cell_type": "code",
   "execution_count": 7,
   "metadata": {},
   "outputs": [],
   "source": [
    "# LED Cyan = Vert + bleu  \n",
    "pg.start(15)             # allumage à 15 % (15% duty cycle) \n",
    "pb.start(15)             # allumage à 15 % (15% duty cycle)   \n",
    "time.sleep(dur)\n",
    "for i in range(15,80,5) :\n",
    "    pg.ChangeDutyCycle(i)   # passage à 80% par pas de 5%\n",
    "    pb.ChangeDutyCycle(i)   # passage à 80% par pas de 5% \n",
    "    time.sleep(dur)\n",
    "pg.ChangeFrequency(7)   # passage de la fréquence à 8 Hz  \n",
    "pb.ChangeFrequency(7)   # passage de la fréquence à 8 Hz  \n",
    "time.sleep(10*dur)\n",
    "pg.stop()\n",
    "pb.stop()"
   ]
  },
  {
   "cell_type": "code",
   "execution_count": 8,
   "metadata": {},
   "outputs": [],
   "source": [
    "gpio.cleanup()          #nettoyage de l'état du gpio"
   ]
  },
  {
   "cell_type": "markdown",
   "metadata": {
    "collapsed": true
   },
   "source": [
    "## Création d'un arc-en-ciel avec une LED RGB\n",
    "\n",
    "La Led RGB permet de mélanger les couleurs comme cela se passe dans un téléviseur à LED. Chaque point de l'écran crée la couleur requise en mélangeant les trois couleurs Rouge Vert Bleu dans les proportions adéquates. Une nouvelle bibliothèque \"_thread\" est ajoutée afin de détecter les entrées au clavier pendant l'excution des tâches."
   ]
  },
  {
   "cell_type": "code",
   "execution_count": 27,
   "metadata": {},
   "outputs": [],
   "source": [
    "import RPi.GPIO as gpio, time\n",
    "gpio.setmode(gpio.BOARD)  # choisir BCM ou BOARD pour identifier les broches. Ici BOARD\n",
    "import _thread as thread\n",
    "\n",
    "\n",
    "gpio.setup(11, gpio.OUT)# GPIO 17 broche 11 output  \n",
    "gpio.setup(13, gpio.OUT)# GPIO 27 broche 13 output \n",
    "gpio.setup(15, gpio.OUT)# GPIO 22 broche 15 outpu\n",
    "\n",
    "pr = gpio.PWM(11, 200)    # led rouge crée un objet pg  PWM sur le port GPIO22 à 200 Hertz  T=5ms \n",
    "pb = gpio.PWM(13, 200)    # led bleue crée un objet pb  PWM sur le port GPIO23 à 200 Hertz  T=5ms \n",
    "pg = gpio.PWM(15, 200)    # led rverte crée un objet pr  PWM sur le port GPIO24 à 200 Hertz  T=5ms "
   ]
  },
  {
   "cell_type": "code",
   "execution_count": 28,
   "metadata": {},
   "outputs": [
    {
     "name": "stdout",
     "output_type": "stream",
     "text": [
      "Type \"stop\" to stop modulation\n",
      "stop\n"
     ]
    }
   ],
   "source": [
    "dur = 0.15\n",
    "\n",
    "# veille sur l'input\n",
    "def input_thread(CheckInput):\n",
    "    check = input()\n",
    "#    CheckInput = CheckInput.append(check)\n",
    "    CheckInput.append(check)\n",
    "    return\n",
    "\n",
    "def rainbow():\n",
    "    CheckInput = []\n",
    "    thread.start_new_thread(input_thread, (CheckInput,))\n",
    "    print ('Type \"stop\" to stop modulation')\n",
    "    \n",
    "    pr.start(0)             # allumage à 0 % (0% duty cycle) \n",
    "    for i in range(0,100,2) :\n",
    "        pr.ChangeDutyCycle(i)   # de 0 à 100% par pas de 5% par 0.25s\n",
    "        time.sleep(dur)\n",
    "        \n",
    "    while True :\n",
    "        pb.start(0)             # allumage à 0 % (0% duty cycle) \n",
    "        for i in range(0,100,2) :\n",
    "            pb.ChangeDutyCycle(i)   # de 0 à 100% par pas de 2% par 0.25s R-> M\n",
    "            time.sleep(dur)\n",
    "        time.sleep(dur)\n",
    "        for i in range(100,0,-2) :\n",
    "            pr.ChangeDutyCycle(i)   # de 0 à 100% par pas de 2% par 0.25s M->B\n",
    "            time.sleep(dur)\n",
    "        pr.stop()\n",
    "        pg.start(0)             # allumage à 0 % (0% duty cycle) \n",
    "        time.sleep(dur)\n",
    "        for i in range(0,100,2) :\n",
    "            pg.ChangeDutyCycle(i)   # de 0 à 100% par pas de 2% par 0.25s B-> C\n",
    "            time.sleep(dur)\n",
    "        time.sleep(dur)\n",
    "        for i in range(100,0,-2) :\n",
    "            pb.ChangeDutyCycle(i)   # de 0 à 100% par pas de 2% par 0.25s C-> V\n",
    "            time.sleep(dur)\n",
    "        pb.stop()\n",
    "        pr.start(0)             # allumage à 0 % (0% duty cycle) \n",
    "        time.sleep(dur)\n",
    "        for i in range(0,100,2) :\n",
    "            pr.ChangeDutyCycle(i)   # de 0 à 100% par pas de 2% par 0.25s V-> J\n",
    "            time.sleep(dur)\n",
    "        time.sleep(dur)\n",
    "        for i in range(100,0,-2) :\n",
    "            pg.ChangeDutyCycle(i)   # de 0 à 100% par pas de 2% par 0.25s J-> R\n",
    "            time.sleep(dur)\n",
    "        pb.stop()\n",
    "        time.sleep(dur)\n",
    "        \n",
    "        # Sortie de boucle infinie\n",
    "        if CheckInput == ['stop']  : \n",
    "            pr.stop()\n",
    "            pg.stop()\n",
    "            pb.stop()            \n",
    "            break\n",
    "    return\n",
    "\n",
    "\n",
    "rainbow()\n"
   ]
  },
  {
   "cell_type": "code",
   "execution_count": 8,
   "metadata": {},
   "outputs": [],
   "source": [
    "pr.stop()\n",
    "pg.stop()\n",
    "pb.stop()"
   ]
  },
  {
   "cell_type": "code",
   "execution_count": 29,
   "metadata": {},
   "outputs": [],
   "source": [
    "gpio.cleanup()          #nettoyage de l'état du gpio  "
   ]
  },
  {
   "cell_type": "code",
   "execution_count": null,
   "metadata": {},
   "outputs": [],
   "source": []
  }
 ],
 "metadata": {
  "kernelspec": {
   "display_name": "Python 3",
   "language": "python",
   "name": "python3"
  },
  "language_info": {
   "codemirror_mode": {
    "name": "ipython",
    "version": 3
   },
   "file_extension": ".py",
   "mimetype": "text/x-python",
   "name": "python",
   "nbconvert_exporter": "python",
   "pygments_lexer": "ipython3",
   "version": "3.5.3"
  }
 },
 "nbformat": 4,
 "nbformat_minor": 2
}
