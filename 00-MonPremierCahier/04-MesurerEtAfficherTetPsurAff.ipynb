{
 "cells": [
  {
   "cell_type": "markdown",
   "metadata": {},
   "source": [
    "\n",
    "|  |\n",
    "| ------------------------------------------------------- | \n",
    "| ![Tremplin des sciences](images/tremplinColorSmall.png) | \n",
    "\n",
    "Cahier d'exercices pour l'enseignement et l'apprentissage de programmation issu de la collection \"Climat et météo tremplin pour l'enseignement des sciences\" (PIA IFÉ ENS de Lyon - Météofrance ENM Toulouse). Le dispositif clef en main repose sur l'utilisation d'une RaspberryPi chargée avec le système d'exploitation Debian enrichi, fourni par le projet. Les sources et les exécutables sont accessibles dans [l'espace collaboratif de la forge github](https://github.com/g-vidal/CahierDeProgrammes); plus d'information sur les [blogs d'accompagnement](http://blog.climatetmeteo.fr/GerardVidal/) systèmes d'exploitation sur [la page des OS  de Raspberries Pi](http://mediaserv.climatetmeteo.fr/images/RaspBerry/DebianStretchPi3/).  Toutes les ressources issues du projet sont fournies sous licence [Creative Commons](https://creativecommons.org/licenses/by-nc/4.0/) ou sous les licences libres d'origine des outils utilisés. Les ressources  du projet peuvent être utilisées dans tout autre environnement compatible.![licence : Creative Commons](images/Licence.jpg) \n",
    "\n",
    "Auteurs : G. Vidal, C-H. Eyraud, E. le Jan"
   ]
  },
  {
   "cell_type": "markdown",
   "metadata": {},
   "source": [
    "# Mesurer avec un capteur Press-Hygro-Temp : Adafruit BME280#\n",
    "\n",
    "Activité réalisée avec un capteur Adafruit BME280, une raspberry Pi3 fonctionnant avec une [image Debian Stretch fournie par l'IFÉ ENS de Lyon](http://mediaserv.climatetmeteo.fr/images/RaspBerry/), disposant des librairies INTEL mraa et upm.\n",
    "\n",
    "Sur le site de Adafruit https://learn.adafruit.com/adafruit-bme280-humidity-barometric-pressure-temperature-sensor-breakout/pinouts on lit que 4 broches doivent être connectées au raspberryPi lorsqu'on travaille avec le bus I2C.\n",
    "\n",
    "* Vin - C'est la broche d'alimentation : elle peut-être relié à 3,3V ou 5V (Nous le relierons au 3,3V dans cet exercice). \n",
    "* GND - broche à relier à une broche ground du RasberryPi\n",
    "* SCK - c'est la broche d'horloge du bus I2C à relier à la broche 5 (SCL)\n",
    "* SDI - c'est la broche de données du bus I2C à relier à la broche 3 (SDA)\n",
    "\n",
    "\n",
    "\n",
    "![Capteur BME280 branché sur le bus I2C d'un RaspberryPi](images/RaspberryPi_BME280.png)\n",
    "\n",
    "\n",
    "\n",
    "## Mesurer puis écrire la température simplement en 6 lignes de code ##\n",
    "\n",
    "Chaque ligne de texte ci-dessous est traduite dans le bloc suivant en une instruction dans un langage interprétable par la machine, à chaque alinéa correspond une instruction, la somme des instructions constitue un programme.\n",
    "\n",
    " * (l. 1) Demander l'utilisation des outils nécessaires, il s'agit de deux bibliothèques de programmes de base qui permettent d'interagir et de piloter les capteurs que nous avons choisis. Le nom de ces bibliothèques est mraa et upm\n",
    " * (l. 2) Parmi tous les pilotes disponibles nous devons utiliser le pilote pyupm_bmp280 (py pour python, upm nom de la librairie, _ séparateur, bme280 nom du capteur)\n",
    " * (l. 3) Déclarer le nom du capteur qu'on va utiliser (bme)\n",
    " * (l. 4) Mettre à jour le capteur (on utilise la commande préprogrammée dans le pilote \"update\")\n",
    " * (l. 5) Mesurer la température (on utilise la fonction préprogrammée dans le pilote \"getTemperature()\" on appelle la température tempBME)\n",
    " * (l. 6) Imprimer la température"
   ]
  },
  {
   "cell_type": "code",
   "execution_count": 15,
   "metadata": {},
   "outputs": [
    {
     "name": "stdout",
     "output_type": "stream",
     "text": [
      "20.19 °C\n"
     ]
    }
   ],
   "source": [
    "import mraa, upm\n",
    "from upm import pyupm_bmp280 as bmp\n",
    "bme = bmp.BME280(0,0x77)\n",
    "bme.update()\n",
    "tempBME = bme.getTemperature()\n",
    "print (\"{0:.2f} °C\".format(tempBME))"
   ]
  },
  {
   "cell_type": "markdown",
   "metadata": {},
   "source": [
    "## Afficher la température mesurée sur  l'afficheur\n",
    "\n",
    "Le bloc de code suivant permet d'afficher la température mesurée  par le capteur BME280 sur l'afficheur du cahier d'exercice voisin. L'affichage se fait en gris pendant 10 secondes.\n",
    "Le premier bloc reprend les déclarations explicitées ci-dessus en ajoutant les instructions nécessaires pour utiliser l'afficheur (voir le cahier dédié à l'afficheur). Pour plus de clarté (ce qui rajoute des lines de code) les adresses des capteurs et effecteurs sont passées par des variables :  lcdAddress, rgbAddress, bmeAddr, bus1.\n",
    "\n",
    "![Affichage des mesures du Capteur BME280](images/RaspberryPi_BME280Ecran.png)"
   ]
  },
  {
   "cell_type": "code",
   "execution_count": 16,
   "metadata": {},
   "outputs": [],
   "source": [
    "import mraa, time\n",
    "from upm import pyupm_bmp280 as bmp\n",
    "from upm import pyupm_jhd1313m1 as jdm\n",
    "\n",
    "lcdAddress = 0x3E\n",
    "rgbAddress = 0x62\n",
    "bus1 = 0\n",
    "bmeAddr = 0x77\n",
    "\n",
    "bme = bmp.BME280(bus1,bmeAddr)\n",
    "lcd = jdm.Jhd1313m1(bus1,lcdAddress,rgbAddress)\n",
    "\n",
    "status = lcd.clear()\n",
    "status = lcd.backlightOff()"
   ]
  },
  {
   "cell_type": "markdown",
   "metadata": {},
   "source": [
    "Le bloc suivant crée le dessin du carcatère degré car ce caractère n'existe pas par défaut dans l'afficheur. Le dessin est réalisé en codant la valeur (allumé ou éteint) de chacun des pixels."
   ]
  },
  {
   "cell_type": "code",
   "execution_count": 17,
   "metadata": {},
   "outputs": [
    {
     "data": {
      "text/plain": [
       "0"
      ]
     },
     "execution_count": 17,
     "metadata": {},
     "output_type": "execute_result"
    }
   ],
   "source": [
    "# création et enregistrement du caractère degré\n",
    "degree = (\n",
    "    0b01100,\n",
    "    0b10010,\n",
    "    0b01100,\n",
    "    0b00000,\n",
    "    0b00000,\n",
    "    0b00000,\n",
    "    0b00000,\n",
    "    0b00000)\n",
    "\n",
    "lcd.createChar(0,degree)"
   ]
  },
  {
   "cell_type": "markdown",
   "metadata": {},
   "source": [
    "## Afficher Température et pression sur l'afficheur\n",
    "\n",
    "Le bloc suivant réalise la mesure de température qui est stockée dans la variable tempBME dont la valeur est ensuite affichée sur l'afficheur.\n",
    "Les mesures sont affichées sur l'afficheur en utilisant le caractère spécial `degré` qui est dessiné  et ajouté."
   ]
  },
  {
   "cell_type": "code",
   "execution_count": 18,
   "metadata": {},
   "outputs": [],
   "source": [
    "# Mise à jour du capteur\n",
    "bme.update()\n",
    "#Mesure de la Température de la Pression et de l'humidité\n",
    "tempBME = bme.getTemperature()\n",
    "pressBME = bme.getPressure() / 100.0\n",
    "hygroBME = bme.getHumidity()\n",
    "\n",
    "#positionnement de l'affichage\n",
    "status = lcd.backlightOff()\n",
    "status = lcd.clear()\n",
    "lcd.setColor(255,0,0)\n",
    "lcd.setCursor(1, 0)\n",
    "#affichage du texte et de la valeur\n",
    "status = lcd.backlightOn()\n",
    "status = lcd.write(\"{0:.2f}\".format(tempBME))\n",
    "status = lcd.write(chr(0))\n",
    "status = lcd.write(\"C {0:.2f} %\".format(hygroBME))\n",
    "lcd.setCursor(2, 0)\n",
    "status = lcd.write(\"P : {0:6.2f} hPa\".format(pressBME))\n",
    "\n",
    "#maintien de l'affichage pendant un arc enciel de 76.5 secondes\n",
    "for i in range(0,255,1) :\n",
    "    lcd.setColor(255,i,0)\n",
    "    time.sleep(0.05)\n",
    "for i in range(0,255,1) :\n",
    "    lcd.setColor(255-i,255,0)\n",
    "    time.sleep(0.05)\n",
    "for i in range(0,255,1) :\n",
    "    lcd.setColor(0,255,i)\n",
    "    time.sleep(0.05)\n",
    "for i in range(0,255,1) :\n",
    "    lcd.setColor(0,255-i,255)\n",
    "    time.sleep(0.05)\n",
    "for i in range(0,255,1) :\n",
    "    lcd.setColor(i,0,255)\n",
    "    time.sleep(0.05)\n",
    "for i in range(0,255,1) :\n",
    "    lcd.setColor(255,0,255-i)\n",
    "    time.sleep(0.05)\n",
    "\n",
    "# effacement et extinction\n",
    "status = lcd.clear()\n",
    "status = lcd.backlightOff()"
   ]
  },
  {
   "cell_type": "markdown",
   "metadata": {},
   "source": [
    "## Ajouter une fonction pour calculer la pression au niveau de la mer ##\n",
    "\n",
    "La pression atmosphérique en un lieu dépend de son altitude. Pour pouvoir faire de la météorologie ou simplement comparer des mesures faites en différents endroits il faut partager une référence commune et le niveau de la mer est une solution simple et efficace. On convertit donc  notre mesure locale à la valeur qu'elle aurait  si nous étions au niveau de la mer. Il nous faut donc connaître notre altitude et importer des outils mathématiques. pour cela on ajoute la constante localAlt au programme et on importe la bibliothèque d'outils mathématiques de python.\n",
    "Il est probable que nous ayons à réutiliser ce calcul  dans d'autres programmes et il serait malin de pouvoir réutiliser simplement les lignes de code que nous allons écrire. Plutôt que les noyer dans le programme nous allons _définir une fonction_ qui prendra un _paramètre_ (la pression mesurée m_Pressure) et qui nous _retournera_ la valeur à laquelle cette mesure correspond au niveau de la mer (sl_Pressure pour sea-level pressure). Le paramètre est une variable tout comme la valeur retournée.\n",
    "La fonction est appelée ici convertSeaLevel() elle prend comme paramètre la variable mesurée par le capteur pressBME et fournit la variable décrivant  la pression au niveau de la mer seaLevelPress. On voit que les variables _locales_ utilisées par la fonction (m_Pressure, sl_Pressure) n'ont pas forcément le même nom que les variables _globales_ du programme principal (pressBME, seaLevelPress), cela permet de manipuler des noms de variables signifiants et cohérents avec leur contexte. Vous noterez que pouur souligner cette différence le nom des variables _locales à la fonction_ utilisent un système de séparation des mots (des \"\\_\") différent de celui du programme principal ( le CamelCase)."
   ]
  },
  {
   "cell_type": "code",
   "execution_count": 7,
   "metadata": {},
   "outputs": [],
   "source": [
    "# déclarations\n",
    "import mraa, time, math\n",
    "from upm import pyupm_bmp280 as bmp\n",
    "from upm import pyupm_jhd1313m1 as jdm\n",
    "\n",
    "lcdAddress = 0x3E\n",
    "rgbAddress = 0x62\n",
    "bus1 = 0\n",
    "bmeAddr = 0x77\n",
    "\n",
    "bme =bmp.BME280(bus1,bmeAddr)\n",
    "lcd = jdm.Jhd1313m1(bus1,lcdAddress,rgbAddress)\n",
    "status = lcd.clear()\n",
    "status = lcd.backlightOff()"
   ]
  },
  {
   "cell_type": "code",
   "execution_count": 8,
   "metadata": {},
   "outputs": [],
   "source": [
    "# définition de l'altitude locale\n",
    "localAlt = 156.5\n",
    "# Calcul de la pression au niveau de la mer\n",
    "def convertSeaLevel (m_Pressure):\n",
    "    sl_Pressure = m_Pressure / math.pow(1.0 - localAlt/44330, 5.255)\n",
    "    return sl_Pressure\n",
    "# fin du calcul"
   ]
  },
  {
   "cell_type": "code",
   "execution_count": 9,
   "metadata": {},
   "outputs": [
    {
     "data": {
      "text/plain": [
       "0"
      ]
     },
     "execution_count": 9,
     "metadata": {},
     "output_type": "execute_result"
    }
   ],
   "source": [
    "# dessin et enregistrement du caractère degré\n",
    "degree = (\n",
    "    0b01100,\n",
    "    0b10010,\n",
    "    0b01100,\n",
    "    0b00000,\n",
    "    0b00000,\n",
    "    0b00000,\n",
    "    0b00000,\n",
    "    0b00000)\n",
    "\n",
    "lcd.createChar(0,degree)"
   ]
  },
  {
   "cell_type": "code",
   "execution_count": null,
   "metadata": {},
   "outputs": [
    {
     "name": "stdout",
     "output_type": "stream",
     "text": [
      "Humidité : \tTempérature : \tPression : \tPression(mer) : \n",
      "42.35 %\t\t24.18 °C\t985.31 hPa\t1003.79 hPa\n"
     ]
    }
   ],
   "source": [
    "# Mise à jour du capteur\n",
    "bme.update()\n",
    "#Triple mesure\n",
    "tempBME = bme.getTemperature()\n",
    "pressBME = bme.getPressure() / 100.0\n",
    "hygroBME = bme.getHumidity()\n",
    "# calcul de la pression au niveau de la mer\n",
    "seaLevelPress = convertSeaLevel (pressBME)\n",
    "#impression des valeurs mesurées dans le cahier\n",
    "print ('Humidité : \\tTempérature : \\tPression : \\tPression(mer) : ')\n",
    "print (\"{0:.2f} %\\t\\t{1:.2f} °C\\t{2:.2f} hPa\\t{3:.2f} hPa\".format(hygroBME,tempBME,pressBME,seaLevelPress))\n",
    "# affichage des valeurs mesurées sur l'afficheur\n",
    "status = lcd.backlightOff()\n",
    "status = lcd.clear()\n",
    "lcd.setColor(128,0,192)\n",
    "lcd.setCursor(1, 0)\n",
    "status = lcd.backlightOn()\n",
    "status = lcd.write(\"Sea   : {0:6.2f} hPa\".format(seaLevelPress))\n",
    "status = lcd.write(\" Hum  : {0:.2f} %\".format(hygroBME))\n",
    "lcd.setCursor(2, 0)\n",
    "status = lcd.write(\"Press :  {0:6.2f} hPa\".format(pressBME))\n",
    "status = lcd.write(\" Temp : {0:.2f} \".format(tempBME))\n",
    "status = lcd.write(chr(0))\n",
    "status = lcd.write(\"C\")\n",
    "for i in range(0,68,1) :\n",
    "    lcd.scroll(True)\n",
    "    time.sleep(0.5)\n",
    "time.sleep(1)\n",
    "status = lcd.clear()\n",
    "status = lcd.backlightOff()"
   ]
  }
 ],
 "metadata": {
  "kernelspec": {
   "display_name": "Python 3",
   "language": "python",
   "name": "python3"
  },
  "language_info": {
   "codemirror_mode": {
    "name": "ipython",
    "version": 3
   },
   "file_extension": ".py",
   "mimetype": "text/x-python",
   "name": "python",
   "nbconvert_exporter": "python",
   "pygments_lexer": "ipython3",
   "version": "3.7.3rc1"
  }
 },
 "nbformat": 4,
 "nbformat_minor": 2
}
