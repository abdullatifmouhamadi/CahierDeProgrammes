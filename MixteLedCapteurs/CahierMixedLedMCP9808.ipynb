{
 "cells": [
  {
   "cell_type": "markdown",
   "metadata": {},
   "source": [
    "# Cahier de programme : Couplage Leds et Capteur de température.\n",
    "\n",
    "## objectif : \n",
    "\n",
    "Réaliser un programme qui donne une indication sur la température avec un changement de couleur de led."
   ]
  },
  {
   "cell_type": "code",
   "execution_count": 3,
   "metadata": {},
   "outputs": [
    {
     "name": "stdout",
     "output_type": "stream",
     "text": [
      "0\n",
      "0\n"
     ]
    }
   ],
   "source": [
    "#!/usr/bin/env python\n",
    "# -*- coding: utf-8 -*-\n",
    "\n",
    "import mraa, upm\n",
    "import time\n",
    "\n",
    "# LEDs pilotées par la broche 32 verte et la broche 33 rouge\n",
    "ledgreen = mraa.Gpio(32)\n",
    "ledred = mraa.Gpio(11)\n",
    "# Broches positionnées en sortie\n",
    "statusgreen = -1\n",
    "statusred = -1\n",
    "while statusgreen != 0 :\n",
    "    statusgreen = ledgreen.dir(mraa.DIR_OUT)\n",
    "print(statusgreen)\n",
    "while statusred != 0 :\n",
    "    statusred = ledred.dir(mraa.DIR_OUT)\n",
    "print(statusred)"
   ]
  },
  {
   "cell_type": "code",
   "execution_count": 4,
   "metadata": {},
   "outputs": [
    {
     "name": "stdout",
     "output_type": "stream",
     "text": [
      "LED Verte allumée 5 secondes\n",
      "LED Rouge allumée 5 secondes\n",
      "LEDs éteintes\n"
     ]
    },
    {
     "data": {
      "text/plain": [
       "0"
      ]
     },
     "execution_count": 4,
     "metadata": {},
     "output_type": "execute_result"
    }
   ],
   "source": [
    "# Extinction des LEDs\n",
    "ledgreen.write(0)\n",
    "ledred.write(0)\n",
    "print (\"LED Verte allumée 5 secondes\")\n",
    "ledgreen.write(1)\n",
    "time.sleep(5)\n",
    "ledgreen.write(0)\n",
    "print (\"LED Rouge allumée 5 secondes\")\n",
    "ledred.write(1)\n",
    "time.sleep(5)\n",
    "print(\"LEDs éteintes\")\n",
    "ledred.write(0)"
   ]
  },
  {
   "cell_type": "markdown",
   "metadata": {},
   "source": [
    "# Alerte dépassement de température\n",
    "\n",
    "Ce programme vous permet d'allumer une led verte tant que la température est inférieure à 25 °C et une led rouge si la température dépasse 25 °C\n",
    "\n",
    "Repérez les déclarations liées au GPIO qui pilote vos leds rouge et verte. La nomenclature des ports du GPIO a été choisie pour correspondre à ce qui est écrit sur le T-Cobbler plus."
   ]
  },
  {
   "cell_type": "code",
   "execution_count": 5,
   "metadata": {},
   "outputs": [
    {
     "name": "stdout",
     "output_type": "stream",
     "text": [
      "Alerte rouge si la température dépasse 25 °C\n",
      "Saisissez le nombre de mesures souhaitées : 30\n",
      "Saisissez l'intervalle entre 2 mesures en secondes : 2\n",
      "26.44 °C  ; 26.38 °C  ; 26.44 °C  ; 26.44 °C  ; 26.44 °C  ; 26.50 °C  ; 26.44 °C  ; 26.44 °C  ; 26.44 °C  ; 26.50 °C  ; 26.44 °C  ; 26.44 °C  ; 26.44 °C  ; 26.50 °C  ; 26.44 °C  ; 26.44 °C  ; 26.44 °C  ; 26.44 °C  ; 26.44 °C  ; 26.44 °C  ; 26.44 °C  ; 26.44 °C  ; 26.50 °C  ; 26.50 °C  ; 26.44 °C  ; 26.44 °C  ; 26.44 °C  ; 26.44 °C  ; 26.44 °C  ; 26.44 °C  ; "
     ]
    },
    {
     "data": {
      "text/plain": [
       "0"
      ]
     },
     "execution_count": 5,
     "metadata": {},
     "output_type": "execute_result"
    }
   ],
   "source": [
    "#!/usr/bin/env python\n",
    "# -*- coding: utf-8 -*-\n",
    "\n",
    "print(\"Alerte rouge si la température dépasse 25 °C\")\n",
    "from upm import pyupm_mcp9808 as mcp\n",
    "mcp = mcp.MCP9808(0)\n",
    "#ledg = mraa.Gpio(32)\n",
    "#ledr = mraa.Gpio(33)\n",
    "# Broches positionnées en sortie\n",
    "#ledg.dir(mraa.DIR_OUT)\n",
    "#ledr.dir(mraa.DIR_OUT)\n",
    "#bme.update()\n",
    "nombremesures=int(input(\"Saisissez le nombre de mesures souhaitées : \"))\n",
    "cycle=0\n",
    "pause=int(input(\"Saisissez l'intervalle entre 2 mesures en secondes : \"))\n",
    "while cycle < nombremesures:\n",
    "    tempMCP = mcp.getTemp()\n",
    "    if tempMCP < 25:\n",
    "        ledgreen.write(1)\n",
    "        ledred.write(0)\n",
    "    else:\n",
    "        ledgreen.write(0)\n",
    "        ledred.write(1)\n",
    "    manufacturer=mcp.getManufacturer()\n",
    "    hysteresis=mcp.getHysteresis()\n",
    "    print (\"{0:.2f} °C\".format(tempMCP),\" ; \",end='')\n",
    "    time.sleep(pause)\n",
    "    cycle=cycle+1\n",
    "\n",
    "#print(manufacturer,\" ; \",end='')\n",
    "#print(hysteresis,\" ; \",end='')\n",
    "ledgreen.write(0)\n",
    "ledred.write(0)"
   ]
  },
  {
   "cell_type": "markdown",
   "metadata": {},
   "source": [
    "# Un test sur mcp9808 avec affichage de la température mesurée graphiquement\n",
    "\n",
    "On importe les librairies nécessaires puis on décide de choisir le nombre de mesure à effectuer et le délai entre deux mesures.\n",
    "\n",
    "Cette version de détection de la température n'est pas couplée à une led mais à une indication sous forme de texte et un graphique est affiché à la fin des mesures. "
   ]
  },
  {
   "cell_type": "code",
   "execution_count": 25,
   "metadata": {},
   "outputs": [
    {
     "name": "stdout",
     "output_type": "stream",
     "text": [
      "Saisissez le nombre de mesures souhaitées : 10\n",
      "Saisissez l'intervalle entre 2 mesures en secondes : 1\n",
      "Température en °C : \n",
      "26.3 °C  ; \n",
      "26.3 °C  ; \n",
      "26.3 °C  ; \n",
      "26.3 °C  ; \n",
      "26.3 °C  ; \n",
      "26.3 °C  ; \n",
      "26.3 °C  ; \n",
      "26.3 °C  ; \n",
      "26.3 °C  ; \n",
      "26.3 °C  ; \n",
      "26.3 °C  ; \n"
     ]
    },
    {
     "data": {
      "image/png": "[encoded data removed]",
      "text/plain": [
       "<matplotlib.figure.Figure at 0x6f7f09b0>"
      ]
     },
     "metadata": {},
     "output_type": "display_data"
    },
    {
     "name": "stdout",
     "output_type": "stream",
     "text": [
      "manufacturer =  84  ; hysteresis =  0.0  ; "
     ]
    }
   ],
   "source": [
    "import mraa, upm\n",
    "import time\n",
    "\n",
    "from upm import pyupm_mcp9808 as mcp\n",
    "\n",
    "mcp = mcp.MCP9808(0)\n",
    "#bme.update()\n",
    "nombremesures=int(input(\"Saisissez le nombre de mesures souhaitées : \"))\n",
    "cycle=0\n",
    "valeurs=[0]*(nombremesures+1)\n",
    "abscisse=[0]*(nombremesures+1)\n",
    "pause=int(input(\"Saisissez l'intervalle entre 2 mesures en secondes : \"))\n",
    "print(\"Température en °C : \")\n",
    "while cycle <= nombremesures:\n",
    "    tempMCP = mcp.getTemp()\n",
    "    valeurs[cycle]=tempMCP\n",
    "    abscisse[cycle]=cycle\n",
    "    manufacturer=mcp.getManufacturer()\n",
    "    hysteresis=mcp.getHysteresis()\n",
    "    print (\"{0:.1f} °C\".format(tempMCP),\" ; \")\n",
    "    time.sleep(pause)\n",
    "    cycle=cycle+1\n",
    "plt.plot(abscisse, valeurs, 'ro', color=\"blue\")\n",
    "plt.axis([0, nombremesures, 0, 35 ])\n",
    "plt.xlabel(\"Numéro de la mesure\")\n",
    "plt.ylabel(\"Température en °C\")\n",
    "plt.show()\n",
    "print(\"manufacturer = \",manufacturer,\" ; \",end='')\n",
    "print(\"hysteresis = \",hysteresis,\" ; \",end='')"
   ]
  },
  {
   "cell_type": "code",
   "execution_count": null,
   "metadata": {},
   "outputs": [],
   "source": []
  },
  {
   "cell_type": "markdown",
   "metadata": {},
   "source": []
  },
  {
   "cell_type": "markdown",
   "metadata": {},
   "source": []
  }
 ],
 "metadata": {
  "kernelspec": {
   "display_name": "Python 3",
   "language": "python",
   "name": "python3"
  },
  "language_info": {
   "codemirror_mode": {
    "name": "ipython",
    "version": 3
   },
   "file_extension": ".py",
   "mimetype": "text/x-python",
   "name": "python",
   "nbconvert_exporter": "python",
   "pygments_lexer": "ipython3",
   "version": "3.5.3"
  }
 },
 "nbformat": 4,
 "nbformat_minor": 2
}
