{
 "cells": [
  {
   "cell_type": "markdown",
   "metadata": {},
   "source": [
    "\n",
    "|  |\n",
    "| ------------------------------------------------------- | \n",
    "| ![Tremplin des sciences](images/tremplinColorSmall.png) | \n",
    "\n",
    "Cahier d'exercices pour l'enseignement et l'apprentissage de programmation issu de la collection \"Climat et météo tremplin pour l'enseignement des sciences\" (PIA IFÉ ENS de Lyon - Météofrance ENM Toulouse). Le dispositif clef en main repose sur l'utilisation d'une RaspberryPi chargée avec le système d'exploitation Debian enrichi, fourni par le projet. Les sources et les exécutables sont accessibles dans [l'espace collaboratif de la forge github](https://github.com/g-vidal/CahierDeProgrammes); plus d'information sur les [blogs d'accompagnement](http://blog.climatetmeteo.fr/GerardVidal/) systèmes d'exploitation sur [la page des OS  de Raspberries Pi](http://mediaserv.climatetmeteo.fr/images/RaspBerry/DebianStretchPi3/).  Toutes les ressources issues du projet sont fournies sous licence [Creative Commons](https://creativecommons.org/licenses/by-nc/4.0/) ou sous les licences libres d'origine des outils utilisés. Les ressources  du projet peuvent être utilisées dans tout autre environnement compatible.![licence : Creative Commons](images/Licence.jpg) \n",
    "\n",
    "Auteurs : G. Vidal, E. le Jan, C-H. Eyraud\n",
    "\n",
    "\n",
    "# Mesure du CO2 ambiant avec le capteur MH-Z16\n",
    "\n",
    "ce capteur détecte des valeurs de 0 à 2000ppm et se situe donc dans la gamme détectable en temps réel dans l'atmosphère terrestre ordinaire.\n",
    "\n",
    "Le capteur utilisé ici est en version UART il faut donc configurer la RaspberryPi pour que le port série soit accessible."
   ]
  },
  {
   "cell_type": "markdown",
   "metadata": {},
   "source": [
    "## Configuration préalable du port série de la Raspberry Pi\n",
    "\n",
    "Dans sa configuration normale le port série `/dev/ttyAMA0` est capturé pour fournir lla communication via le bluetooth il faut donc activer le port série secondaire `/dev/ttyS0` en ajoutant dans le fichier `/boot/config.txt` la ligne\n",
    "\n",
    "```shell\n",
    "enable_uart=1\n",
    "```\n",
    "Il faut ensuite veiller à bien utiliser ce port série."
   ]
  },
  {
   "cell_type": "code",
   "execution_count": 24,
   "metadata": {},
   "outputs": [],
   "source": [
    "import mraa, upm\n",
    "from time import sleep\n",
    "from upm import pyupm_mhz16 as mhz\n",
    "\n",
    "mesCO2 = mhz.MHZ16(99,'/dev/ttyS0')"
   ]
  },
  {
   "cell_type": "code",
   "execution_count": 49,
   "metadata": {},
   "outputs": [
    {
     "name": "stdout",
     "output_type": "stream",
     "text": [
      "Concentration en CO² :  517 PPM. Température du capteur :  29 °C.\n",
      "Concentration en CO² :  512 PPM. Température du capteur :  29 °C.\n",
      "Concentration en CO² :  506 PPM. Température du capteur :  29 °C.\n",
      "Concentration en CO² :  501 PPM. Température du capteur :  29 °C.\n",
      "Concentration en CO² :  499 PPM. Température du capteur :  29 °C.\n",
      "Concentration en CO² :  497 PPM. Température du capteur :  29 °C.\n",
      "Concentration en CO² :  493 PPM. Température du capteur :  29 °C.\n",
      "Concentration en CO² :  493 PPM. Température du capteur :  29 °C.\n",
      "Concentration en CO² :  494 PPM. Température du capteur :  29 °C.\n",
      "Concentration en CO² :  497 PPM. Température du capteur :  29 °C.\n",
      "Concentration en CO² :  501 PPM. Température du capteur :  29 °C.\n",
      "Concentration en CO² :  506 PPM. Température du capteur :  28 °C.\n",
      "Concentration en CO² :  509 PPM. Température du capteur :  28 °C.\n",
      "Concentration en CO² :  511 PPM. Température du capteur :  28 °C.\n",
      "Concentration en CO² :  512 PPM. Température du capteur :  28 °C.\n",
      "Concentration en CO² :  515 PPM. Température du capteur :  28 °C.\n",
      "Concentration en CO² :  515 PPM. Température du capteur :  28 °C.\n",
      "Concentration en CO² :  518 PPM. Température du capteur :  28 °C.\n",
      "Concentration en CO² :  521 PPM. Température du capteur :  28 °C.\n",
      "Concentration en CO² :  522 PPM. Température du capteur :  28 °C.\n",
      "Concentration en CO² :  525 PPM. Température du capteur :  28 °C.\n",
      "Concentration en CO² :  524 PPM. Température du capteur :  28 °C.\n",
      "Concentration en CO² :  525 PPM. Température du capteur :  28 °C.\n",
      "Concentration en CO² :  525 PPM. Température du capteur :  28 °C.\n",
      "Concentration en CO² :  525 PPM. Température du capteur :  28 °C.\n",
      "Concentration en CO² :  521 PPM. Température du capteur :  28 °C.\n",
      "Concentration en CO² :  517 PPM. Température du capteur :  28 °C.\n",
      "Concentration en CO² :  514 PPM. Température du capteur :  28 °C.\n",
      "Concentration en CO² :  514 PPM. Température du capteur :  28 °C.\n",
      "Concentration en CO² :  513 PPM. Température du capteur :  28 °C.\n",
      "Concentration en CO² :  514 PPM. Température du capteur :  28 °C.\n",
      "Concentration en CO² :  515 PPM. Température du capteur :  28 °C.\n",
      "Concentration en CO² :  513 PPM. Température du capteur :  28 °C.\n",
      "Concentration en CO² :  511 PPM. Température du capteur :  28 °C.\n",
      "Concentration en CO² :  511 PPM. Température du capteur :  28 °C.\n",
      "Concentration en CO² :  506 PPM. Température du capteur :  28 °C.\n",
      "Concentration en CO² :  505 PPM. Température du capteur :  28 °C.\n",
      "Concentration en CO² :  500 PPM. Température du capteur :  28 °C.\n",
      "Concentration en CO² :  499 PPM. Température du capteur :  28 °C.\n",
      "Concentration en CO² :  497 PPM. Température du capteur :  28 °C.\n",
      "Concentration en CO² :  494 PPM. Température du capteur :  28 °C.\n",
      "Concentration en CO² :  648 PPM. Température du capteur :  28 °C.\n",
      "Concentration en CO² :  844 PPM. Température du capteur :  28 °C.\n",
      "Concentration en CO² : 1066 PPM. Température du capteur :  28 °C.\n",
      "Concentration en CO² : 1678 PPM. Température du capteur :  28 °C.\n",
      "Concentration en CO² : 1917 PPM. Température du capteur :  28 °C.\n",
      "Concentration en CO² : 2000 PPM. Température du capteur :  28 °C.\n",
      "Concentration en CO² : 2000 PPM. Température du capteur :  28 °C.\n"
     ]
    },
    {
     "ename": "KeyboardInterrupt",
     "evalue": "",
     "output_type": "error",
     "traceback": [
      "\u001b[0;31m---------------------------------------------------------------------------\u001b[0m",
      "\u001b[0;31mKeyboardInterrupt\u001b[0m                         Traceback (most recent call last)",
      "\u001b[0;32m<ipython-input-49-aca4a7df76df>\u001b[0m in \u001b[0;36m<module>\u001b[0;34m()\u001b[0m\n\u001b[1;32m     11\u001b[0m         print (\"Concentration en CO² : {0:4d} PPM.\".format(value),\n\u001b[1;32m     12\u001b[0m                \"Température du capteur : {0:3d} °C.\".format(temp))\n\u001b[0;32m---> 13\u001b[0;31m         \u001b[0msleep\u001b[0m\u001b[0;34m(\u001b[0m\u001b[0;36m2\u001b[0m\u001b[0;34m)\u001b[0m\u001b[0;34m\u001b[0m\u001b[0m\n\u001b[0m",
      "\u001b[0;31mKeyboardInterrupt\u001b[0m: "
     ]
    }
   ],
   "source": [
    "if (not mesCO2.setupTty(9600)) :\n",
    "    print (\"Problème sur l'initialisation du port à 9600bauds\\n\")\n",
    "\n",
    "for num in range(0,200) :\n",
    "    if (not mesCO2.getData()) :\n",
    "        print (\"Pas de donnée mesurable\\n\")\n",
    "\n",
    "    else :\n",
    "        value = mesCO2.getGas()\n",
    "        temp = mesCO2.getTemperature()\n",
    "        print (\"Concentration en CO² : {0:4d} PPM.\".format(value),\n",
    "               \"Température du capteur : {0:3d} °C.\".format(temp))\n",
    "        sleep(2)"
   ]
  },
  {
   "cell_type": "code",
   "execution_count": null,
   "metadata": {},
   "outputs": [],
   "source": []
  },
  {
   "cell_type": "code",
   "execution_count": null,
   "metadata": {},
   "outputs": [],
   "source": []
  }
 ],
 "metadata": {
  "kernelspec": {
   "display_name": "Python 3",
   "language": "python",
   "name": "python3"
  },
  "language_info": {
   "codemirror_mode": {
    "name": "ipython",
    "version": 3
   },
   "file_extension": ".py",
   "mimetype": "text/x-python",
   "name": "python",
   "nbconvert_exporter": "python",
   "pygments_lexer": "ipython3",
   "version": "3.6.5rc1"
  }
 },
 "nbformat": 4,
 "nbformat_minor": 2
}
