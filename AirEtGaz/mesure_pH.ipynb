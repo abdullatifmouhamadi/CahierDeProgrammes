{
 "cells": [
  {
   "cell_type": "markdown",
   "metadata": {},
   "source": [
    "\n",
    "|  |\n",
    "| ------------------------------------------------------- | \n",
    "| ![Tremplin des sciences](images/tremplinColorSmall.png) | \n",
    "\n",
    "Cahier d'exercices pour l'enseignement et l'apprentissage de programmation issu de la collection \"Climat et météo tremplin pour l'enseignement des sciences\" (PIA IFÉ ENS de Lyon - Météofrance ENM Toulouse). Le dispositif clef en main repose sur l'utilisation d'une RaspberryPi chargée avec le système d'exploitation Debian enrichi, fourni par le projet. Les sources et les exécutables sont accessibles dans [l'espace collaboratif de la forge github](https://github.com/g-vidal/CahierDeProgrammes); plus d'information sur les [blogs d'accompagnement](http://blog.climatetmeteo.fr/GerardVidal/) systèmes d'exploitation sur [la page des OS  de Raspberries Pi](http://mediaserv.climatetmeteo.fr/images/RaspBerry/DebianStretchPi3/).  Toutes les ressources issues du projet sont fournies sous licence [Creative Commons](https://creativecommons.org/licenses/by-nc/4.0/) ou sous les licences libres d'origine des outils utilisés. Les ressources  du projet peuvent être utilisées dans tout autre environnement compatible.![licence : Creative Commons](images/Licence.jpg) \n",
    "\n",
    "Auteurs : G. Vidal, C-H. Eyraud, E. le Jan\n",
    "\n",
    "------------------------------------------------------------"
   ]
  },
  {
   "cell_type": "markdown",
   "metadata": {},
   "source": [
    "# Mesure du pH d'une solution \n",
    "\n",
    "Les instruments de mesure de concentration gazeuses de la famille MQ  fournissent un signal analogique c'est pourquoi il faut les convertir en signal numérique pour pouvoir les exploiter avec une RaspberryPI\n",
    "\n",
    "## Utilisation de convertisseurs Analogique --> digital\n",
    "\n",
    "Nous avons à notre disposition deux convertisseurs analogique numérique dont le fonctionnement est identique. Ce qui les diffférencie est la grandeur privilégiée: fréquence d'échantillonnage pour le premier, précision de l'échantillonnage pour le second.\n",
    "\n",
    " * [ADS1015](https://iotdk.intel.com/docs/master/upm/classupm_1_1_a_d_s1015.html) Résolution de 12 bit, Fréquence d'échantillonnage Min : 128 Hz Max :3300 Hz (SPS_128 à SPS_3300)\n",
    " * [ADS1115](https://iotdk.intel.com/docs/master/upm/classupm_1_1_a_d_s1115.html) Résolution  de 16 bit, Fréquence d'échantillonage Min : 8 Hz Max : 860 Hz (SPS_8 à SPS_860)\n",
    "\n",
    "dont le fonctionnement est totalement identique. Ce qui les diffférencie est la grandeur privilégiée, pour le premier c'est la fréquence de l'échantillonnage aux dépens de l'échantillonnage de la valeur mesurée pour le second c'est l'inverse. La totalité des commandes sont communes sauf la gamme de réglage de ces deux paramètres, hautes fréquences pour le `ADS1015`et basses fréquences pour le `ADS1115`.\n",
    "\n",
    "Deux modes de fonctionnement sont possibles :\n",
    " * en mode différentiel le signal est mesuré par différence entre la broche de sortie et la masse\n",
    " * en mode direct le signal est mesuré directement sur la broche de sortie\n",
    "Nous disposons de 3 capteurs et de 4 broches d'échantillonnage sur le convertisseur, nous ferons deux mesures directes et une mesure par différence. L'exploitation fine de ces éléments requiert le calibrage des capteurs analogiques et le choix des bons paramètres de configuration. L'exemple simple présenté ici a été réalisé en mode direct pour le capteur qualité et le capteur aclcool en mode différentiel pour le capteur méthane.\n",
    "\n",
    "La figure ci-dessous présente le matériel acheté pour mesurer le pH (et la température)\n",
    "\n",
    "https://www.diymore.cc/collections/ph-value-detect-sensor\n",
    "\n",
    "![Convertisseurs vue générale](images/pHSensorDIY.jpg)\n",
    "                        ![licence : Gérard Vidal](images/Licence.jpg)\n",
    "                        \n",
    "Le câblage du convertisseurs ne présente pas de difficulté particulière, le point requérant un peu d'attention est le choix de l'adresse qui sera envoyée sur le bus `I2C` car il faut choisir cette adresse parmi les 4 possibles :  `0x49` `0x48` `0x4B` `0x4A`. Le choix se fait en établissant une connexion entre la broche `ADDR` et l'une des 4 broches `VDD` `GND` `SCL` `SDA`. Le tableau ci-dessous indique les équivalences des connexions :\n",
    "\n",
    "| Broche | Adresse |\n",
    "|:------ | ------- |\n",
    "| `VDD`  | `0x49`  |\n",
    "| `GND`  | `0x48`  |\n",
    "| `SCL`  | `0x4B`  |\n",
    "| `SDA`  | `0x4A`  |\n",
    "\n",
    "\n",
    "L'image suivante montre la connexion de la carte connectée au RaspberyPi et en BNC au capteur de pH\n",
    "\n",
    "![Convertisseurs vue du câblage](images/pH_montage.jpg)\n",
    "                        ![licence : Gérard Vidal](images/Licence.jpg)\n",
    "\n",
    "\n",
    "Importation des librairies nécessaires à l'utilisation du convertisseur. On n'importe aucune librairie propre aux capteurs de gaz car il s'agit de capteurs `analogiques` qui transmettent une variation de potentiel sur un fil série."
   ]
  },
  {
   "cell_type": "code",
   "execution_count": 1,
   "metadata": {},
   "outputs": [],
   "source": [
    "import mraa, upm\n",
    "from time import sleep\n",
    "from upm import pyupm_ads1x15 as upm"
   ]
  },
  {
   "cell_type": "markdown",
   "metadata": {},
   "source": [
    "## Récupération des paramètres d'état de l'échantillonneur\n",
    "\n",
    "La configuration se base sur le [descriptif du composant (datasheet)](https://cdn-shop.adafruit.com/datasheets/ads1015.pdf)\n",
    "\n",
    "On déclare ici l'échantillonneur et on récupère les valeurs de ses paramètres d'opération (gain, fréquence et mode). \n",
    " * getGain()\n",
    " * getSPS()\n",
    " * getContinuous()\n",
    " \n",
    "On fixe ensuite ces paramètres pour la manipulation que l'on souhaite effectuer.\n",
    " * setGain()\n",
    " * setSPS()\n",
    " * setContinuous()\n",
    " \n",
    "Le paramètre SPS contrôle la fréquence d'échantillonnage, pour des mesures de teneur en gaz les basses fréquences de l'`ADS1115` sont largement suffisantes.\n",
    "\n",
    "Pour ADS1015  :\n",
    "\n",
    "la commande est `setSPS(rate=SPS_1600)`; les valeurs possibles étant :  SPS_128, SPS_250, SPS_490, SPS_920, SPS_1600, SPS_2400, SPS_3300.\n",
    "\n",
    "Pour ADS1115 : \n",
    "\n",
    "la commande est `setSPS(rate=SPS_32)`; les valeurs possibles étant :  SPS_8, SPS_16, SPS_32, SPS_64,\n",
    "  SPS_128, SPS_250, SPS_475, SPS_860. \n",
    "  \n",
    "Le choix du gain est aussi un paramètre crucila les valeurs possibles sont :  `GAIN_TWOTHIRDS` = ADS1X15_PGA_6_144V, `GAIN_ONE` = ADS1X15_PGA_4_096V, `GAIN_TWO` = ADS1X15_PGA_2_048V, `GAIN_FOUR` = ADS1X15_PGA_1_024V,\n",
    "  `GAIN_EIGHT` = ADS1X15_PGA_0_512V, `GAIN_SIXTEEN` = ADS1X15_PGA_0_256V. La valeur doit être choisie en fonction des propriétés du capteur."
   ]
  },
  {
   "cell_type": "code",
   "execution_count": 2,
   "metadata": {},
   "outputs": [
    {
     "name": "stdout",
     "output_type": "stream",
     "text": [
      "Gain :   512  SPS :   128 Continuous :     0\n",
      "\n",
      "Nouvelles valeurs :\n",
      "Gain : 512.00  SPS :     0 Continuous :     1\n"
     ]
    }
   ],
   "source": [
    "sensorph = upm.ADS1015(0, 0x49)\n",
    "gain = sensorph.getGain()\n",
    "sps = sensorph.getSPS()\n",
    "cont = sensorph.getContinuous() \n",
    "rate=sensorph.SPS_128\n",
    "print (\"Gain : {0:5d}\".format(gain),\" SPS : {0:5d}\".format(sps), \n",
    "       \"Continuous : {0:5d}\".format(cont))\n",
    "sensorph.setContinuous(True) # Pour ne pas faire de conversion en continu\n",
    "sensorph.setGain(upm.ADS1X15.GAIN_ONE) # Passage à un gain 6.144 V\n",
    "sensorph.setSPS(rate) # Passage à une fréquence de 250\n",
    "# Vérification\n",
    "gain = sensorph.getGain()\n",
    "sps = sensorph.getSPS()\n",
    "cont = sensorph.getContinuous() \n",
    "print (\"\\nNouvelles valeurs :\")\n",
    "print (\"Gain : {0:2.2f}\".format(gain),\" SPS : {0:5d}\".format(sps), \n",
    "       \"Continuous : {0:5d}\".format(cont))"
   ]
  },
  {
   "cell_type": "markdown",
   "metadata": {},
   "source": [
    "## Mesure directe des variables pH et température\n",
    "\n",
    "Les deux premières mesures sont effectués directement, la troisième est faite par différence."
   ]
  },
  {
   "cell_type": "code",
   "execution_count": 3,
   "metadata": {},
   "outputs": [
    {
     "name": "stdout",
     "output_type": "stream",
     "text": [
      "pH : 1.5100001097\t Température : 3.6800000668\t pH diff : 2.1600001\t Temp diff : 3.7100003\n",
      "\n"
     ]
    }
   ],
   "source": [
    "pH = sensorph.getSample(upm.ADS1X15.SINGLE_1)\n",
    "temp = sensorph.getSample(upm.ADS1X15.SINGLE_3)\n",
    "diff_temp = sensorph.getSample(upm.ADS1X15.DIFF_0_3)\n",
    "diff_pH = sensorph.getSample(upm.ADS1X15.DIFF_0_1)\n",
    "print (\"pH : {0:.10f}\\t\".format(pH),\n",
    "       \"Température : {0:.10f}\\t\".format(temp),\n",
    "       \"pH diff : {0:.7f}\\t\".format(diff_temp),\n",
    "       \"Temp diff : {0:.7f}\\n\".format(diff_pH))"
   ]
  },
  {
   "cell_type": "markdown",
   "metadata": {},
   "source": [
    "# série de mesures à l'aide d'une boucle\n",
    "Dans le groupe suivant on répète 20 fois la mesure en partant de 0 et en allant jusqu'à 19 (inférieur à 20) au pas de 1 par défaut."
   ]
  },
  {
   "cell_type": "code",
   "execution_count": 5,
   "metadata": {},
   "outputs": [
    {
     "name": "stdout",
     "output_type": "stream",
     "text": [
      "pH : 2.1579999924\t Température : 3.7040002346\t pH diff : 2.1620001793\t Temp diff : 3.7020001411\t\n",
      "pH : 2.1620001793\t Température : 3.7200002670\t pH diff : 2.1620001793\t Temp diff : 3.7260000706\t\n",
      "pH : 2.1600000858\t Température : 3.7100002766\t pH diff : 2.1640000343\t Temp diff : 2.1620001793\t\n",
      "pH : 2.1620001793\t Température : 3.7080001831\t pH diff : 2.1640000343\t Temp diff : 3.7360000610\t\n",
      "pH : 2.1620001793\t Température : 3.7280001640\t pH diff : 2.1640000343\t Temp diff : 3.7040002346\t\n"
     ]
    }
   ],
   "source": [
    "for num in range(0,5):\n",
    "    pH = sensorph.getSample(upm.ADS1X15.SINGLE_1)\n",
    "    temp = sensorph.getSample(upm.ADS1X15.SINGLE_3)\n",
    "    diff_temp = sensorph.getSample(upm.ADS1X15.DIFF_0_3)\n",
    "    diff_pH = sensorph.getSample(upm.ADS1X15.DIFF_0_1)\n",
    "    print (\"pH : {0:.10f}\\t\".format(pH),\n",
    "       \"Température : {0:.10f}\\t\".format(temp),\n",
    "       \"pH diff : {0:.10f}\\t\".format(diff_temp),\n",
    "       \"Temp diff : {0:.10f}\\t\".format(diff_pH))    \n",
    "    sleep(1)"
   ]
  },
  {
   "cell_type": "code",
   "execution_count": null,
   "metadata": {},
   "outputs": [],
   "source": []
  }
 ],
 "metadata": {
  "kernelspec": {
   "display_name": "Python 3",
   "language": "python",
   "name": "python3"
  },
  "language_info": {
   "codemirror_mode": {
    "name": "ipython",
    "version": 3
   },
   "file_extension": ".py",
   "mimetype": "text/x-python",
   "name": "python",
   "nbconvert_exporter": "python",
   "pygments_lexer": "ipython3",
   "version": "3.5.3"
  }
 },
 "nbformat": 4,
 "nbformat_minor": 2
}
