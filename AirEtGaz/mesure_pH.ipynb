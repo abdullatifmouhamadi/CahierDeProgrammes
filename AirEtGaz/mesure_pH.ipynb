{
 "cells": [
  {
   "cell_type": "markdown",
   "metadata": {},
   "source": [
    "\n",
    "|  |\n",
    "| ------------------------------------------------------- | \n",
    "| ![Tremplin des sciences](images/tremplinColorSmall.png) | \n",
    "\n",
    "Cahier d'exercices pour l'enseignement et l'apprentissage de programmation issu de la collection \"Climat et météo tremplin pour l'enseignement des sciences\" (PIA IFÉ ENS de Lyon - Météofrance ENM Toulouse). Le dispositif clef en main repose sur l'utilisation d'une RaspberryPi chargée avec le système d'exploitation Debian enrichi, fourni par le projet. Les sources et les exécutables sont accessibles dans [l'espace collaboratif de la forge github](https://github.com/g-vidal/CahierDeProgrammes); plus d'information sur les [blogs d'accompagnement](http://blog.climatetmeteo.fr/GerardVidal/) systèmes d'exploitation sur [la page des OS  de Raspberries Pi](http://mediaserv.climatetmeteo.fr/images/RaspBerry/DebianStretchPi3/).  Toutes les ressources issues du projet sont fournies sous licence [Creative Commons](https://creativecommons.org/licenses/by-nc/4.0/) ou sous les licences libres d'origine des outils utilisés. Les ressources  du projet peuvent être utilisées dans tout autre environnement compatible.![licence : Creative Commons](images/Licence.jpg) \n",
    "\n",
    "Auteurs : G. Vidal, C-H. Eyraud, E. le Jan\n",
    "\n",
    "------------------------------------------------------------"
   ]
  },
  {
   "cell_type": "markdown",
   "metadata": {},
   "source": [
    "# Mesure du pH d'une solution \n",
    "\n",
    "Les instruments de mesure de concentration gazeuses de la famille MQ  fournissent un signal analogique c'est pourquoi il faut les convertir en signal numérique pour pouvoir les exploiter avec une RaspberryPI\n",
    "\n",
    "## Utilisation de convertisseurs Analogique --> digital\n",
    "\n",
    "Nous avons à notre disposition deux convertisseurs analogique numérique dont le fonctionnement est identique. Ce qui les diffférencie est la grandeur privilégiée: fréquence d'échantillonnage pour le premier, précision de l'échantillonnage pour le second.\n",
    "\n",
    " * [ADS1015](https://iotdk.intel.com/docs/master/upm/classupm_1_1_a_d_s1015.html) Résolution de 12 bit, Fréquence d'échantillonnage Min : 128 Hz Max :3300 Hz (SPS_128 à SPS_3300)\n",
    " * [ADS1115](https://iotdk.intel.com/docs/master/upm/classupm_1_1_a_d_s1115.html) Résolution  de 16 bit, Fréquence d'échantillonage Min : 8 Hz Max : 860 Hz (SPS_8 à SPS_860)\n",
    "\n",
    "dont le fonctionnement est totalement identique. Ce qui les diffférencie est la grandeur privilégiée, pour le premier c'est la fréquence de l'échantillonnage aux dépens de l'échantillonnage de la valeur mesurée pour le second c'est l'inverse. La totalité des commandes sont communes sauf la gamme de réglage de ces deux paramètres, hautes fréquences pour le `ADS1015`et basses fréquences pour le `ADS1115`.\n",
    "\n",
    "Deux modes de fonctionnement sont possibles :\n",
    " * en mode différentiel le signal est mesuré par différence entre la broche de sortie et la masse\n",
    " * en mode direct le signal est mesuré directement sur la broche de sortie\n",
    "Nous disposons de 3 capteurs et de 4 broches d'échantillonnage sur le convertisseur, nous ferons deux mesures directes et une mesure par différence. L'exploitation fine de ces éléments requiert le calibrage des capteurs analogiques et le choix des bons paramètres de configuration. L'exemple simple présenté ici a été réalisé en mode direct pour le capteur qualité et le capteur aclcool en mode différentiel pour le capteur méthane.\n",
    "\n",
    "La figure ci-dessous présente le matériel acheté pour mesurer le pH (et la température)\n",
    "\n",
    "https://www.diymore.cc/collections/ph-value-detect-sensor\n",
    "\n",
    "![Convertisseurs vue générale](images/pHSensorDIY.jpg)\n",
    "                        ![licence : Gérard Vidal](images/Licence.jpg)\n",
    "                        \n",
    "Le câblage du convertisseurs ne présente pas de difficulté particulière, le point requérant un peu d'attention est le choix de l'adresse qui sera envoyée sur le bus `I2C` car il faut choisir cette adresse parmi les 4 possibles :  `0x49` `0x48` `0x4B` `0x4A`. Le choix se fait en établissant une connexion entre la broche `ADDR` et l'une des 4 broches `VDD` `GND` `SCL` `SDA`. Le tableau ci-dessous indique les équivalences des connexions :\n",
    "\n",
    "| Broche | Adresse |\n",
    "|:------ | ------- |\n",
    "| `VDD`  | `0x49`  |\n",
    "| `GND`  | `0x48`  |\n",
    "| `SCL`  | `0x4B`  |\n",
    "| `SDA`  | `0x4A`  |\n",
    "\n",
    "\n",
    "L'image suivante montre la connexion de la carte connectée au RaspberyPi et en BNC au capteur de pH\n",
    "\n",
    "![Convertisseurs vue du câblage](images/pH_montage.jpg)\n",
    "                        ![licence : Gérard Vidal](images/Licence.jpg)\n",
    "\n",
    "\n",
    "Importation des librairies nécessaires à l'utilisation du convertisseur. On n'importe aucune librairie propre aux capteurs de gaz car il s'agit de capteurs `analogiques` qui transmettent une variation de potentiel sur un fil série."
   ]
  },
  {
   "cell_type": "code",
   "execution_count": 103,
   "metadata": {},
   "outputs": [],
   "source": [
    "import mraa, upm\n",
    "from time import sleep\n",
    "from upm import pyupm_ads1x15 as upm"
   ]
  },
  {
   "cell_type": "markdown",
   "metadata": {},
   "source": [
    "## Récupération des paramètres d'état de l'échantillonneur\n",
    "\n",
    "La configuration se base sur le [descriptif du composant (datasheet)](https://cdn-shop.adafruit.com/datasheets/ads1015.pdf)\n",
    "\n",
    "On déclare ici l'échantillonneur et on récupère les valeurs de ses paramètres d'opération (gain, fréquence et mode). \n",
    " * getGain()\n",
    " * getSPS()\n",
    " * getContinuous()\n",
    " \n",
    "On fixe ensuite ces paramètres pour la manipulation que l'on souhaite effectuer.\n",
    " * setGain()\n",
    " * setSPS()\n",
    " * setContinuous()\n",
    " \n",
    "Le paramètre SPS contrôle la fréquence d'échantillonnage, pour des mesures de teneur en gaz les basses fréquences de l'`ADS1115` sont largement suffisantes.\n",
    "\n",
    "Pour ADS1015  :\n",
    "\n",
    "la commande est `setSPS(rate=SPS_1600)`; les valeurs possibles étant :  SPS_128, SPS_250, SPS_490, SPS_920, SPS_1600, SPS_2400, SPS_3300.\n",
    "\n",
    "Pour ADS1115 : \n",
    "\n",
    "la commande est `setSPS(rate=SPS_32)`; les valeurs possibles étant :  SPS_8, SPS_16, SPS_32, SPS_64,\n",
    "  SPS_128, SPS_250, SPS_475, SPS_860. \n",
    "  \n",
    "Le choix du gain est aussi un paramètre crucila les valeurs possibles sont :  `GAIN_TWOTHIRDS` = ADS1X15_PGA_6_144V, `GAIN_ONE` = ADS1X15_PGA_4_096V, `GAIN_TWO` = ADS1X15_PGA_2_048V, `GAIN_FOUR` = ADS1X15_PGA_1_024V,\n",
    "  `GAIN_EIGHT` = ADS1X15_PGA_0_512V, `GAIN_SIXTEEN` = ADS1X15_PGA_0_256V. La valeur doit être choisie en fonction des propriétés du capteur."
   ]
  },
  {
   "cell_type": "code",
   "execution_count": 104,
   "metadata": {},
   "outputs": [
    {
     "name": "stdout",
     "output_type": "stream",
     "text": [
      "Gain :   512  SPS :   128 Continuous :     0\n",
      "\n",
      "Nouvelles valeurs :\n",
      "Gain : 512.00  SPS :     0 Continuous :     1\n"
     ]
    }
   ],
   "source": [
    "sensorph = upm.ADS1015(0, 0x49)\n",
    "gain = sensorph.getGain()\n",
    "sps = sensorph.getSPS()\n",
    "cont = sensorph.getContinuous() \n",
    "rate=sensorph.SPS_128\n",
    "print (\"Gain : {0:5d}\".format(gain),\" SPS : {0:5d}\".format(sps), \n",
    "       \"Continuous : {0:5d}\".format(cont))\n",
    "sensorph.setContinuous(True) # Pour ne pas faire de conversion en continu\n",
    "sensorph.setGain(upm.ADS1X15.GAIN_ONE) # Passage à un gain 6.144 V\n",
    "sensorph.setSPS(rate) # Passage à une fréquence de 250\n",
    "# Vérification\n",
    "gain = sensorph.getGain()\n",
    "sps = sensorph.getSPS()\n",
    "cont = sensorph.getContinuous() \n",
    "print (\"\\nNouvelles valeurs :\")\n",
    "print (\"Gain : {0:2.2f}\".format(gain),\" SPS : {0:5d}\".format(sps), \n",
    "       \"Continuous : {0:5d}\".format(cont))"
   ]
  },
  {
   "cell_type": "markdown",
   "metadata": {},
   "source": [
    "## Mesure directe des variables pH et température\n",
    "\n",
    "Les deux premières mesures sont effectués directement, la troisième est faite par différence."
   ]
  },
  {
   "cell_type": "code",
   "execution_count": 105,
   "metadata": {},
   "outputs": [
    {
     "name": "stdout",
     "output_type": "stream",
     "text": [
      "pH : 0.4220000207\t Température : 3.8040001392\t pH diff : 3.3820002\t Temp diff : 3.8040001\n",
      "\n"
     ]
    }
   ],
   "source": [
    "pH = sensorph.getSample(upm.ADS1X15.SINGLE_0)\n",
    "temp = sensorph.getSample(upm.ADS1X15.SINGLE_1)\n",
    "diff_temp = sensorph.getSample(upm.ADS1X15.DIFF_0_3)\n",
    "diff_pH = sensorph.getSample(upm.ADS1X15.DIFF_1_3)\n",
    "print (\"pH : {0:.10f}\\t\".format(pH),\n",
    "       \"Température : {0:.10f}\\t\".format(temp),\n",
    "       \"pH diff : {0:.7f}\\t\".format(diff_temp),\n",
    "       \"Temp diff : {0:.7f}\\n\".format(diff_pH))"
   ]
  },
  {
   "cell_type": "markdown",
   "metadata": {},
   "source": [
    "# série de mesures à l'aide d'une boucle\n",
    "Dans le groupe suivant on répète 20 fois la mesure en partant de 0 et en allant jusqu'à 19 (inférieur à 20) au pas de 1 par défaut."
   ]
  },
  {
   "cell_type": "code",
   "execution_count": 106,
   "metadata": {},
   "outputs": [
    {
     "name": "stdout",
     "output_type": "stream",
     "text": [
      "pH : 3.8120002747\t Température : 3.8100001812\t pH diff : 3.3800001144\t Temp diff : 3.8020002842\t\n",
      "pH : 3.3560001850\t Température : 3.8080000877\t pH diff : 3.3800001144\t Temp diff : 3.3140001297\t\n",
      "pH : 3.3800001144\t Température : 3.8040001392\t pH diff : 3.8100001812\t Temp diff : 3.8060002327\t\n",
      "pH : 3.3280000687\t Température : 3.8180000782\t pH diff : 3.3760001659\t Temp diff : 3.8060002327\t\n",
      "pH : 3.3760001659\t Température : 3.8120002747\t pH diff : 3.3220002651\t Temp diff : 3.8100001812\t\n",
      "pH : 3.3220002651\t Température : 3.8160002232\t pH diff : 3.2960002422\t Temp diff : 3.7980000973\t\n",
      "pH : 3.2920000553\t Température : 3.8160002232\t pH diff : 3.3140001297\t Temp diff : 3.7980000973\t\n",
      "pH : 3.8160002232\t Température : 3.8160002232\t pH diff : 3.2900002003\t Temp diff : 3.8040001392\t\n",
      "pH : 3.2880001068\t Température : 3.8200001717\t pH diff : 3.2940001488\t Temp diff : 3.3600001335\t\n",
      "pH : 3.2820000648\t Température : 3.3540000916\t pH diff : 3.2860002518\t Temp diff : 3.8040001392\t\n",
      "pH : 3.2840001583\t Température : 3.8120002747\t pH diff : 3.2920000553\t Temp diff : 3.8100001812\t\n",
      "pH : 3.2800002098\t Température : 3.8200001717\t pH diff : 3.3520002365\t Temp diff : 3.8000001907\t\n",
      "pH : 3.3340001106\t Température : 3.8180000782\t pH diff : 3.2900002003\t Temp diff : 3.8060002327\t\n",
      "pH : 3.2800002098\t Température : 3.8160002232\t pH diff : 3.3500001431\t Temp diff : 3.8000001907\t\n",
      "pH : 3.3320002556\t Température : 3.8040001392\t pH diff : 3.3580002785\t Temp diff : 3.2920000553\t\n",
      "pH : 3.3640000820\t Température : 3.8040001392\t pH diff : 3.3020000458\t Temp diff : 3.8060002327\t\n",
      "pH : 3.3100001812\t Température : 3.2760002613\t pH diff : 3.3580002785\t Temp diff : 3.8100001812\t\n",
      "pH : 3.8200001717\t Température : 3.8140001297\t pH diff : 3.3020000458\t Temp diff : 3.8060002327\t\n",
      "pH : 3.3080000877\t Température : 3.8060002327\t pH diff : 3.2800002098\t Temp diff : 3.2780001163\t\n",
      "pH : 3.2760002613\t Température : 3.8140001297\t pH diff : 3.3000001907\t Temp diff : 3.8100001812\t\n",
      "pH : 3.2640001774\t Température : 3.3220002651\t pH diff : 3.2760002613\t Temp diff : 3.8060002327\t\n",
      "pH : 3.2740001678\t Température : 3.8140001297\t pH diff : 3.2680001259\t Temp diff : 3.8000001907\t\n",
      "pH : 3.2600002289\t Température : 3.8080000877\t pH diff : 3.3180000782\t Temp diff : 3.8060002327\t\n",
      "pH : 3.2980000973\t Température : 3.8100001812\t pH diff : 3.8060002327\t Temp diff : 3.8100001812\t\n",
      "pH : 3.3560001850\t Température : 3.3140001297\t pH diff : 3.3140001297\t Temp diff : 3.8060002327\t\n",
      "pH : 3.8060002327\t Température : 3.8160002232\t pH diff : 3.3580002785\t Temp diff : 3.8060002327\t\n",
      "pH : 3.3540000916\t Température : 3.8040001392\t pH diff : 3.3180000782\t Temp diff : 3.8080000877\t\n",
      "pH : 3.3200001717\t Température : 3.8140001297\t pH diff : 3.8060002327\t Temp diff : 3.8080000877\t\n",
      "pH : 3.2680001259\t Température : 3.8180000782\t pH diff : 3.3200001717\t Temp diff : 3.8060002327\t\n",
      "pH : 3.3300001621\t Température : 3.8200001717\t pH diff : 3.2720000744\t Temp diff : 3.8020002842\t\n",
      "pH : 3.2660002708\t Température : 3.8140001297\t pH diff : 3.2480001450\t Temp diff : 3.8020002842\t\n",
      "pH : 3.2500002384\t Température : 3.8120002747\t pH diff : 3.8100001812\t Temp diff : 3.8100001812\t\n",
      "pH : 3.2780001163\t Température : 3.8160002232\t pH diff : 3.2540001869\t Temp diff : 3.8060002327\t\n",
      "pH : 3.2480001450\t Température : 3.8180000782\t pH diff : 3.2880001068\t Temp diff : 3.8040001392\t\n",
      "pH : 3.2740001678\t Température : 3.8060002327\t pH diff : 3.3580002785\t Temp diff : 3.3140001297\t\n",
      "pH : 3.3220002651\t Température : 3.8060002327\t pH diff : 3.8100001812\t Temp diff : 3.8060002327\t\n",
      "pH : 3.3340001106\t Température : 3.2740001678\t pH diff : 3.3580002785\t Temp diff : 3.8000001907\t\n",
      "pH : 3.8140001297\t Température : 3.8060002327\t pH diff : 3.3020000458\t Temp diff : 3.8100001812\t\n",
      "pH : 3.2980000973\t Température : 3.8140001297\t pH diff : 3.2720000744\t Temp diff : 3.8000001907\t\n",
      "pH : 3.7080001831\t Température : 3.8120002747\t pH diff : 3.6820001602\t Temp diff : 3.8080000877\t\n",
      "pH : 3.8040001392\t Température : 3.8160002232\t pH diff : 3.8460001945\t Temp diff : 3.8020002842\t\n",
      "pH : 3.8080000877\t Température : 3.8120002747\t pH diff : 3.7960002422\t Temp diff : 3.7980000973\t\n",
      "pH : 3.7680001259\t Température : 3.8120002747\t pH diff : 3.8460001945\t Temp diff : 3.7980000973\t\n",
      "pH : 3.8080000877\t Température : 3.8180000782\t pH diff : 3.8100001812\t Temp diff : 3.7900002003\t\n",
      "pH : 3.7680001259\t Température : 3.8140001297\t pH diff : 3.8220002651\t Temp diff : 3.7940001488\t\n",
      "pH : 3.7880001068\t Température : 3.8160002232\t pH diff : 3.8100001812\t Temp diff : 3.7960002422\t\n",
      "pH : 3.8080000877\t Température : 3.8180000782\t pH diff : 3.8180000782\t Temp diff : 3.7800002098\t\n",
      "pH : 3.7860002518\t Température : 3.8120002747\t pH diff : 3.8140001297\t Temp diff : 3.7720000744\t\n",
      "pH : 3.8040001392\t Température : 3.8140001297\t pH diff : 3.7920002937\t Temp diff : 3.7840001583\t\n",
      "pH : 3.8060002327\t Température : 3.8140001297\t pH diff : 3.8180000782\t Temp diff : 3.7720000744\t\n",
      "pH : 3.8040001392\t Température : 3.8060002327\t pH diff : 3.8100001812\t Temp diff : 3.7940001488\t\n",
      "pH : 3.7920002937\t Température : 3.8140001297\t pH diff : 3.8400001526\t Temp diff : 3.7760002613\t\n",
      "pH : 3.8100001812\t Température : 3.8240001202\t pH diff : 3.8080000877\t Temp diff : 3.7900002003\t\n",
      "pH : 3.8140001297\t Température : 3.8100001812\t pH diff : 3.8400001526\t Temp diff : 3.8020002842\t\n",
      "pH : 3.8100001812\t Température : 3.8180000782\t pH diff : 3.8260002136\t Temp diff : 3.8000001907\t\n",
      "pH : 3.7920002937\t Température : 3.8080000877\t pH diff : 3.8100001812\t Temp diff : 3.8020002842\t\n",
      "pH : 3.7760002613\t Température : 3.8200001717\t pH diff : 3.8180000782\t Temp diff : 3.7980000973\t\n",
      "pH : 3.8040001392\t Température : 3.8120002747\t pH diff : 3.8100001812\t Temp diff : 3.7860002518\t\n",
      "pH : 3.8020002842\t Température : 3.8220002651\t pH diff : 3.8160002232\t Temp diff : 3.7760002613\t\n",
      "pH : 3.8040001392\t Température : 3.8160002232\t pH diff : 3.8000001907\t Temp diff : 3.7880001068\t\n",
      "pH : 3.7880001068\t Température : 3.8140001297\t pH diff : 3.8340001106\t Temp diff : 3.7720000744\t\n",
      "pH : 3.8060002327\t Température : 3.8140001297\t pH diff : 3.8000001907\t Temp diff : 3.7840001583\t\n",
      "pH : 3.7880001068\t Température : 3.8100001812\t pH diff : 3.8340001106\t Temp diff : 3.8020002842\t\n",
      "pH : 3.8060002327\t Température : 3.8120002747\t pH diff : 3.8340001106\t Temp diff : 3.7880001068\t\n",
      "pH : 3.7940001488\t Température : 3.8020002842\t pH diff : 3.8320002556\t Temp diff : 3.8000001907\t\n",
      "pH : 3.8020002842\t Température : 3.8080000877\t pH diff : 3.8360002041\t Temp diff : 3.8080000877\t\n",
      "pH : 3.8020002842\t Température : 3.8120002747\t pH diff : 3.8040001392\t Temp diff : 3.7940001488\t\n",
      "pH : 3.7660002708\t Température : 3.8120002747\t pH diff : 3.8380002975\t Temp diff : 3.8080000877\t\n",
      "pH : 3.8020002842\t Température : 3.8080000877\t pH diff : 3.8000001907\t Temp diff : 3.7960002422\t\n",
      "pH : 3.7660002708\t Température : 3.8080000877\t pH diff : 3.8160002232\t Temp diff : 3.7780001163\t\n",
      "pH : 3.8000001907\t Température : 3.7920002937\t pH diff : 3.8000001907\t Temp diff : 3.7900002003\t\n",
      "pH : -0.0080000004\t Température : 0.3060000241\t pH diff : 0.4160000086\t Temp diff : -0.1560000032\t\n",
      "pH : 0.0000000000\t Température : 1.8780001402\t pH diff : 0.1160000041\t Temp diff : -0.0520000011\t\n",
      "pH : 0.0020000001\t Température : 0.2620000243\t pH diff : 0.5120000243\t Temp diff : -0.1500000060\t\n",
      "pH : 0.7820000648\t Température : 2.0840001106\t pH diff : 0.1880000085\t Temp diff : -0.0500000007\t\n",
      "pH : 0.0020000001\t Température : 2.4560000896\t pH diff : 0.3080000281\t Temp diff : -0.0060000001\t\n",
      "pH : 0.0080000004\t Température : 0.8720000386\t pH diff : 2.0620000362\t Temp diff : -0.0240000002\t\n",
      "pH : 0.0000000000\t Température : 0.1260000020\t pH diff : 2.5860002041\t Temp diff : -0.0400000028\t\n",
      "pH : -0.0100000007\t Température : 0.9680000544\t pH diff : 2.0060000420\t Temp diff : -0.0360000022\t\n",
      "pH : 0.0020000001\t Température : 0.1740000099\t pH diff : 2.6920001507\t Temp diff : 0.0000000000\t\n",
      "pH : 0.0080000004\t Température : 1.1860001087\t pH diff : 1.7100000381\t Temp diff : -0.0200000014\t\n",
      "pH : 0.0040000002\t Température : 0.1960000098\t pH diff : 2.8240001202\t Temp diff : 0.0000000000\t\n",
      "pH : -0.0080000004\t Température : 1.4240000248\t pH diff : 1.4920001030\t Temp diff : -0.0460000038\t\n",
      "pH : 0.0040000002\t Température : 0.2120000124\t pH diff : 2.9300000668\t Temp diff : -0.0180000011\t\n",
      "pH : -0.0080000004\t Température : 0.0120000001\t pH diff : -0.0760000050\t Temp diff : -0.0160000008\t\n",
      "pH : 1.0440000296\t Température : -0.1620000005\t pH diff : 3.2700002193\t Temp diff : 0.0240000002\t\n",
      "pH : -0.0040000002\t Température : 0.2020000070\t pH diff : 2.0420000553\t Temp diff : 0.0000000000\t\n",
      "pH : -0.0060000001\t Température : 0.2280000150\t pH diff : 2.3180000782\t Temp diff : 0.2040000111\t\n",
      "pH : 0.0000000000\t Température : 0.2220000178\t pH diff : 2.2520000935\t Temp diff : -0.0160000008\t\n",
      "pH : -0.0020000001\t Température : 0.5480000377\t pH diff : 1.5940001011\t Temp diff : -0.1200000048\t\n",
      "pH : 0.0000000000\t Température : 0.8820000291\t pH diff : 1.6340000629\t Temp diff : 0.2460000068\t\n",
      "pH : 0.0000000000\t Température : 0.4380000234\t pH diff : 1.5800000429\t Temp diff : 0.0000000000\t\n",
      "pH : 0.0000000000\t Température : 0.6860000491\t pH diff : 1.3820000887\t Temp diff : 0.2740000188\t\n"
     ]
    },
    {
     "ename": "RuntimeError",
     "evalue": "UPM Runtime Error: updateConfigRegister: I2c.write() failed",
     "output_type": "error",
     "traceback": [
      "\u001b[0;31m---------------------------------------------------------------------------\u001b[0m",
      "\u001b[0;31mRuntimeError\u001b[0m                              Traceback (most recent call last)",
      "\u001b[0;32m<ipython-input-106-b2779d3a7eb7>\u001b[0m in \u001b[0;36m<module>\u001b[0;34m\u001b[0m\n\u001b[1;32m      1\u001b[0m \u001b[0;32mfor\u001b[0m \u001b[0mnum\u001b[0m \u001b[0;32min\u001b[0m \u001b[0mrange\u001b[0m\u001b[0;34m(\u001b[0m\u001b[0;36m0\u001b[0m\u001b[0;34m,\u001b[0m\u001b[0;36m100\u001b[0m\u001b[0;34m)\u001b[0m\u001b[0;34m:\u001b[0m\u001b[0;34m\u001b[0m\u001b[0;34m\u001b[0m\u001b[0m\n\u001b[0;32m----> 2\u001b[0;31m     \u001b[0mpH\u001b[0m \u001b[0;34m=\u001b[0m \u001b[0msensorph\u001b[0m\u001b[0;34m.\u001b[0m\u001b[0mgetSample\u001b[0m\u001b[0;34m(\u001b[0m\u001b[0mupm\u001b[0m\u001b[0;34m.\u001b[0m\u001b[0mADS1X15\u001b[0m\u001b[0;34m.\u001b[0m\u001b[0mSINGLE_0\u001b[0m\u001b[0;34m)\u001b[0m\u001b[0;34m\u001b[0m\u001b[0;34m\u001b[0m\u001b[0m\n\u001b[0m\u001b[1;32m      3\u001b[0m     \u001b[0mtemp\u001b[0m \u001b[0;34m=\u001b[0m \u001b[0msensorph\u001b[0m\u001b[0;34m.\u001b[0m\u001b[0mgetSample\u001b[0m\u001b[0;34m(\u001b[0m\u001b[0mupm\u001b[0m\u001b[0;34m.\u001b[0m\u001b[0mADS1X15\u001b[0m\u001b[0;34m.\u001b[0m\u001b[0mSINGLE_1\u001b[0m\u001b[0;34m)\u001b[0m\u001b[0;34m\u001b[0m\u001b[0;34m\u001b[0m\u001b[0m\n\u001b[1;32m      4\u001b[0m     \u001b[0mdiff_temp\u001b[0m \u001b[0;34m=\u001b[0m \u001b[0msensorph\u001b[0m\u001b[0;34m.\u001b[0m\u001b[0mgetSample\u001b[0m\u001b[0;34m(\u001b[0m\u001b[0mupm\u001b[0m\u001b[0;34m.\u001b[0m\u001b[0mADS1X15\u001b[0m\u001b[0;34m.\u001b[0m\u001b[0mDIFF_0_3\u001b[0m\u001b[0;34m)\u001b[0m\u001b[0;34m\u001b[0m\u001b[0;34m\u001b[0m\u001b[0m\n\u001b[1;32m      5\u001b[0m     \u001b[0mdiff_pH\u001b[0m \u001b[0;34m=\u001b[0m \u001b[0msensorph\u001b[0m\u001b[0;34m.\u001b[0m\u001b[0mgetSample\u001b[0m\u001b[0;34m(\u001b[0m\u001b[0mupm\u001b[0m\u001b[0;34m.\u001b[0m\u001b[0mADS1X15\u001b[0m\u001b[0;34m.\u001b[0m\u001b[0mDIFF_1_3\u001b[0m\u001b[0;34m)\u001b[0m\u001b[0;34m\u001b[0m\u001b[0;34m\u001b[0m\u001b[0m\n",
      "\u001b[0;32m/usr/lib/python3.7/dist-packages/upm/pyupm_ads1x15.py\u001b[0m in \u001b[0;36mgetSample\u001b[0;34m(self, *args)\u001b[0m\n\u001b[1;32m    172\u001b[0m \u001b[0;34m\u001b[0m\u001b[0m\n\u001b[1;32m    173\u001b[0m     \u001b[0;32mdef\u001b[0m \u001b[0mgetSample\u001b[0m\u001b[0;34m(\u001b[0m\u001b[0mself\u001b[0m\u001b[0;34m,\u001b[0m \u001b[0;34m*\u001b[0m\u001b[0margs\u001b[0m\u001b[0;34m)\u001b[0m\u001b[0;34m:\u001b[0m\u001b[0;34m\u001b[0m\u001b[0;34m\u001b[0m\u001b[0m\n\u001b[0;32m--> 174\u001b[0;31m         \u001b[0;32mreturn\u001b[0m \u001b[0m_pyupm_ads1x15\u001b[0m\u001b[0;34m.\u001b[0m\u001b[0mADS1X15_getSample\u001b[0m\u001b[0;34m(\u001b[0m\u001b[0mself\u001b[0m\u001b[0;34m,\u001b[0m \u001b[0;34m*\u001b[0m\u001b[0margs\u001b[0m\u001b[0;34m)\u001b[0m\u001b[0;34m\u001b[0m\u001b[0;34m\u001b[0m\u001b[0m\n\u001b[0m\u001b[1;32m    175\u001b[0m \u001b[0;34m\u001b[0m\u001b[0m\n\u001b[1;32m    176\u001b[0m     \u001b[0;32mdef\u001b[0m \u001b[0mgetGain\u001b[0m\u001b[0;34m(\u001b[0m\u001b[0mself\u001b[0m\u001b[0;34m)\u001b[0m\u001b[0;34m:\u001b[0m\u001b[0;34m\u001b[0m\u001b[0;34m\u001b[0m\u001b[0m\n",
      "\u001b[0;31mRuntimeError\u001b[0m: UPM Runtime Error: updateConfigRegister: I2c.write() failed"
     ]
    }
   ],
   "source": [
    "for num in range(0,100):\n",
    "    pH = sensorph.getSample(upm.ADS1X15.SINGLE_0)\n",
    "    temp = sensorph.getSample(upm.ADS1X15.SINGLE_1)\n",
    "    diff_temp = sensorph.getSample(upm.ADS1X15.DIFF_0_3)\n",
    "    diff_pH = sensorph.getSample(upm.ADS1X15.DIFF_1_3)\n",
    "    print (\"pH : {0:.10f}\\t\".format(pH),\n",
    "       \"Température : {0:.10f}\\t\".format(temp),\n",
    "       \"pH diff : {0:.10f}\\t\".format(diff_temp),\n",
    "       \"Temp diff : {0:.10f}\\t\".format(diff_pH))    \n",
    "    sleep(1)"
   ]
  },
  {
   "cell_type": "code",
   "execution_count": null,
   "metadata": {},
   "outputs": [],
   "source": []
  }
 ],
 "metadata": {
  "kernelspec": {
   "display_name": "Python 3",
   "language": "python",
   "name": "python3"
  },
  "language_info": {
   "codemirror_mode": {
    "name": "ipython",
    "version": 3
   },
   "file_extension": ".py",
   "mimetype": "text/x-python",
   "name": "python",
   "nbconvert_exporter": "python",
   "pygments_lexer": "ipython3",
   "version": "3.7.3"
  }
 },
 "nbformat": 4,
 "nbformat_minor": 2
}
